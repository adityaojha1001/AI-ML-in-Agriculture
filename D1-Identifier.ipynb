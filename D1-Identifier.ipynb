{
 "cells": [
  {
   "cell_type": "markdown",
   "id": "074df7bf-0b4b-4f43-b188-d84f1aa6d0d1",
   "metadata": {},
   "source": [
    "# Python Introduction"
   ]
  },
  {
   "cell_type": "code",
   "execution_count": null,
   "id": "026d15aa-611d-4073-9f09-f5dc07b45060",
   "metadata": {},
   "outputs": [],
   "source": [
    "# 1. Brackets Roles\n",
    "# 2. Rules for Identifiers\n",
    "# 2a.Keywords\n",
    "# 3. Operators\n",
    "# 4. Data types\n",
    "# 5. Control Statements\n",
    "#     a. Decesion Making\n",
    "#     b. Looping\n",
    "# 6. Functions\n",
    "# 7. Modules/Libraries"
   ]
  },
  {
   "cell_type": "code",
   "execution_count": null,
   "id": "ae7c6998-7fdf-486e-b2e4-d33c120ec6a4",
   "metadata": {},
   "outputs": [],
   "source": [
    "# Brackets\n",
    "# ( ) - Funtions/Arguments, Mathematical Expression, Tuple\n",
    "# [ ] - Indexing/Slicing, list\n",
    "# { } - dictionary, set\n",
    "# < > - NA"
   ]
  },
  {
   "cell_type": "markdown",
   "id": "b8513985-a7de-4b5e-a5a6-292f55cd6065",
   "metadata": {},
   "source": [
    "Identifiers"
   ]
  },
  {
   "cell_type": "code",
   "execution_count": 1,
   "id": "68b5f358-c098-46bb-8be6-7638272d48c3",
   "metadata": {},
   "outputs": [],
   "source": [
    "a = 13.75*28.95678"
   ]
  },
  {
   "cell_type": "code",
   "execution_count": 2,
   "id": "5ea091dc-6f77-46f6-8a7d-003d2f32a1cc",
   "metadata": {},
   "outputs": [
    {
     "name": "stdout",
     "output_type": "stream",
     "text": [
      "398.15572499999996\n"
     ]
    }
   ],
   "source": [
    "print(a)"
   ]
  },
  {
   "cell_type": "code",
   "execution_count": 3,
   "id": "aaeebcbb-6044-436d-89a0-7160218dae99",
   "metadata": {},
   "outputs": [
    {
     "data": {
      "text/plain": [
       "398.15572499999996"
      ]
     },
     "execution_count": 3,
     "metadata": {},
     "output_type": "execute_result"
    }
   ],
   "source": [
    "a"
   ]
  },
  {
   "cell_type": "code",
   "execution_count": 4,
   "id": "13fe1b1f-4007-4d2a-90d1-6fe08535072e",
   "metadata": {},
   "outputs": [],
   "source": [
    "b = 20"
   ]
  },
  {
   "cell_type": "code",
   "execution_count": 5,
   "id": "2efc0f58-2a6a-41f8-b545-60605d4b4347",
   "metadata": {},
   "outputs": [],
   "source": [
    "good = 50"
   ]
  },
  {
   "cell_type": "code",
   "execution_count": 6,
   "id": "826491b9-0959-42f7-8879-c20cbba4c65e",
   "metadata": {},
   "outputs": [],
   "source": [
    "a1 = 54"
   ]
  },
  {
   "cell_type": "code",
   "execution_count": 7,
   "id": "f267cd87-ecbd-4187-ae53-66539c5ed33c",
   "metadata": {},
   "outputs": [
    {
     "ename": "SyntaxError",
     "evalue": "invalid syntax (3779227787.py, line 1)",
     "output_type": "error",
     "traceback": [
      "\u001b[1;36m  File \u001b[1;32m\"C:\\Users\\ctae\\AppData\\Local\\Temp\\ipykernel_4636\\3779227787.py\"\u001b[1;36m, line \u001b[1;32m1\u001b[0m\n\u001b[1;33m    1a = 65\u001b[0m\n\u001b[1;37m     ^\u001b[0m\n\u001b[1;31mSyntaxError\u001b[0m\u001b[1;31m:\u001b[0m invalid syntax\n"
     ]
    }
   ],
   "source": [
    "1a = 65"
   ]
  },
  {
   "cell_type": "code",
   "execution_count": 8,
   "id": "9df9eadd-cc86-467c-b771-93a6ebfcfb0b",
   "metadata": {},
   "outputs": [],
   "source": [
    "a_ = 74"
   ]
  },
  {
   "cell_type": "code",
   "execution_count": 9,
   "id": "def909ae-87c8-4b96-88ed-c5b5e4976715",
   "metadata": {},
   "outputs": [
    {
     "ename": "SyntaxError",
     "evalue": "invalid syntax (301234720.py, line 1)",
     "output_type": "error",
     "traceback": [
      "\u001b[1;36m  File \u001b[1;32m\"C:\\Users\\ctae\\AppData\\Local\\Temp\\ipykernel_4636\\301234720.py\"\u001b[1;36m, line \u001b[1;32m1\u001b[0m\n\u001b[1;33m    a$ = 45\u001b[0m\n\u001b[1;37m     ^\u001b[0m\n\u001b[1;31mSyntaxError\u001b[0m\u001b[1;31m:\u001b[0m invalid syntax\n"
     ]
    }
   ],
   "source": [
    "a$ = 45"
   ]
  },
  {
   "cell_type": "code",
   "execution_count": 10,
   "id": "0a2f5071-4ae3-4e7c-ad4d-3e91f875d7b6",
   "metadata": {},
   "outputs": [],
   "source": [
    "_a = 7557"
   ]
  },
  {
   "cell_type": "code",
   "execution_count": 11,
   "id": "ccff9cbb-d467-4436-989c-4256b9a02b3a",
   "metadata": {},
   "outputs": [
    {
     "ename": "SyntaxError",
     "evalue": "invalid syntax (349647461.py, line 1)",
     "output_type": "error",
     "traceback": [
      "\u001b[1;36m  File \u001b[1;32m\"C:\\Users\\ctae\\AppData\\Local\\Temp\\ipykernel_4636\\349647461.py\"\u001b[1;36m, line \u001b[1;32m1\u001b[0m\n\u001b[1;33m    a b =4654568\u001b[0m\n\u001b[1;37m      ^\u001b[0m\n\u001b[1;31mSyntaxError\u001b[0m\u001b[1;31m:\u001b[0m invalid syntax\n"
     ]
    }
   ],
   "source": [
    "a b =4654568"
   ]
  },
  {
   "cell_type": "code",
   "execution_count": 14,
   "id": "d81ad628-0559-4091-9c16-cc186d49e562",
   "metadata": {},
   "outputs": [],
   "source": [
    "Aa = 84768648"
   ]
  },
  {
   "cell_type": "code",
   "execution_count": 15,
   "id": "a6ceccd0-8b36-41f8-bb0f-72b331c1afe1",
   "metadata": {},
   "outputs": [
    {
     "ename": "TypeError",
     "evalue": "cannot unpack non-iterable int object",
     "output_type": "error",
     "traceback": [
      "\u001b[1;31m---------------------------------------------------------------------------\u001b[0m",
      "\u001b[1;31mTypeError\u001b[0m                                 Traceback (most recent call last)",
      "\u001b[1;32m~\\AppData\\Local\\Temp\\ipykernel_4636\\757583945.py\u001b[0m in \u001b[0;36m<module>\u001b[1;34m\u001b[0m\n\u001b[1;32m----> 1\u001b[1;33m \u001b[0ma\u001b[0m\u001b[1;33m,\u001b[0m\u001b[0mb\u001b[0m \u001b[1;33m=\u001b[0m \u001b[1;36m14\u001b[0m\u001b[1;33m\u001b[0m\u001b[1;33m\u001b[0m\u001b[0m\n\u001b[0m",
      "\u001b[1;31mTypeError\u001b[0m: cannot unpack non-iterable int object"
     ]
    }
   ],
   "source": [
    "a,b = 14"
   ]
  },
  {
   "cell_type": "code",
   "execution_count": 18,
   "id": "5de99d4e-282f-40c3-9134-3c2fca2fd431",
   "metadata": {},
   "outputs": [],
   "source": [
    "a,b = 12,5648564"
   ]
  },
  {
   "cell_type": "markdown",
   "id": "a6ddd71a-3f95-4950-b92b-aa1cdbca7c3e",
   "metadata": {},
   "source": [
    "## Rules for identifier"
   ]
  },
  {
   "cell_type": "code",
   "execution_count": 20,
   "id": "a6eda083-2f1d-47eb-8417-5cbb70dff0cf",
   "metadata": {},
   "outputs": [],
   "source": [
    "# It can contain alphanumeric only, special character are not allowed except for _\n",
    "# Any identifier can't start with number\n",
    "# Only _ is also allowed"
   ]
  },
  {
   "cell_type": "code",
   "execution_count": 3,
   "id": "92a512d0-de25-461f-b0f6-f4d95a051cfc",
   "metadata": {},
   "outputs": [],
   "source": [
    "#-------------------------------------------------------------------------------------------------------------------------------------------"
   ]
  },
  {
   "cell_type": "code",
   "execution_count": 7,
   "id": "34f54057-976c-4698-86fe-af110e626caa",
   "metadata": {},
   "outputs": [
    {
     "name": "stdout",
     "output_type": "stream",
     "text": [
      "['False', 'None', 'True', '__peg_parser__', 'and', 'as', 'assert', 'async', 'await', 'break', 'class', 'continue', 'def', 'del', 'elif', 'else', 'except', 'finally', 'for', 'from', 'global', 'if', 'import', 'in', 'is', 'lambda', 'nonlocal', 'not', 'or', 'pass', 'raise', 'return', 'try', 'while', 'with', 'yield']\n"
     ]
    }
   ],
   "source": [
    "# Keywords\n",
    "import keyword\n",
    "print(keyword.kwlist)\n",
    "keyword_num = keyword.kwlist"
   ]
  },
  {
   "cell_type": "code",
   "execution_count": 10,
   "id": "253078a6-6372-4302-b9d7-04722ce74fb2",
   "metadata": {},
   "outputs": [
    {
     "data": {
      "text/plain": [
       "36"
      ]
     },
     "execution_count": 10,
     "metadata": {},
     "output_type": "execute_result"
    }
   ],
   "source": [
    "len(keyword_num)"
   ]
  },
  {
   "cell_type": "code",
   "execution_count": 11,
   "id": "c90c1c53-a695-4e1a-93fe-60a80b3bf839",
   "metadata": {},
   "outputs": [],
   "source": [
    "#-------------------------------------------------------------------------------------------------------------------------------------------"
   ]
  },
  {
   "cell_type": "raw",
   "id": "37398f87-7685-4305-b921-c405f153eacf",
   "metadata": {},
   "source": [
    "#Operators\n",
    "1. Arthimetic: +,-,*,/,**,//,%\n",
    "2. Relational: >,<, ==, !=, >=, <=\n",
    "3. Logical: and or not\n",
    "4. Assignment: =, +=, -=, *=, **=, //=, %=\n",
    "5. Bitwise: &, |, ^, ~, <<, >>\n",
    "6. Membership: in, not in\n",
    "7. Identity: us, is not"
   ]
  },
  {
   "cell_type": "markdown",
   "id": "6ef79a43-ab5d-40d5-844d-79b69147005e",
   "metadata": {},
   "source": [
    "# Arthimetic opertators"
   ]
  },
  {
   "cell_type": "code",
   "execution_count": 12,
   "id": "a6948580-2b1d-4aca-907d-a518553a8dae",
   "metadata": {},
   "outputs": [
    {
     "data": {
      "text/plain": [
       "2"
      ]
     },
     "execution_count": 12,
     "metadata": {},
     "output_type": "execute_result"
    }
   ],
   "source": [
    "7//3"
   ]
  },
  {
   "cell_type": "code",
   "execution_count": 14,
   "id": "5258c2ae-c77e-4135-9486-e4e1dd269ae3",
   "metadata": {},
   "outputs": [
    {
     "data": {
      "text/plain": [
       "9"
      ]
     },
     "execution_count": 14,
     "metadata": {},
     "output_type": "execute_result"
    }
   ],
   "source": [
    "3**2"
   ]
  },
  {
   "cell_type": "code",
   "execution_count": 15,
   "id": "98bc6ecd-213e-455c-b6b1-8c7e896dc134",
   "metadata": {},
   "outputs": [
    {
     "data": {
      "text/plain": [
       "81"
      ]
     },
     "execution_count": 15,
     "metadata": {},
     "output_type": "execute_result"
    }
   ],
   "source": [
    "3**4"
   ]
  },
  {
   "cell_type": "code",
   "execution_count": 16,
   "id": "835dd656-107c-4ce4-9610-1a6053539075",
   "metadata": {},
   "outputs": [
    {
     "data": {
      "text/plain": [
       "1"
      ]
     },
     "execution_count": 16,
     "metadata": {},
     "output_type": "execute_result"
    }
   ],
   "source": [
    "7%3"
   ]
  },
  {
   "cell_type": "markdown",
   "id": "c7d6e089-d685-49ab-b250-a537a9381b6e",
   "metadata": {},
   "source": [
    "# Relational Operator"
   ]
  },
  {
   "cell_type": "code",
   "execution_count": 17,
   "id": "220024ad-1f02-44f2-ab1f-7e57b00e501e",
   "metadata": {},
   "outputs": [
    {
     "data": {
      "text/plain": [
       "False"
      ]
     },
     "execution_count": 17,
     "metadata": {},
     "output_type": "execute_result"
    }
   ],
   "source": [
    "4>8"
   ]
  },
  {
   "cell_type": "code",
   "execution_count": 18,
   "id": "c63dafc4-73b7-4ccb-acc4-7fc940079aa2",
   "metadata": {},
   "outputs": [
    {
     "data": {
      "text/plain": [
       "True"
      ]
     },
     "execution_count": 18,
     "metadata": {},
     "output_type": "execute_result"
    }
   ],
   "source": [
    "4==4"
   ]
  },
  {
   "cell_type": "code",
   "execution_count": 19,
   "id": "d7ec5aab-d5dd-413c-9ba7-29ee1fcd0af5",
   "metadata": {},
   "outputs": [
    {
     "data": {
      "text/plain": [
       "True"
      ]
     },
     "execution_count": 19,
     "metadata": {},
     "output_type": "execute_result"
    }
   ],
   "source": [
    "5!=7"
   ]
  },
  {
   "cell_type": "code",
   "execution_count": 20,
   "id": "e67ea006-0594-4c1c-8ae6-185d12623e93",
   "metadata": {},
   "outputs": [
    {
     "data": {
      "text/plain": [
       "True"
      ]
     },
     "execution_count": 20,
     "metadata": {},
     "output_type": "execute_result"
    }
   ],
   "source": [
    "8>=8"
   ]
  },
  {
   "cell_type": "code",
   "execution_count": 21,
   "id": "f53f79d3-b76d-424f-a88a-17fa458c4360",
   "metadata": {},
   "outputs": [
    {
     "data": {
      "text/plain": [
       "True"
      ]
     },
     "execution_count": 21,
     "metadata": {},
     "output_type": "execute_result"
    }
   ],
   "source": [
    "5<=10"
   ]
  },
  {
   "cell_type": "markdown",
   "id": "9310d937-2130-443c-8137-8444bce7f69c",
   "metadata": {},
   "source": [
    "# Logical Operator"
   ]
  },
  {
   "cell_type": "code",
   "execution_count": 27,
   "id": "18bee1c0-1944-4e09-8975-0192c955fd0f",
   "metadata": {},
   "outputs": [
    {
     "data": {
      "text/plain": [
       "True"
      ]
     },
     "execution_count": 27,
     "metadata": {},
     "output_type": "execute_result"
    }
   ],
   "source": [
    "5>1 and 7 >2"
   ]
  },
  {
   "cell_type": "code",
   "execution_count": 28,
   "id": "81954aac-eb91-44a6-90d2-164802cc795f",
   "metadata": {},
   "outputs": [
    {
     "data": {
      "text/plain": [
       "True"
      ]
     },
     "execution_count": 28,
     "metadata": {},
     "output_type": "execute_result"
    }
   ],
   "source": [
    "5>1 or 7 >2"
   ]
  },
  {
   "cell_type": "code",
   "execution_count": 29,
   "id": "1a2c0d7e-f72f-4ef1-a372-4ca7b5a7a7bb",
   "metadata": {},
   "outputs": [
    {
     "data": {
      "text/plain": [
       "True"
      ]
     },
     "execution_count": 29,
     "metadata": {},
     "output_type": "execute_result"
    }
   ],
   "source": [
    "5>1 and not 1>2"
   ]
  },
  {
   "cell_type": "markdown",
   "id": "7b029930-4af4-4eed-a2c8-57eb048947e9",
   "metadata": {
    "tags": []
   },
   "source": [
    "# Assignment Operator"
   ]
  },
  {
   "cell_type": "code",
   "execution_count": 30,
   "id": "1eb428ad-419a-4fb8-af1a-680d42a8cb18",
   "metadata": {},
   "outputs": [],
   "source": [
    "k = 20"
   ]
  },
  {
   "cell_type": "code",
   "execution_count": 31,
   "id": "38c4acb7-db98-4671-afd0-2631705072b7",
   "metadata": {},
   "outputs": [],
   "source": [
    "k += 2"
   ]
  },
  {
   "cell_type": "code",
   "execution_count": 32,
   "id": "8121fdbc-13ec-4d45-a325-42671584b35c",
   "metadata": {},
   "outputs": [
    {
     "name": "stdout",
     "output_type": "stream",
     "text": [
      "22\n"
     ]
    }
   ],
   "source": [
    "print (k)"
   ]
  },
  {
   "cell_type": "code",
   "execution_count": 33,
   "id": "b054e620-52ef-4855-a655-7de2b6badf37",
   "metadata": {},
   "outputs": [],
   "source": [
    "k = k+2"
   ]
  },
  {
   "cell_type": "code",
   "execution_count": 34,
   "id": "3e207e22-ac59-4103-83d9-398b02b9db26",
   "metadata": {},
   "outputs": [
    {
     "name": "stdout",
     "output_type": "stream",
     "text": [
      "24\n"
     ]
    }
   ],
   "source": [
    "print(k)"
   ]
  },
  {
   "cell_type": "markdown",
   "id": "fc760cfd-6274-41f8-b067-b296ea8e7670",
   "metadata": {},
   "source": [
    "# Bitwise operator"
   ]
  },
  {
   "cell_type": "code",
   "execution_count": 35,
   "id": "483abb9c-1cad-4252-8ddc-fcd5954d5f85",
   "metadata": {},
   "outputs": [
    {
     "data": {
      "text/plain": [
       "4"
      ]
     },
     "execution_count": 35,
     "metadata": {},
     "output_type": "execute_result"
    }
   ],
   "source": [
    "4 & 7"
   ]
  },
  {
   "cell_type": "code",
   "execution_count": 53,
   "id": "0675b6fa-aa63-43d1-bf15-b1bb43dff7ee",
   "metadata": {},
   "outputs": [
    {
     "data": {
      "text/plain": [
       "'0b100'"
      ]
     },
     "execution_count": 53,
     "metadata": {},
     "output_type": "execute_result"
    }
   ],
   "source": [
    "bin(4)"
   ]
  },
  {
   "cell_type": "code",
   "execution_count": 52,
   "id": "851ca7de-f277-4530-83c5-9fa4cb755001",
   "metadata": {},
   "outputs": [
    {
     "data": {
      "text/plain": [
       "'0b111'"
      ]
     },
     "execution_count": 52,
     "metadata": {},
     "output_type": "execute_result"
    }
   ],
   "source": [
    "bin(7)"
   ]
  },
  {
   "cell_type": "code",
   "execution_count": 54,
   "id": "18920b05-df9d-4f68-b5e3-4e97dca91d24",
   "metadata": {},
   "outputs": [
    {
     "data": {
      "text/plain": [
       "0"
      ]
     },
     "execution_count": 54,
     "metadata": {},
     "output_type": "execute_result"
    }
   ],
   "source": [
    "3&4"
   ]
  },
  {
   "cell_type": "code",
   "execution_count": 59,
   "id": "887420b6-65df-4559-9eb6-f7df18fc3a5d",
   "metadata": {},
   "outputs": [
    {
     "data": {
      "text/plain": [
       "'0b11'"
      ]
     },
     "execution_count": 59,
     "metadata": {},
     "output_type": "execute_result"
    }
   ],
   "source": [
    "bin(3)"
   ]
  },
  {
   "cell_type": "code",
   "execution_count": 61,
   "id": "9e3f4317-ea4f-4b70-9fb7-04e79b4d9f67",
   "metadata": {},
   "outputs": [
    {
     "data": {
      "text/plain": [
       "'0b100'"
      ]
     },
     "execution_count": 61,
     "metadata": {},
     "output_type": "execute_result"
    }
   ],
   "source": [
    "bin(4)"
   ]
  },
  {
   "cell_type": "markdown",
   "id": "2bd4d9b3-c0c0-4582-a35e-877c64a43a07",
   "metadata": {},
   "source": [
    "# Membership Operator"
   ]
  },
  {
   "cell_type": "code",
   "execution_count": 62,
   "id": "16bf0c4f-ecaa-4e97-8839-a584edb087ef",
   "metadata": {},
   "outputs": [],
   "source": [
    "s = 'upflairs'"
   ]
  },
  {
   "cell_type": "code",
   "execution_count": 63,
   "id": "7c500a75-1b20-4123-a710-4feb9fedd4bc",
   "metadata": {},
   "outputs": [
    {
     "name": "stdout",
     "output_type": "stream",
     "text": [
      "upflairs\n"
     ]
    }
   ],
   "source": [
    "print(s)"
   ]
  },
  {
   "cell_type": "code",
   "execution_count": 64,
   "id": "6f1553ee-8770-4263-b3be-c82b23399adf",
   "metadata": {},
   "outputs": [
    {
     "data": {
      "text/plain": [
       "True"
      ]
     },
     "execution_count": 64,
     "metadata": {},
     "output_type": "execute_result"
    }
   ],
   "source": [
    "'s' in s"
   ]
  },
  {
   "cell_type": "code",
   "execution_count": 65,
   "id": "d84f0f01-235e-4c48-b85d-4fedf6ea8e4d",
   "metadata": {},
   "outputs": [
    {
     "data": {
      "text/plain": [
       "False"
      ]
     },
     "execution_count": 65,
     "metadata": {},
     "output_type": "execute_result"
    }
   ],
   "source": [
    "'z' in s"
   ]
  },
  {
   "cell_type": "code",
   "execution_count": 66,
   "id": "94da1333-2507-4b4d-a632-14f56a52ac11",
   "metadata": {},
   "outputs": [
    {
     "data": {
      "text/plain": [
       "False"
      ]
     },
     "execution_count": 66,
     "metadata": {},
     "output_type": "execute_result"
    }
   ],
   "source": [
    "'zoo' in s"
   ]
  },
  {
   "cell_type": "code",
   "execution_count": 67,
   "id": "83f800bf-10a3-4fd3-88e0-1c013de75f47",
   "metadata": {},
   "outputs": [
    {
     "data": {
      "text/plain": [
       "False"
      ]
     },
     "execution_count": 67,
     "metadata": {},
     "output_type": "execute_result"
    }
   ],
   "source": [
    "'air' not in s"
   ]
  },
  {
   "cell_type": "code",
   "execution_count": 68,
   "id": "5edacad2-321e-4d78-8213-4860baa46210",
   "metadata": {},
   "outputs": [],
   "source": [
    "p = [1,2,3,4]"
   ]
  },
  {
   "cell_type": "code",
   "execution_count": 70,
   "id": "91b8f58c-6dfa-444b-a312-6845ea72acb7",
   "metadata": {},
   "outputs": [
    {
     "name": "stdout",
     "output_type": "stream",
     "text": [
      "[1, 2, 3, 4]\n"
     ]
    }
   ],
   "source": [
    "print(p)"
   ]
  },
  {
   "cell_type": "code",
   "execution_count": 74,
   "id": "4d1ac99f-6f61-4edd-b864-5c9a6adf277f",
   "metadata": {},
   "outputs": [
    {
     "data": {
      "text/plain": [
       "False"
      ]
     },
     "execution_count": 74,
     "metadata": {},
     "output_type": "execute_result"
    }
   ],
   "source": [
    "7 in p"
   ]
  },
  {
   "cell_type": "markdown",
   "id": "992549f3-d21e-40e6-9a9f-bc1b4ddacd49",
   "metadata": {},
   "source": [
    "# Identity operators"
   ]
  },
  {
   "cell_type": "code",
   "execution_count": 89,
   "id": "0e620f56-cbfb-4c21-8d8f-bbf382df1181",
   "metadata": {},
   "outputs": [],
   "source": [
    "m=10\n",
    "n=45\n",
    "j=45\n",
    "z=40.00"
   ]
  },
  {
   "cell_type": "code",
   "execution_count": 84,
   "id": "00c23f6e-bfd1-458e-aa93-d598f0ee9328",
   "metadata": {},
   "outputs": [
    {
     "data": {
      "text/plain": [
       "(1395241413200, 1395241414320, 1395241414320)"
      ]
     },
     "execution_count": 84,
     "metadata": {},
     "output_type": "execute_result"
    }
   ],
   "source": [
    "id(m), id(n), id(j)"
   ]
  },
  {
   "cell_type": "code",
   "execution_count": 85,
   "id": "0c12e53a-e73e-4acc-86ae-0653326ab184",
   "metadata": {},
   "outputs": [
    {
     "data": {
      "text/plain": [
       "True"
      ]
     },
     "execution_count": 85,
     "metadata": {},
     "output_type": "execute_result"
    }
   ],
   "source": [
    "n is j"
   ]
  },
  {
   "cell_type": "code",
   "execution_count": 87,
   "id": "e1af157b-a507-4f8b-950b-090f3b82f047",
   "metadata": {},
   "outputs": [
    {
     "data": {
      "text/plain": [
       "int"
      ]
     },
     "execution_count": 87,
     "metadata": {},
     "output_type": "execute_result"
    }
   ],
   "source": [
    "type(m)"
   ]
  },
  {
   "cell_type": "code",
   "execution_count": 90,
   "id": "d87431ef-88aa-4522-9999-5ef23760aa03",
   "metadata": {},
   "outputs": [
    {
     "data": {
      "text/plain": [
       "float"
      ]
     },
     "execution_count": 90,
     "metadata": {},
     "output_type": "execute_result"
    }
   ],
   "source": [
    "type(z)"
   ]
  },
  {
   "cell_type": "raw",
   "id": "11cbb480-3346-4e08-9633-09b6029dd739",
   "metadata": {},
   "source": [
    "-------------------------------------------------------------------------------------------------------------------------------"
   ]
  },
  {
   "cell_type": "raw",
   "id": "461b89b2-3e8c-4cea-bef2-db9e12d03983",
   "metadata": {},
   "source": [
    "#Data Types(Classes)\n",
    "1. Numbers\n",
    "    Int,               30\n",
    "    Float,             30.00\n",
    "    Complex            30+0j\n",
    "2. String - immutable collection of characters\n",
    "    str               'hi' \"hi\" '''hi''' \"\"\"hi\"\"\"\"\n",
    "                        Triple quote - for multi line string or paragraph\n",
    "3. Collection\n",
    "    list,              [3,4,7,'hello',34.2,[s,'v']]\n",
    "        Mutable collection of hetrogeneous items\n",
    "        \n",
    "    tuple,             (3,4,7)     3,4,7\n",
    "        Immutabel collection of hetrogeneous items\n",
    "        \n",
    "    dict,              {'a':30, 'b':30.5}\n",
    "        Mutuable & structured collection of key-value pair\n",
    "        \n",
    "    set                {3,4,7}\n",
    "        Unordered unhashable collections of unique elements\n",
    "4. Boolean\n",
    "    bool               True, False\n",
    "5. NoneType\n",
    "                       "
   ]
  },
  {
   "cell_type": "code",
   "execution_count": 108,
   "id": "e8ce12c6-150b-41c1-b5d6-84a1b1d2d6d5",
   "metadata": {},
   "outputs": [],
   "source": [
    "a=30\n",
    "b=30.00\n",
    "c=30+0j"
   ]
  },
  {
   "cell_type": "code",
   "execution_count": 109,
   "id": "19177c49-ee99-49da-a8f4-c86a0090b289",
   "metadata": {},
   "outputs": [
    {
     "data": {
      "text/plain": [
       "(int, float, complex)"
      ]
     },
     "execution_count": 109,
     "metadata": {},
     "output_type": "execute_result"
    }
   ],
   "source": [
    "type(a), type(b), type(c)"
   ]
  },
  {
   "cell_type": "code",
   "execution_count": 110,
   "id": "fcefb239-3367-4372-81d7-62890dc9e56c",
   "metadata": {},
   "outputs": [],
   "source": [
    "a = \" Aditya Ojha\"\n",
    "b = ' Aditya Ojha'\n",
    "c = '''Aditya Ojha'''\n",
    "d = \"\"\" Aditya Ojha\"\"\""
   ]
  },
  {
   "cell_type": "code",
   "execution_count": 111,
   "id": "cda233b5-4de1-4133-b9a3-318c5de85895",
   "metadata": {},
   "outputs": [
    {
     "data": {
      "text/plain": [
       "(str, str, str, str)"
      ]
     },
     "execution_count": 111,
     "metadata": {},
     "output_type": "execute_result"
    }
   ],
   "source": [
    "type(a), type(b), type(c), type(d)"
   ]
  },
  {
   "cell_type": "raw",
   "id": "d875e05d-0e33-4d50-ab56-1075d8601e42",
   "metadata": {},
   "source": [
    "a = [3,4,7]\n",
    "b = (3,4,7)\n",
    "c = {'a':30, 'b':30.5}\n",
    "d = {3,4,7}"
   ]
  },
  {
   "cell_type": "code",
   "execution_count": 113,
   "id": "ffa47cfe-d871-4a43-9634-486d7cf9ac41",
   "metadata": {},
   "outputs": [
    {
     "data": {
      "text/plain": [
       "(list, tuple, dict, set)"
      ]
     },
     "execution_count": 113,
     "metadata": {},
     "output_type": "execute_result"
    }
   ],
   "source": [
    "type(a), type(b), type(c), type(d)"
   ]
  },
  {
   "cell_type": "code",
   "execution_count": 115,
   "id": "bf2e14da-85cf-4779-8a4e-a6448698c6d7",
   "metadata": {},
   "outputs": [],
   "source": [
    "a = True\n",
    "b = False"
   ]
  },
  {
   "cell_type": "code",
   "execution_count": 116,
   "id": "41d8a6ed-26ef-4436-913d-6e62551ee3a3",
   "metadata": {},
   "outputs": [
    {
     "data": {
      "text/plain": [
       "(bool, bool)"
      ]
     },
     "execution_count": 116,
     "metadata": {},
     "output_type": "execute_result"
    }
   ],
   "source": [
    "type(a), type(b)"
   ]
  },
  {
   "cell_type": "code",
   "execution_count": 123,
   "id": "6f11c1b7-470d-46e5-a9c8-f789f98af4c6",
   "metadata": {},
   "outputs": [
    {
     "name": "stdout",
     "output_type": "stream",
     "text": [
      "{'hi', 3, 4, 7, 'a'}\n"
     ]
    }
   ],
   "source": [
    "a = {3,4,7,3,'a','hi','hi'}\n",
    "print(a)"
   ]
  },
  {
   "cell_type": "raw",
   "id": "21586e7b-9cdf-41dd-b36b-a44e42b9ad5f",
   "metadata": {},
   "source": [
    "-Mutability\n",
    "    - Item Assignment\n",
    "    - Item Deleting\n",
    "Item acessing\n",
    "Item Insertion"
   ]
  },
  {
   "cell_type": "markdown",
   "id": "50f1a7dd-210d-47c6-9e83-b787dc0a5d6f",
   "metadata": {},
   "source": [
    "# String"
   ]
  },
  {
   "cell_type": "code",
   "execution_count": 132,
   "id": "51370e5f-0e33-494c-ad55-913e07646b63",
   "metadata": {},
   "outputs": [
    {
     "data": {
      "text/plain": [
       "'Hello this is a new python sentence'"
      ]
     },
     "execution_count": 132,
     "metadata": {},
     "output_type": "execute_result"
    }
   ],
   "source": [
    "s = 'Hello this is a new python sentence'\n",
    "s"
   ]
  },
  {
   "cell_type": "code",
   "execution_count": 131,
   "id": "06a01814-246e-4e46-967f-a68ac192feac",
   "metadata": {},
   "outputs": [
    {
     "data": {
      "text/plain": [
       "(str, 35)"
      ]
     },
     "execution_count": 131,
     "metadata": {},
     "output_type": "execute_result"
    }
   ],
   "source": [
    "type(s), len(s)"
   ]
  },
  {
   "cell_type": "code",
   "execution_count": 134,
   "id": "da4a0bb7-7f49-4b5e-b53e-086e4f285616",
   "metadata": {},
   "outputs": [
    {
     "data": {
      "text/plain": [
       "'Hello this is a new python sentence'"
      ]
     },
     "execution_count": 134,
     "metadata": {},
     "output_type": "execute_result"
    }
   ],
   "source": [
    "s1 = \"Hello this is a new python sentence\"\n",
    "s1"
   ]
  },
  {
   "cell_type": "code",
   "execution_count": 135,
   "id": "d3a7eefd-42a8-4216-94b0-0e2f96d3e1ac",
   "metadata": {},
   "outputs": [
    {
     "name": "stdout",
     "output_type": "stream",
     "text": [
      "He said \"I will not be going\"\n"
     ]
    }
   ],
   "source": [
    "print('He said \"I will not be going\"')"
   ]
  },
  {
   "cell_type": "code",
   "execution_count": 136,
   "id": "82d32786-fdcb-4790-a4aa-411a403c892e",
   "metadata": {},
   "outputs": [
    {
     "name": "stdout",
     "output_type": "stream",
     "text": [
      "Don't you think it could be done earlier?\n"
     ]
    }
   ],
   "source": [
    "print(\"Don't you think it could be done earlier?\")"
   ]
  },
  {
   "cell_type": "code",
   "execution_count": 139,
   "id": "671f3f5a-10da-4100-abee-ee5560085a08",
   "metadata": {},
   "outputs": [
    {
     "name": "stdout",
     "output_type": "stream",
     "text": [
      "He said \"I won't be doing it\"\n"
     ]
    }
   ],
   "source": [
    "#Escape characters\n",
    "print('He said \"I won\\'t be doing it\"')"
   ]
  },
  {
   "cell_type": "code",
   "execution_count": 140,
   "id": "ed702cb4-51fa-4235-ba72-c4a65b97a898",
   "metadata": {},
   "outputs": [],
   "source": [
    "s5 = '''this is a line written in python\n",
    "and I took at least 3 lines to complete\n",
    "my sentance. And again just wrote something\n",
    "which is absolute non-sense'''"
   ]
  },
  {
   "cell_type": "code",
   "execution_count": 143,
   "id": "3198bf88-34b6-47e3-81de-c378233dede9",
   "metadata": {},
   "outputs": [
    {
     "data": {
      "text/plain": [
       "'this is a line written in python\\nand I took at least 3 lines to complete\\nmy sentance. And again just wrote something\\nwhich is absolute non-sense'"
      ]
     },
     "execution_count": 143,
     "metadata": {},
     "output_type": "execute_result"
    }
   ],
   "source": [
    "s5"
   ]
  },
  {
   "cell_type": "code",
   "execution_count": 144,
   "id": "e51c7c86-41e9-4bdb-bcdc-6c7357db0a28",
   "metadata": {},
   "outputs": [
    {
     "name": "stdout",
     "output_type": "stream",
     "text": [
      "this is a line written in python\n",
      "and I took at least 3 lines to complete\n",
      "my sentance. And again just wrote something\n",
      "which is absolute non-sense\n"
     ]
    }
   ],
   "source": [
    "print(s5)"
   ]
  },
  {
   "cell_type": "code",
   "execution_count": 164,
   "id": "4eea7c16-914a-4e93-a91e-777313b9885f",
   "metadata": {},
   "outputs": [
    {
     "data": {
      "text/plain": [
       "'H'"
      ]
     },
     "execution_count": 164,
     "metadata": {},
     "output_type": "execute_result"
    }
   ],
   "source": [
    "# Item accessing\n",
    "# a. Indexing\n",
    "# b. slicing\n",
    "    # [begining : end(not inclusive) : stepsize]\n",
    "    # [0 :  5 : 1]\n",
    "    \n",
    "    # Default values\n",
    "    # By default step-size = 1\n",
    "    # beganning = 0 if step-size is +ve\n",
    "                  last if stepsize -ve\n",
    "    # ending\n",
    "s[0]"
   ]
  },
  {
   "cell_type": "code",
   "execution_count": 165,
   "id": "19e63a5b-94c5-4956-b6ec-3ebed4d517e9",
   "metadata": {},
   "outputs": [
    {
     "data": {
      "text/plain": [
       "'Hello this is a new python sentence'"
      ]
     },
     "execution_count": 165,
     "metadata": {},
     "output_type": "execute_result"
    }
   ],
   "source": [
    "s"
   ]
  },
  {
   "cell_type": "code",
   "execution_count": 150,
   "id": "b5ed5c5e-e246-4b38-825f-5570dfa436c3",
   "metadata": {},
   "outputs": [
    {
     "data": {
      "text/plain": [
       "'e'"
      ]
     },
     "execution_count": 150,
     "metadata": {},
     "output_type": "execute_result"
    }
   ],
   "source": [
    "s[len(s)-1]"
   ]
  },
  {
   "cell_type": "code",
   "execution_count": 151,
   "id": "cd7d3ace-1af0-4274-a846-d02851e78e75",
   "metadata": {},
   "outputs": [
    {
     "data": {
      "text/plain": [
       "'e'"
      ]
     },
     "execution_count": 151,
     "metadata": {},
     "output_type": "execute_result"
    }
   ],
   "source": [
    "s[-1]"
   ]
  },
  {
   "cell_type": "code",
   "execution_count": 171,
   "id": "ceda56bb-4cb7-4562-9fd7-37cabbf54ef6",
   "metadata": {},
   "outputs": [
    {
     "data": {
      "text/plain": [
       "'sentence'"
      ]
     },
     "execution_count": 171,
     "metadata": {},
     "output_type": "execute_result"
    }
   ],
   "source": [
    "s[-8:35:1]"
   ]
  },
  {
   "cell_type": "code",
   "execution_count": 176,
   "id": "52e0a607-7625-46ce-b91a-3a8123b9ec84",
   "metadata": {},
   "outputs": [
    {
     "data": {
      "text/plain": [
       "'ecnetnes'"
      ]
     },
     "execution_count": 176,
     "metadata": {},
     "output_type": "execute_result"
    }
   ],
   "source": [
    "s[:-9:-1]"
   ]
  },
  {
   "cell_type": "code",
   "execution_count": 182,
   "id": "0649dca6-87c3-4442-b065-f1fa0e64ccea",
   "metadata": {},
   "outputs": [
    {
     "data": {
      "text/plain": [
       "'siht'"
      ]
     },
     "execution_count": 182,
     "metadata": {},
     "output_type": "execute_result"
    }
   ],
   "source": [
    "s[-26:-30:-1]"
   ]
  },
  {
   "cell_type": "code",
   "execution_count": 185,
   "id": "e77eae7e-b9be-479e-95f0-cf0267bac3ad",
   "metadata": {},
   "outputs": [
    {
     "data": {
      "text/plain": [
       "'ecnetnes nohtyp wen a si siht olleH'"
      ]
     },
     "execution_count": 185,
     "metadata": {},
     "output_type": "execute_result"
    }
   ],
   "source": [
    "s[-1::-1]"
   ]
  },
  {
   "cell_type": "raw",
   "id": "e05f9e41-4b90-43c2-91a9-b750fa519ba9",
   "metadata": {},
   "source": [
    "#Item Insertion"
   ]
  },
  {
   "cell_type": "code",
   "execution_count": 186,
   "id": "89a157a0-c8e4-4a1b-900d-c287a6a1a264",
   "metadata": {},
   "outputs": [
    {
     "data": {
      "text/plain": [
       "'Hello this is a new python sentence'"
      ]
     },
     "execution_count": 186,
     "metadata": {},
     "output_type": "execute_result"
    }
   ],
   "source": [
    "s"
   ]
  },
  {
   "cell_type": "code",
   "execution_count": 187,
   "id": "170c5aae-3a1e-45c7-8fae-11b377b0821c",
   "metadata": {},
   "outputs": [],
   "source": [
    "s = s[:16] + 'very ' + s[16:]"
   ]
  },
  {
   "cell_type": "code",
   "execution_count": 188,
   "id": "06660319-b813-46e9-8255-fc1fb6ca81dc",
   "metadata": {},
   "outputs": [
    {
     "data": {
      "text/plain": [
       "'Hello this is a very new python sentence'"
      ]
     },
     "execution_count": 188,
     "metadata": {},
     "output_type": "execute_result"
    }
   ],
   "source": [
    "s"
   ]
  },
  {
   "cell_type": "code",
   "execution_count": 190,
   "id": "1d37c24e-6ece-417f-a6be-ba324e6baf56",
   "metadata": {},
   "outputs": [
    {
     "data": {
      "text/plain": [
       "'Hello this is a very new python sentencelast last'"
      ]
     },
     "execution_count": 190,
     "metadata": {},
     "output_type": "execute_result"
    }
   ],
   "source": [
    "s += ' last'\n",
    "s"
   ]
  },
  {
   "cell_type": "code",
   "execution_count": 191,
   "id": "8fa93c3e-2d62-4abb-ab5d-fbb2cf0547a8",
   "metadata": {},
   "outputs": [
    {
     "data": {
      "text/plain": [
       "'hibye'"
      ]
     },
     "execution_count": 191,
     "metadata": {},
     "output_type": "execute_result"
    }
   ],
   "source": [
    "'hi' + 'bye'"
   ]
  },
  {
   "cell_type": "code",
   "execution_count": 192,
   "id": "c28a7a4e-7e68-44cc-bc5d-5c2382fe9175",
   "metadata": {},
   "outputs": [
    {
     "ename": "TypeError",
     "evalue": "'str' object does not support item assignment",
     "output_type": "error",
     "traceback": [
      "\u001b[1;31m---------------------------------------------------------------------------\u001b[0m",
      "\u001b[1;31mTypeError\u001b[0m                                 Traceback (most recent call last)",
      "\u001b[1;32m~\\AppData\\Local\\Temp\\ipykernel_7608\\3803009297.py\u001b[0m in \u001b[0;36m<module>\u001b[1;34m\u001b[0m\n\u001b[1;32m----> 1\u001b[1;33m \u001b[0ms\u001b[0m\u001b[1;33m[\u001b[0m\u001b[1;36m0\u001b[0m\u001b[1;33m]\u001b[0m \u001b[1;33m=\u001b[0m \u001b[1;34m'h'\u001b[0m\u001b[1;33m\u001b[0m\u001b[1;33m\u001b[0m\u001b[0m\n\u001b[0m",
      "\u001b[1;31mTypeError\u001b[0m: 'str' object does not support item assignment"
     ]
    }
   ],
   "source": [
    "s[0] = 'h'"
   ]
  },
  {
   "cell_type": "code",
   "execution_count": 194,
   "id": "deefc584-db58-4d00-b68d-5abadc296431",
   "metadata": {},
   "outputs": [
    {
     "ename": "SyntaxError",
     "evalue": "cannot delete literal (2148663864.py, line 1)",
     "output_type": "error",
     "traceback": [
      "\u001b[1;36m  File \u001b[1;32m\"C:\\Users\\ctae\\AppData\\Local\\Temp\\ipykernel_7608\\2148663864.py\"\u001b[1;36m, line \u001b[1;32m1\u001b[0m\n\u001b[1;33m    del[0]\u001b[0m\n\u001b[1;37m        ^\u001b[0m\n\u001b[1;31mSyntaxError\u001b[0m\u001b[1;31m:\u001b[0m cannot delete literal\n"
     ]
    }
   ],
   "source": [
    "del[0]"
   ]
  },
  {
   "cell_type": "code",
   "execution_count": null,
   "id": "61ccb119-e971-4850-8111-842a2333c41c",
   "metadata": {},
   "outputs": [],
   "source": []
  }
 ],
 "metadata": {
  "kernelspec": {
   "display_name": "Python 3 (ipykernel)",
   "language": "python",
   "name": "python3"
  },
  "language_info": {
   "codemirror_mode": {
    "name": "ipython",
    "version": 3
   },
   "file_extension": ".py",
   "mimetype": "text/x-python",
   "name": "python",
   "nbconvert_exporter": "python",
   "pygments_lexer": "ipython3",
   "version": "3.9.13"
  }
 },
 "nbformat": 4,
 "nbformat_minor": 5
}
