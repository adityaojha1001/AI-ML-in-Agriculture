{
 "cells": [
  {
   "cell_type": "markdown",
   "id": "a5585048-9952-4562-bc78-0a9984513127",
   "metadata": {},
   "source": [
    "# Python Introduction"
   ]
  },
  {
   "cell_type": "raw",
   "id": "cdc19d45-ff11-4a94-91ab-a6556cdc9e20",
   "metadata": {},
   "source": [
    "1. Brackets Roles\n",
    "2. Rules for Identifiers\n",
    "2a.Keywords\n",
    "3. Operators\n",
    "4. Data types\n",
    "5. Control Statements\n",
    "    a. Decesion Making\n",
    "    b. Looping\n",
    "6. Functions\n",
    "7. Modules/Libraries"
   ]
  }
 ],
 "metadata": {
  "kernelspec": {
   "display_name": "Python 3 (ipykernel)",
   "language": "python",
   "name": "python3"
  },
  "language_info": {
   "codemirror_mode": {
    "name": "ipython",
    "version": 3
   },
   "file_extension": ".py",
   "mimetype": "text/x-python",
   "name": "python",
   "nbconvert_exporter": "python",
   "pygments_lexer": "ipython3",
   "version": "3.9.13"
  }
 },
 "nbformat": 4,
 "nbformat_minor": 5
}
