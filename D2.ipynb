{
 "cells": [
  {
   "cell_type": "code",
   "execution_count": 1,
   "id": "244adad4-783d-4690-babb-656a09fd1a3d",
   "metadata": {},
   "outputs": [],
   "source": [
    "a=[3,7,3,9,13,55]"
   ]
  },
  {
   "cell_type": "code",
   "execution_count": 2,
   "id": "23c52b67-9cdf-4d91-b0e9-d7789e8b8031",
   "metadata": {},
   "outputs": [
    {
     "data": {
      "text/plain": [
       "6"
      ]
     },
     "execution_count": 2,
     "metadata": {},
     "output_type": "execute_result"
    }
   ],
   "source": [
    "len(a)"
   ]
  },
  {
   "cell_type": "code",
   "execution_count": 3,
   "id": "98a69113-2c90-41de-9dab-9bb6e00d4b23",
   "metadata": {},
   "outputs": [
    {
     "data": {
      "text/plain": [
       "[9, 3, 7, 3]"
      ]
     },
     "execution_count": 3,
     "metadata": {},
     "output_type": "execute_result"
    }
   ],
   "source": [
    "a[3::-1]"
   ]
  },
  {
   "cell_type": "code",
   "execution_count": 4,
   "id": "47650e57-9df1-4df7-9b55-317f75ffb344",
   "metadata": {},
   "outputs": [
    {
     "data": {
      "text/plain": [
       "3"
      ]
     },
     "execution_count": 4,
     "metadata": {},
     "output_type": "execute_result"
    }
   ],
   "source": [
    "#Item accessing\n",
    "a[0]"
   ]
  },
  {
   "cell_type": "code",
   "execution_count": 5,
   "id": "ff52d345-8acc-48b0-856b-66a96dfd33e2",
   "metadata": {},
   "outputs": [
    {
     "data": {
      "text/plain": [
       "13"
      ]
     },
     "execution_count": 5,
     "metadata": {},
     "output_type": "execute_result"
    }
   ],
   "source": [
    "a[-2]"
   ]
  },
  {
   "cell_type": "code",
   "execution_count": 6,
   "id": "aaa5d35b-3f28-4a72-884c-e3f1086f2b8e",
   "metadata": {},
   "outputs": [
    {
     "data": {
      "text/plain": [
       "[3, 7, 3]"
      ]
     },
     "execution_count": 6,
     "metadata": {},
     "output_type": "execute_result"
    }
   ],
   "source": [
    "a[:3]"
   ]
  },
  {
   "cell_type": "code",
   "execution_count": 7,
   "id": "46b6feda-9065-4ba0-869d-4bb28be3721a",
   "metadata": {},
   "outputs": [
    {
     "data": {
      "text/plain": [
       "[13, 55]"
      ]
     },
     "execution_count": 7,
     "metadata": {},
     "output_type": "execute_result"
    }
   ],
   "source": [
    "a[-2:]"
   ]
  },
  {
   "cell_type": "code",
   "execution_count": 8,
   "id": "4fb204d4-5f54-424d-8b5e-35ffad86b5ad",
   "metadata": {},
   "outputs": [],
   "source": [
    "b=a[:4]"
   ]
  },
  {
   "cell_type": "code",
   "execution_count": 9,
   "id": "dff3d833-a07c-4c90-b785-544f8b6ebc02",
   "metadata": {},
   "outputs": [
    {
     "name": "stdout",
     "output_type": "stream",
     "text": [
      "[3, 7, 3, 9]\n"
     ]
    }
   ],
   "source": [
    "print(b)"
   ]
  },
  {
   "cell_type": "code",
   "execution_count": 10,
   "id": "472ec641-055c-4ed6-b295-2e8b7ed494e0",
   "metadata": {},
   "outputs": [
    {
     "data": {
      "text/plain": [
       "[9, 3, 7, 3]"
      ]
     },
     "execution_count": 10,
     "metadata": {},
     "output_type": "execute_result"
    }
   ],
   "source": [
    "b[-1:-5:-1]"
   ]
  },
  {
   "cell_type": "code",
   "execution_count": 11,
   "id": "31b96dbe-18d1-4cbb-9add-6059de742020",
   "metadata": {},
   "outputs": [
    {
     "data": {
      "text/plain": [
       "[9, 3, 7, 3]"
      ]
     },
     "execution_count": 11,
     "metadata": {},
     "output_type": "execute_result"
    }
   ],
   "source": [
    "b[::-1]"
   ]
  },
  {
   "cell_type": "code",
   "execution_count": 12,
   "id": "1b14a853-9e76-4b37-b7d4-e56a30821bf8",
   "metadata": {},
   "outputs": [
    {
     "data": {
      "text/plain": [
       "[]"
      ]
     },
     "execution_count": 12,
     "metadata": {},
     "output_type": "execute_result"
    }
   ],
   "source": [
    "b[3:8:-1]"
   ]
  },
  {
   "cell_type": "code",
   "execution_count": 13,
   "id": "a110945b-8d86-42d7-9129-c1afed4fba0a",
   "metadata": {},
   "outputs": [],
   "source": [
    "c=[3,7,2,'Good','nice',34.5]"
   ]
  },
  {
   "cell_type": "code",
   "execution_count": 14,
   "id": "1a8991ca-855e-46db-8757-703fbac0814a",
   "metadata": {},
   "outputs": [
    {
     "data": {
      "text/plain": [
       "'Good'"
      ]
     },
     "execution_count": 14,
     "metadata": {},
     "output_type": "execute_result"
    }
   ],
   "source": [
    "c[3]"
   ]
  },
  {
   "cell_type": "code",
   "execution_count": 15,
   "id": "1ed8d5c4-c6bf-449c-acfb-50aca48e7add",
   "metadata": {},
   "outputs": [
    {
     "data": {
      "text/plain": [
       "'G'"
      ]
     },
     "execution_count": 15,
     "metadata": {},
     "output_type": "execute_result"
    }
   ],
   "source": [
    "c[3][0]"
   ]
  },
  {
   "cell_type": "code",
   "execution_count": 16,
   "id": "667173ed-d755-418b-805e-2a3534be25be",
   "metadata": {},
   "outputs": [
    {
     "data": {
      "text/plain": [
       "'i'"
      ]
     },
     "execution_count": 16,
     "metadata": {},
     "output_type": "execute_result"
    }
   ],
   "source": [
    "c[4][1]"
   ]
  },
  {
   "cell_type": "code",
   "execution_count": 17,
   "id": "5f9dc97d-b226-42f2-bfb7-88e6757f10a5",
   "metadata": {},
   "outputs": [],
   "source": [
    "d=[5,8,[3,7],['go',['good',[3,'wow']],'405']]"
   ]
  },
  {
   "cell_type": "code",
   "execution_count": 18,
   "id": "3c00108f-066d-4641-b9a8-61d943bb6d6c",
   "metadata": {},
   "outputs": [
    {
     "data": {
      "text/plain": [
       "4"
      ]
     },
     "execution_count": 18,
     "metadata": {},
     "output_type": "execute_result"
    }
   ],
   "source": [
    "len(d)"
   ]
  },
  {
   "cell_type": "code",
   "execution_count": 19,
   "id": "40f68e71-797e-4c7e-819d-27f49240641a",
   "metadata": {},
   "outputs": [],
   "source": [
    "# find 'd', 'wow', '0'"
   ]
  },
  {
   "cell_type": "code",
   "execution_count": 20,
   "id": "67e91f38-f45a-4405-b0a1-f335b76337f7",
   "metadata": {},
   "outputs": [
    {
     "data": {
      "text/plain": [
       "'d'"
      ]
     },
     "execution_count": 20,
     "metadata": {},
     "output_type": "execute_result"
    }
   ],
   "source": [
    "d[3][1][0][3]"
   ]
  },
  {
   "cell_type": "code",
   "execution_count": 21,
   "id": "3f5861a5-e095-437e-b797-331e208a5f17",
   "metadata": {},
   "outputs": [
    {
     "data": {
      "text/plain": [
       "'wow'"
      ]
     },
     "execution_count": 21,
     "metadata": {},
     "output_type": "execute_result"
    }
   ],
   "source": [
    "d[3][1][1][1]"
   ]
  },
  {
   "cell_type": "code",
   "execution_count": 22,
   "id": "4c75b15b-ebf1-4fdb-939b-235f7d251154",
   "metadata": {},
   "outputs": [
    {
     "data": {
      "text/plain": [
       "'0'"
      ]
     },
     "execution_count": 22,
     "metadata": {},
     "output_type": "execute_result"
    }
   ],
   "source": [
    "d[3][2][1]"
   ]
  },
  {
   "cell_type": "code",
   "execution_count": 23,
   "id": "4a713649-4a8f-4bc5-95a2-0adc45a19a77",
   "metadata": {},
   "outputs": [
    {
     "data": {
      "text/plain": [
       "[4, 5, 2, 'yes']"
      ]
     },
     "execution_count": 23,
     "metadata": {},
     "output_type": "execute_result"
    }
   ],
   "source": [
    "#Item Insertion\n",
    "[4,5] + [2, 'yes']"
   ]
  },
  {
   "cell_type": "code",
   "execution_count": 24,
   "id": "55fa130b-ab8a-461d-83b8-7a0171a28402",
   "metadata": {},
   "outputs": [
    {
     "data": {
      "text/plain": [
       "[3, 7, 3, 9, 13, 55]"
      ]
     },
     "execution_count": 24,
     "metadata": {},
     "output_type": "execute_result"
    }
   ],
   "source": [
    "a"
   ]
  },
  {
   "cell_type": "code",
   "execution_count": 25,
   "id": "12d0a2c4-ca06-46e4-b5e8-bee1a606fb7f",
   "metadata": {},
   "outputs": [
    {
     "data": {
      "text/plain": [
       "[3, 7, 3, 9, 13, 55, 100]"
      ]
     },
     "execution_count": 25,
     "metadata": {},
     "output_type": "execute_result"
    }
   ],
   "source": [
    "a += [100]\n",
    "a"
   ]
  },
  {
   "cell_type": "code",
   "execution_count": 26,
   "id": "023d94ef-ffcc-41b7-b055-c961708fac9b",
   "metadata": {},
   "outputs": [
    {
     "data": {
      "text/plain": [
       "[3, 7, 3, 9, 13, 55, 100, 'hello']"
      ]
     },
     "execution_count": 26,
     "metadata": {},
     "output_type": "execute_result"
    }
   ],
   "source": [
    "a += ['hello']\n",
    "a"
   ]
  },
  {
   "cell_type": "code",
   "execution_count": 27,
   "id": "3da5c18e-2ce8-4847-9e66-4354198f4c27",
   "metadata": {},
   "outputs": [
    {
     "data": {
      "text/plain": [
       "[3, 7, 3, 9, 13, 55, 100, 'hello', 't', 'r', 'y']"
      ]
     },
     "execution_count": 27,
     "metadata": {},
     "output_type": "execute_result"
    }
   ],
   "source": [
    "a += 'try'\n",
    "a"
   ]
  },
  {
   "cell_type": "code",
   "execution_count": 28,
   "id": "bf6f159f-a33d-4be3-83b4-2ce4ab3f1da3",
   "metadata": {},
   "outputs": [
    {
     "data": {
      "text/plain": [
       "[3, 7, 3, 9, 13, 55, 100, 'hello', 't', 'r', 'y', 10, 20, 30]"
      ]
     },
     "execution_count": 28,
     "metadata": {},
     "output_type": "execute_result"
    }
   ],
   "source": [
    "a += (10,20,30)\n",
    "a"
   ]
  },
  {
   "cell_type": "code",
   "execution_count": 29,
   "id": "05b01f2d-1b23-4838-bb91-2da1d04f4775",
   "metadata": {},
   "outputs": [
    {
     "data": {
      "text/plain": [
       "[3, 7, 3, 9, 13, 55, 100, 'hello', 't', 'r', 'y', 10, 20, 30, 3, 4, 7]"
      ]
     },
     "execution_count": 29,
     "metadata": {},
     "output_type": "execute_result"
    }
   ],
   "source": [
    "a += {3,4,7}\n",
    "a"
   ]
  },
  {
   "cell_type": "code",
   "execution_count": 30,
   "id": "b2f0d3b1-bcec-487e-b11e-6e40842bca4d",
   "metadata": {},
   "outputs": [],
   "source": [
    "a = a[:2] + ['second'] + a[2:]\n"
   ]
  },
  {
   "cell_type": "code",
   "execution_count": 31,
   "id": "d93b4ee1-8ac1-4b48-8e01-6bb6fef43c2f",
   "metadata": {},
   "outputs": [
    {
     "name": "stdout",
     "output_type": "stream",
     "text": [
      "[3, 7, 'second', 3, 9, 13, 55, 100, 'hello', 't', 'r', 'y', 10, 20, 30, 3, 4, 7]\n"
     ]
    }
   ],
   "source": [
    "print(a)"
   ]
  },
  {
   "cell_type": "code",
   "execution_count": 32,
   "id": "4bb5bd7c-be44-48b5-8f48-7c10f5534aef",
   "metadata": {},
   "outputs": [
    {
     "data": {
      "text/plain": [
       "[3, 7, 505, 3, 9, 13, 55, 100, 'hello', 't', 'r', 'y', 10, 20, 30, 3, 4, 7]"
      ]
     },
     "execution_count": 32,
     "metadata": {},
     "output_type": "execute_result"
    }
   ],
   "source": [
    "# Item assignmen\n",
    "a[2] = 505\n",
    "a"
   ]
  },
  {
   "cell_type": "code",
   "execution_count": 33,
   "id": "cebebcb6-11b8-46f4-9874-2e3ff49930f6",
   "metadata": {},
   "outputs": [
    {
     "data": {
      "text/plain": [
       "[3, 7, 505, 3, 9, 13, 55, 100, 'hello', 't', 'r', 'y']"
      ]
     },
     "execution_count": 33,
     "metadata": {},
     "output_type": "execute_result"
    }
   ],
   "source": [
    "#Item deletion\n",
    "del a[-6:]\n",
    "a"
   ]
  },
  {
   "cell_type": "markdown",
   "id": "954ab5d2-ed6b-4b33-99ef-5c4932cfa31a",
   "metadata": {},
   "source": [
    "# Tuple- Item Indexing, Slicing Item insertion, assignment, deletion\n"
   ]
  },
  {
   "cell_type": "code",
   "execution_count": 34,
   "id": "9d61a7dd-ede1-4517-b6ff-aa89b18ed19f",
   "metadata": {},
   "outputs": [],
   "source": [
    "k= (3,7,505,3,9,13,55,100,'hello')"
   ]
  },
  {
   "cell_type": "code",
   "execution_count": 35,
   "id": "0f046ba4-ae52-4077-999c-e61a0ee714c3",
   "metadata": {},
   "outputs": [
    {
     "name": "stdout",
     "output_type": "stream",
     "text": [
      "<class 'tuple'>\n",
      "(3, 7, 505, 3, 9, 13, 55, 100, 'hello')\n"
     ]
    },
    {
     "data": {
      "text/plain": [
       "9"
      ]
     },
     "execution_count": 35,
     "metadata": {},
     "output_type": "execute_result"
    }
   ],
   "source": [
    "print(type(k))\n",
    "print(k)\n",
    "len(k)"
   ]
  },
  {
   "cell_type": "code",
   "execution_count": 36,
   "id": "89d4a85c-7171-494f-9eb3-d61a612bc897",
   "metadata": {},
   "outputs": [
    {
     "data": {
      "text/plain": [
       "13"
      ]
     },
     "execution_count": 36,
     "metadata": {},
     "output_type": "execute_result"
    }
   ],
   "source": [
    "k[5]"
   ]
  },
  {
   "cell_type": "code",
   "execution_count": 37,
   "id": "3d9b02c7-d280-4c38-b03a-e876ab1525c9",
   "metadata": {},
   "outputs": [
    {
     "data": {
      "text/plain": [
       "(3, 7, 505, 3, 9, 13, 55, 100, 'hello', 'bye')"
      ]
     },
     "execution_count": 37,
     "metadata": {},
     "output_type": "execute_result"
    }
   ],
   "source": [
    "k += 'bye',\n",
    "k"
   ]
  },
  {
   "cell_type": "code",
   "execution_count": 38,
   "id": "ce110d36-bd5b-4549-a303-439870ac6570",
   "metadata": {},
   "outputs": [
    {
     "data": {
      "text/plain": [
       "(3, 7, 505, 3, 9, 13, 55, 100, 'hello', 'bye', 10)"
      ]
     },
     "execution_count": 38,
     "metadata": {},
     "output_type": "execute_result"
    }
   ],
   "source": [
    "k += 10,\n",
    "k"
   ]
  },
  {
   "cell_type": "code",
   "execution_count": 39,
   "id": "7e67db43-f7f4-4eaa-bd19-6ac768d30c66",
   "metadata": {},
   "outputs": [
    {
     "data": {
      "text/plain": [
       "(3, 7, 505, 3, 9, 13)"
      ]
     },
     "execution_count": 39,
     "metadata": {},
     "output_type": "execute_result"
    }
   ],
   "source": [
    "k=k[0:6]\n",
    "k"
   ]
  },
  {
   "cell_type": "code",
   "execution_count": 40,
   "id": "98d3d8dc-f437-4393-9f0a-52a65c5fb759",
   "metadata": {},
   "outputs": [
    {
     "ename": "TypeError",
     "evalue": "'tuple' object does not support item assignment",
     "output_type": "error",
     "traceback": [
      "\u001b[1;31m---------------------------------------------------------------------------\u001b[0m",
      "\u001b[1;31mTypeError\u001b[0m                                 Traceback (most recent call last)",
      "\u001b[1;32m~\\AppData\\Local\\Temp\\ipykernel_24772\\2691028830.py\u001b[0m in \u001b[0;36m<module>\u001b[1;34m\u001b[0m\n\u001b[1;32m----> 1\u001b[1;33m \u001b[0mk\u001b[0m\u001b[1;33m[\u001b[0m\u001b[1;36m2\u001b[0m\u001b[1;33m]\u001b[0m \u001b[1;33m=\u001b[0m \u001b[1;33m[\u001b[0m\u001b[1;34m'bye'\u001b[0m\u001b[1;33m]\u001b[0m\u001b[1;33m\u001b[0m\u001b[1;33m\u001b[0m\u001b[0m\n\u001b[0m",
      "\u001b[1;31mTypeError\u001b[0m: 'tuple' object does not support item assignment"
     ]
    }
   ],
   "source": [
    "k[2] = ['bye']"
   ]
  },
  {
   "cell_type": "code",
   "execution_count": 41,
   "id": "e3e6dd75-e384-44a9-a656-61ecb2ba2a2d",
   "metadata": {},
   "outputs": [
    {
     "ename": "TypeError",
     "evalue": "'tuple' object doesn't support item deletion",
     "output_type": "error",
     "traceback": [
      "\u001b[1;31m---------------------------------------------------------------------------\u001b[0m",
      "\u001b[1;31mTypeError\u001b[0m                                 Traceback (most recent call last)",
      "\u001b[1;32m~\\AppData\\Local\\Temp\\ipykernel_24772\\870525804.py\u001b[0m in \u001b[0;36m<module>\u001b[1;34m\u001b[0m\n\u001b[1;32m----> 1\u001b[1;33m \u001b[1;32mdel\u001b[0m \u001b[0mk\u001b[0m\u001b[1;33m[\u001b[0m\u001b[1;36m2\u001b[0m\u001b[1;33m]\u001b[0m\u001b[1;33m\u001b[0m\u001b[1;33m\u001b[0m\u001b[0m\n\u001b[0m",
      "\u001b[1;31mTypeError\u001b[0m: 'tuple' object doesn't support item deletion"
     ]
    }
   ],
   "source": [
    "del k[2]"
   ]
  },
  {
   "cell_type": "markdown",
   "id": "38cbf8cc-02d4-493f-a824-03e55d71bcb4",
   "metadata": {},
   "source": [
    "# Dictionary"
   ]
  },
  {
   "cell_type": "code",
   "execution_count": 42,
   "id": "d58c5f4b-b480-47f5-aa82-41dbaaf14489",
   "metadata": {},
   "outputs": [],
   "source": [
    "dic = {'a':[3,4,5], 40:'Good', 3.0:4+5j}"
   ]
  },
  {
   "cell_type": "code",
   "execution_count": 43,
   "id": "90234321-a81e-4d8a-8b3e-d051f3c9a98d",
   "metadata": {},
   "outputs": [
    {
     "name": "stdout",
     "output_type": "stream",
     "text": [
      "{'a': [3, 4, 5], 40: 'Good', 3.0: (4+5j)}\n"
     ]
    }
   ],
   "source": [
    "print(dic)"
   ]
  },
  {
   "cell_type": "code",
   "execution_count": 44,
   "id": "8f121ca8-f6ff-4dc0-bc0a-e50b0360fe73",
   "metadata": {},
   "outputs": [
    {
     "data": {
      "text/plain": [
       "{'name': ['Rahul', 'Jay'], 'age': [18, 20], 'stream': ['cse', 'it']}"
      ]
     },
     "execution_count": 44,
     "metadata": {},
     "output_type": "execute_result"
    }
   ],
   "source": [
    "d1 = {\n",
    "        'name':['Rahul','Jay'],\n",
    "        'age': [18,20],\n",
    "        'stream': ['cse','it']\n",
    "}\n",
    "d1"
   ]
  },
  {
   "cell_type": "code",
   "execution_count": 45,
   "id": "6bd4f1ba-8b4c-4be7-a025-b3812e80e30b",
   "metadata": {},
   "outputs": [
    {
     "data": {
      "text/plain": [
       "3"
      ]
     },
     "execution_count": 45,
     "metadata": {},
     "output_type": "execute_result"
    }
   ],
   "source": [
    "len(d1)"
   ]
  },
  {
   "cell_type": "markdown",
   "id": "5c333743-9ef7-4e93-859d-8955d6cfa6a6",
   "metadata": {},
   "source": [
    "# Item Accessing Key accessing"
   ]
  },
  {
   "cell_type": "code",
   "execution_count": 46,
   "id": "31c6b11c-adeb-4921-be91-a28e1a53dbea",
   "metadata": {},
   "outputs": [
    {
     "data": {
      "text/plain": [
       "['Rahul', 'Jay']"
      ]
     },
     "execution_count": 46,
     "metadata": {},
     "output_type": "execute_result"
    }
   ],
   "source": [
    "d1['name']"
   ]
  },
  {
   "cell_type": "code",
   "execution_count": 47,
   "id": "09b7ac05-4313-4fce-9f02-4924ede152ca",
   "metadata": {},
   "outputs": [
    {
     "data": {
      "text/plain": [
       "'Jay'"
      ]
     },
     "execution_count": 47,
     "metadata": {},
     "output_type": "execute_result"
    }
   ],
   "source": [
    "d1['name'][1]"
   ]
  },
  {
   "cell_type": "code",
   "execution_count": 48,
   "id": "0ad38a06-0bf6-4a9b-94e8-2282cd776a74",
   "metadata": {},
   "outputs": [
    {
     "data": {
      "text/plain": [
       "20"
      ]
     },
     "execution_count": 48,
     "metadata": {},
     "output_type": "execute_result"
    }
   ],
   "source": [
    "d1['age'][-1]"
   ]
  },
  {
   "cell_type": "code",
   "execution_count": 49,
   "id": "e01473b9-4ada-4497-8a7a-4d812dd96d49",
   "metadata": {},
   "outputs": [],
   "source": [
    "# Item Insertion"
   ]
  },
  {
   "cell_type": "code",
   "execution_count": 50,
   "id": "390dab79-f157-41ee-9cce-da2ce5e32142",
   "metadata": {},
   "outputs": [
    {
     "data": {
      "text/plain": [
       "{'name': ['Rahul', 'Jay'],\n",
       " 'age': [18, 20],\n",
       " 'stream': ['cse', 'it'],\n",
       " 'course': ['btech', 'mtech']}"
      ]
     },
     "execution_count": 50,
     "metadata": {},
     "output_type": "execute_result"
    }
   ],
   "source": [
    "d1['course'] = ['btech','mtech']\n",
    "d1"
   ]
  },
  {
   "cell_type": "code",
   "execution_count": 51,
   "id": "55b4295c-b4e0-4212-a907-40f54f5a9a34",
   "metadata": {},
   "outputs": [],
   "source": [
    "#Item assignment"
   ]
  },
  {
   "cell_type": "code",
   "execution_count": 52,
   "id": "1a3fc334-5ad2-4bc9-a5f2-ad24a0887b2c",
   "metadata": {},
   "outputs": [
    {
     "data": {
      "text/plain": [
       "{'name': ['Rahul', 'Jay'],\n",
       " 'age': [18, 25],\n",
       " 'stream': ['cse', 'it'],\n",
       " 'course': ['btech', 'mtech']}"
      ]
     },
     "execution_count": 52,
     "metadata": {},
     "output_type": "execute_result"
    }
   ],
   "source": [
    "d1['age'] = [18,25]\n",
    "d1"
   ]
  },
  {
   "cell_type": "code",
   "execution_count": 53,
   "id": "5edc13ab-7c45-43ea-b0aa-eb28858179ea",
   "metadata": {},
   "outputs": [],
   "source": [
    "#Item deletion"
   ]
  },
  {
   "cell_type": "code",
   "execution_count": 54,
   "id": "e721a7f6-fdfe-46be-889b-19347cce25eb",
   "metadata": {},
   "outputs": [
    {
     "data": {
      "text/plain": [
       "{'name': ['Rahul', 'Jay'], 'age': [18, 25], 'stream': ['cse', 'it']}"
      ]
     },
     "execution_count": 54,
     "metadata": {},
     "output_type": "execute_result"
    }
   ],
   "source": [
    "del d1['course']\n",
    "d1"
   ]
  },
  {
   "cell_type": "code",
   "execution_count": 55,
   "id": "a109783c-9f82-48af-b53a-2d1cb7ffc405",
   "metadata": {},
   "outputs": [
    {
     "data": {
      "text/plain": [
       "{'name': ['Rahul', 'Jay'], 'age': [18, 25], 'branch': ['cse', 'it']}"
      ]
     },
     "execution_count": 55,
     "metadata": {},
     "output_type": "execute_result"
    }
   ],
   "source": [
    "d1['branch'] = d1['stream']\n",
    "del d1['stream']\n",
    "d1"
   ]
  },
  {
   "cell_type": "code",
   "execution_count": 56,
   "id": "17db7505-8509-41d7-b25b-970b2dcd500a",
   "metadata": {},
   "outputs": [],
   "source": [
    "#Another way\n"
   ]
  },
  {
   "cell_type": "code",
   "execution_count": null,
   "id": "36b2fb02-aa72-43c6-a4e6-b8d34b0f2911",
   "metadata": {
    "tags": []
   },
   "outputs": [
    {
     "ename": "KeyError",
     "evalue": "'stream'",
     "output_type": "error",
     "traceback": [
      "\u001b[1;31m---------------------------------------------------------------------------\u001b[0m",
      "\u001b[1;31mKeyError\u001b[0m                                  Traceback (most recent call last)",
      "\u001b[1;32m~\\AppData\\Local\\Temp\\ipykernel_24772\\3353415585.py\u001b[0m in \u001b[0;36m<module>\u001b[1;34m\u001b[0m\n\u001b[0;32m      1\u001b[0m \u001b[0md1\u001b[0m\u001b[1;33m[\u001b[0m\u001b[1;34m'branch'\u001b[0m\u001b[1;33m]\u001b[0m \u001b[1;33m=\u001b[0m \u001b[1;33m[\u001b[0m\u001b[1;34m'cse'\u001b[0m\u001b[1;33m,\u001b[0m\u001b[1;34m'it'\u001b[0m\u001b[1;33m]\u001b[0m\u001b[1;33m\u001b[0m\u001b[1;33m\u001b[0m\u001b[0m\n\u001b[1;32m----> 2\u001b[1;33m \u001b[1;32mdel\u001b[0m \u001b[0md1\u001b[0m\u001b[1;33m[\u001b[0m\u001b[1;34m'stream'\u001b[0m\u001b[1;33m]\u001b[0m\u001b[1;33m\u001b[0m\u001b[1;33m\u001b[0m\u001b[0m\n\u001b[0m\u001b[0;32m      3\u001b[0m \u001b[0md1\u001b[0m\u001b[1;33m\u001b[0m\u001b[1;33m\u001b[0m\u001b[0m\n",
      "\u001b[1;31mKeyError\u001b[0m: 'stream'"
     ]
    }
   ],
   "source": [
    "d1['branch'] = ['cse','it']\n",
    "del d1['stream']\n",
    "d1"
   ]
  },
  {
   "cell_type": "markdown",
   "id": "93ac35f5-b844-4d35-88bc-b68353c6db1f",
   "metadata": {},
   "source": [
    "# Data Types In-built Functions"
   ]
  },
  {
   "cell_type": "markdown",
   "id": "6160e32d-b106-40d2-bdf1-6a469b44e611",
   "metadata": {},
   "source": [
    "## String Function"
   ]
  },
  {
   "cell_type": "code",
   "execution_count": 61,
   "id": "794b1b7f-2a1c-46ca-a9a1-d5e6503fb69a",
   "metadata": {},
   "outputs": [],
   "source": [
    "# s.upper()\n",
    "# s.lower()\n",
    "# s.split()\n",
    "# s.count()\n",
    "# s.index()\n",
    "# s.isalpha()\n",
    "# s.islower()\n",
    "# s.isnumerical()\n",
    "# s.join()\n",
    "# s.replace()\n",
    "# s.strip()"
   ]
  },
  {
   "cell_type": "code",
   "execution_count": 62,
   "id": "20938551-355d-498d-89f3-92ef01585126",
   "metadata": {},
   "outputs": [],
   "source": [
    "s = 'Hello this is a new string, did you like it?'"
   ]
  },
  {
   "cell_type": "code",
   "execution_count": 63,
   "id": "f27ef707-c75f-42f8-ab5b-052d8eecfefc",
   "metadata": {},
   "outputs": [
    {
     "data": {
      "text/plain": [
       "'HELLO THIS IS A NEW STRING, DID YOU LIKE IT?'"
      ]
     },
     "execution_count": 63,
     "metadata": {},
     "output_type": "execute_result"
    }
   ],
   "source": [
    "s.upper()"
   ]
  },
  {
   "cell_type": "code",
   "execution_count": 64,
   "id": "fd42b17e-a2fe-4323-a14b-1018322bc22a",
   "metadata": {},
   "outputs": [
    {
     "data": {
      "text/plain": [
       "6"
      ]
     },
     "execution_count": 64,
     "metadata": {},
     "output_type": "execute_result"
    }
   ],
   "source": [
    "s.index('this')"
   ]
  },
  {
   "cell_type": "code",
   "execution_count": 65,
   "id": "dcc4e037-7306-47b1-a7ae-7f6a3e46504b",
   "metadata": {},
   "outputs": [
    {
     "data": {
      "text/plain": [
       "['Hello this is a new string', ' did you like it?']"
      ]
     },
     "execution_count": 65,
     "metadata": {},
     "output_type": "execute_result"
    }
   ],
   "source": [
    "s.split(',')"
   ]
  },
  {
   "cell_type": "code",
   "execution_count": 66,
   "id": "b778a495-847f-4efe-a8e8-97c7a8a70bb2",
   "metadata": {},
   "outputs": [
    {
     "data": {
      "text/plain": [
       "3"
      ]
     },
     "execution_count": 66,
     "metadata": {},
     "output_type": "execute_result"
    }
   ],
   "source": [
    "s.count('s')"
   ]
  },
  {
   "cell_type": "code",
   "execution_count": 67,
   "id": "4f9e9c91-032c-46de-874d-6577ef108061",
   "metadata": {},
   "outputs": [
    {
     "data": {
      "text/plain": [
       "'Hello thIIs IIs a new strIIng, dIId you lIIke IIt?'"
      ]
     },
     "execution_count": 67,
     "metadata": {},
     "output_type": "execute_result"
    }
   ],
   "source": [
    "s.replace('i','II')"
   ]
  },
  {
   "cell_type": "code",
   "execution_count": 68,
   "id": "d62bb112-ced4-4057-8b70-f79efb0e22a9",
   "metadata": {},
   "outputs": [],
   "source": [
    "s1 = 'hello'"
   ]
  },
  {
   "cell_type": "code",
   "execution_count": 69,
   "id": "8a5c26b8-e490-4dbc-903c-3dcab28bd7d4",
   "metadata": {},
   "outputs": [
    {
     "data": {
      "text/plain": [
       "True"
      ]
     },
     "execution_count": 69,
     "metadata": {},
     "output_type": "execute_result"
    }
   ],
   "source": [
    "s1.islower()"
   ]
  },
  {
   "cell_type": "code",
   "execution_count": 70,
   "id": "e3ebf4f5-f371-4a05-8ba9-6f0c8afc418a",
   "metadata": {},
   "outputs": [
    {
     "data": {
      "text/plain": [
       "True"
      ]
     },
     "execution_count": 70,
     "metadata": {},
     "output_type": "execute_result"
    }
   ],
   "source": [
    "s1.isalpha()"
   ]
  },
  {
   "cell_type": "code",
   "execution_count": 71,
   "id": "6acf940c-6292-4f7a-a29c-b39b93a8bafb",
   "metadata": {},
   "outputs": [
    {
     "data": {
      "text/plain": [
       "False"
      ]
     },
     "execution_count": 71,
     "metadata": {},
     "output_type": "execute_result"
    }
   ],
   "source": [
    "s1.isnumeric()"
   ]
  },
  {
   "cell_type": "code",
   "execution_count": 72,
   "id": "adfe6b5b-84cb-4a62-9fef-c25193dbf167",
   "metadata": {},
   "outputs": [
    {
     "data": {
      "text/plain": [
       "'Hhelloehellolhellolhelloohello hellothellohhelloihelloshello helloihelloshello helloahello hellonhelloehellowhello helloshellothellorhelloihellonhelloghello,hello hellodhelloihellodhello helloyhelloohellouhello hellolhelloihellokhelloehello helloihellothello?'"
      ]
     },
     "execution_count": 72,
     "metadata": {},
     "output_type": "execute_result"
    }
   ],
   "source": [
    "s1.join(s)"
   ]
  },
  {
   "cell_type": "code",
   "execution_count": 73,
   "id": "318de61e-9833-4445-9ace-3b85cab5d877",
   "metadata": {},
   "outputs": [
    {
     "data": {
      "text/plain": [
       "'1$$2$$3$$4'"
      ]
     },
     "execution_count": 73,
     "metadata": {},
     "output_type": "execute_result"
    }
   ],
   "source": [
    "'$$'.join('1234')"
   ]
  },
  {
   "cell_type": "code",
   "execution_count": 74,
   "id": "8336b036-07da-4e6a-86cf-4a33701df663",
   "metadata": {},
   "outputs": [
    {
     "data": {
      "text/plain": [
       "['Hello', 'this', 'is', 'a', 'new', 'string,', 'did', 'you', 'like', 'it?']"
      ]
     },
     "execution_count": 74,
     "metadata": {},
     "output_type": "execute_result"
    }
   ],
   "source": [
    "s.split()"
   ]
  },
  {
   "cell_type": "code",
   "execution_count": 75,
   "id": "d934b53f-ae6b-4644-adec-3659121eb3db",
   "metadata": {},
   "outputs": [
    {
     "data": {
      "text/plain": [
       "'Hello-this-is-a-new-string,-did-you-like-it?'"
      ]
     },
     "execution_count": 75,
     "metadata": {},
     "output_type": "execute_result"
    }
   ],
   "source": [
    "'-'.join(s.split())"
   ]
  },
  {
   "cell_type": "code",
   "execution_count": 76,
   "id": "06c85f5b-ab8f-496f-8fe0-2e0363989135",
   "metadata": {},
   "outputs": [
    {
     "data": {
      "text/plain": [
       "' wow  this is another string  '"
      ]
     },
     "execution_count": 76,
     "metadata": {},
     "output_type": "execute_result"
    }
   ],
   "source": [
    "s2 = ' wow  this is another string  '\n",
    "s2"
   ]
  },
  {
   "cell_type": "code",
   "execution_count": 77,
   "id": "de0765bd-4162-404c-aec7-9fbf496635ca",
   "metadata": {},
   "outputs": [
    {
     "data": {
      "text/plain": [
       "'wow  this is another string'"
      ]
     },
     "execution_count": 77,
     "metadata": {},
     "output_type": "execute_result"
    }
   ],
   "source": [
    "s2.strip()"
   ]
  },
  {
   "cell_type": "markdown",
   "id": "f47a19e4-0c63-43c2-8eeb-6d8842e30674",
   "metadata": {},
   "source": [
    "## List Function"
   ]
  },
  {
   "cell_type": "code",
   "execution_count": 78,
   "id": "24e323a1-52bf-4852-a6e4-699d0263bc4a",
   "metadata": {},
   "outputs": [],
   "source": [
    "# a.append()\n",
    "# a.index()\n",
    "# a.insert()\n",
    "# a.sort()\n",
    "# a.pop()\n",
    "# a.remove()"
   ]
  },
  {
   "cell_type": "code",
   "execution_count": 79,
   "id": "7ffd6e6f-c1d8-487b-903c-d6085086f250",
   "metadata": {},
   "outputs": [],
   "source": [
    "a = [3,5,7,13,3]"
   ]
  },
  {
   "cell_type": "code",
   "execution_count": 80,
   "id": "09fd915c-7cf8-4557-a792-265377280813",
   "metadata": {},
   "outputs": [
    {
     "data": {
      "text/plain": [
       "[3, 5, 7, 13, 3, 56]"
      ]
     },
     "execution_count": 80,
     "metadata": {},
     "output_type": "execute_result"
    }
   ],
   "source": [
    "a.append(56)\n",
    "a"
   ]
  },
  {
   "cell_type": "code",
   "execution_count": 81,
   "id": "c5998626-c30e-4a7a-9e31-fb4e680b13a2",
   "metadata": {},
   "outputs": [
    {
     "data": {
      "text/plain": [
       "1"
      ]
     },
     "execution_count": 81,
     "metadata": {},
     "output_type": "execute_result"
    }
   ],
   "source": [
    "a.index(5)"
   ]
  },
  {
   "cell_type": "code",
   "execution_count": 82,
   "id": "69c3dc01-69b9-464b-9d8a-7480f14350bb",
   "metadata": {},
   "outputs": [
    {
     "data": {
      "text/plain": [
       "[105, 3, 5, 7, 13, 3, 56]"
      ]
     },
     "execution_count": 82,
     "metadata": {},
     "output_type": "execute_result"
    }
   ],
   "source": [
    "a.insert(0,105)\n",
    "a"
   ]
  },
  {
   "cell_type": "code",
   "execution_count": 83,
   "id": "1715574b-f569-4e59-a339-9144293b5d6f",
   "metadata": {},
   "outputs": [
    {
     "data": {
      "text/plain": [
       "[3, 3, 5, 7, 13, 56, 105]"
      ]
     },
     "execution_count": 83,
     "metadata": {},
     "output_type": "execute_result"
    }
   ],
   "source": [
    "a.sort()\n",
    "a"
   ]
  },
  {
   "cell_type": "code",
   "execution_count": 84,
   "id": "722b0e37-6da8-491c-aa31-168fb0753158",
   "metadata": {},
   "outputs": [
    {
     "data": {
      "text/plain": [
       "13"
      ]
     },
     "execution_count": 84,
     "metadata": {},
     "output_type": "execute_result"
    }
   ],
   "source": [
    "a.pop(4)"
   ]
  },
  {
   "cell_type": "code",
   "execution_count": 85,
   "id": "3bedceed-58db-4224-b52c-39c827ee574c",
   "metadata": {},
   "outputs": [
    {
     "data": {
      "text/plain": [
       "[3, 3, 5, 7, 56, 105]"
      ]
     },
     "execution_count": 85,
     "metadata": {},
     "output_type": "execute_result"
    }
   ],
   "source": [
    "a"
   ]
  },
  {
   "cell_type": "code",
   "execution_count": 86,
   "id": "b2c417bd-ebca-4bb7-8d64-b61299b05327",
   "metadata": {},
   "outputs": [
    {
     "name": "stdout",
     "output_type": "stream",
     "text": [
      "Help on built-in function append:\n",
      "\n",
      "append(object, /) method of builtins.list instance\n",
      "    Append object to the end of the list.\n",
      "\n"
     ]
    }
   ],
   "source": [
    "help(a.append)"
   ]
  },
  {
   "cell_type": "markdown",
   "id": "6d4f99ee-ed1d-4d37-b928-8e5ecdf3e0b2",
   "metadata": {},
   "source": [
    "## Tuple Function"
   ]
  },
  {
   "cell_type": "code",
   "execution_count": 87,
   "id": "cdc48126-a57d-4260-a870-a349dd895313",
   "metadata": {},
   "outputs": [],
   "source": [
    "# b.count()\n",
    "# b.index()"
   ]
  },
  {
   "cell_type": "code",
   "execution_count": 88,
   "id": "6cb40cfb-6736-4f1d-9cbe-69a2079b6276",
   "metadata": {},
   "outputs": [],
   "source": [
    "b= (3,5,3,6,8,5,9,3)"
   ]
  },
  {
   "cell_type": "code",
   "execution_count": 89,
   "id": "9f95b231-a9f3-4d2d-99e8-3a6b854dcd46",
   "metadata": {},
   "outputs": [
    {
     "data": {
      "text/plain": [
       "3"
      ]
     },
     "execution_count": 89,
     "metadata": {},
     "output_type": "execute_result"
    }
   ],
   "source": [
    "b.count(3)"
   ]
  },
  {
   "cell_type": "code",
   "execution_count": 90,
   "id": "16c6b41a-8e6f-460e-af3f-212ba7416947",
   "metadata": {},
   "outputs": [
    {
     "data": {
      "text/plain": [
       "1"
      ]
     },
     "execution_count": 90,
     "metadata": {},
     "output_type": "execute_result"
    }
   ],
   "source": [
    "b.index(5)"
   ]
  },
  {
   "cell_type": "markdown",
   "id": "00e9941e-b053-4c94-9ec5-86afb0b0be7e",
   "metadata": {},
   "source": [
    "## Dict Function"
   ]
  },
  {
   "cell_type": "code",
   "execution_count": 91,
   "id": "1b714b30-dd34-492e-b848-10cd50d68961",
   "metadata": {},
   "outputs": [],
   "source": [
    "# d.keys()\n",
    "# d.values()\n",
    "# d.get()\n",
    "# d.pop()"
   ]
  },
  {
   "cell_type": "code",
   "execution_count": 92,
   "id": "dc96604a-97c1-46f7-84b7-4de188f51e72",
   "metadata": {},
   "outputs": [
    {
     "data": {
      "text/plain": [
       "dict_keys(['name', 'age', 'branch'])"
      ]
     },
     "execution_count": 92,
     "metadata": {},
     "output_type": "execute_result"
    }
   ],
   "source": [
    "d1.keys()"
   ]
  },
  {
   "cell_type": "code",
   "execution_count": 93,
   "id": "68b6deb1-5a28-490a-87e1-4c69785f7aa1",
   "metadata": {},
   "outputs": [
    {
     "data": {
      "text/plain": [
       "{'name': ['Rahul', 'Jay'], 'age': [18, 25], 'branch': ['cse', 'it']}"
      ]
     },
     "execution_count": 93,
     "metadata": {},
     "output_type": "execute_result"
    }
   ],
   "source": [
    "d1"
   ]
  },
  {
   "cell_type": "code",
   "execution_count": 94,
   "id": "d1a67593-e1a0-4bce-8f33-854e0d0d5050",
   "metadata": {},
   "outputs": [
    {
     "data": {
      "text/plain": [
       "{'age': [18, 25], 'branch': ['cse', 'it'], 'firstname': ['Rahul', 'Jay']}"
      ]
     },
     "execution_count": 94,
     "metadata": {},
     "output_type": "execute_result"
    }
   ],
   "source": [
    "d1['firstname'] = d1.pop('name')\n",
    "d1"
   ]
  },
  {
   "cell_type": "code",
   "execution_count": 95,
   "id": "724dff18-99a0-4986-aceb-25b4e362d785",
   "metadata": {},
   "outputs": [],
   "source": [
    "# bool(1)\n",
    "# bool('a')\n",
    "# bool(0)\n",
    "# bool(None)\n",
    "# bool(34)\n",
    "# bool(-1)\n",
    "# bool(-2)\n",
    "# bool(True)\n",
    "# bool(False)\n",
    "# bool([3,4])\n",
    "# bool((3,4))\n",
    "# bool([])\n",
    "# bool({})\n",
    "# bool({[]})\n",
    "# bool([()])\n",
    "# bool(([]))\n",
    "# bool(([],))"
   ]
  },
  {
   "cell_type": "markdown",
   "id": "d7668130-4395-45d4-9d1a-dca47ae0b55e",
   "metadata": {},
   "source": [
    "# Control Statements"
   ]
  },
  {
   "cell_type": "markdown",
   "id": "09a0b72e-a999-442b-9d76-6d099214459d",
   "metadata": {},
   "source": [
    "## Decesion Making"
   ]
  },
  {
   "cell_type": "code",
   "execution_count": 96,
   "id": "276330b0-2805-4948-a158-fa2146d26402",
   "metadata": {},
   "outputs": [],
   "source": [
    "# if-elif-else"
   ]
  },
  {
   "cell_type": "code",
   "execution_count": 97,
   "id": "70185b60-91a3-4af2-9bd1-670a21d693ea",
   "metadata": {},
   "outputs": [
    {
     "name": "stdout",
     "output_type": "stream",
     "text": [
      "bahut badiya\n",
      "sab khatam\n"
     ]
    }
   ],
   "source": [
    "a= 5\n",
    "if a>5:\n",
    "    print('hi')\n",
    "    print('wow')\n",
    "    if a>10:\n",
    "        print(\"achha\")\n",
    "    print('done')\n",
    "elif a<3:\n",
    "    print('chota hai')\n",
    "else:\n",
    "    print('bahut badiya')\n",
    "print('sab khatam')\n"
   ]
  },
  {
   "cell_type": "markdown",
   "id": "0ccacae1-fb75-4889-a4d0-a693affb5860",
   "metadata": {},
   "source": [
    "## Looping"
   ]
  },
  {
   "cell_type": "code",
   "execution_count": 98,
   "id": "20e635b2-a012-42cc-b53d-b3ecf06d69dd",
   "metadata": {},
   "outputs": [],
   "source": [
    "# for or foreach and while loop"
   ]
  },
  {
   "cell_type": "code",
   "execution_count": 99,
   "id": "3f6024f1-6b3a-4a1d-b9e7-eeb614754c35",
   "metadata": {},
   "outputs": [
    {
     "name": "stdout",
     "output_type": "stream",
     "text": [
      "nnnn\n",
      "iiii\n",
      "cccc\n",
      "eeee\n"
     ]
    }
   ],
   "source": [
    "var = 'nice'\n",
    "for i in var:\n",
    "    print(i*4)"
   ]
  },
  {
   "cell_type": "code",
   "execution_count": 100,
   "id": "23e92c8e-948a-4a13-8fb3-48ea259ca2eb",
   "metadata": {},
   "outputs": [],
   "source": [
    "a = [3,8,23,45,66,34,2,18]"
   ]
  },
  {
   "cell_type": "code",
   "execution_count": 101,
   "id": "421e79c7-a7cc-4187-8fe9-f0fa54e3edf0",
   "metadata": {},
   "outputs": [
    {
     "name": "stdout",
     "output_type": "stream",
     "text": [
      "8 even\n",
      "66 even\n",
      "34 even\n",
      "2 even\n",
      "18 even\n"
     ]
    }
   ],
   "source": [
    "for var in a:\n",
    "    if var%2==0:\n",
    "        print(var,'even')"
   ]
  },
  {
   "cell_type": "code",
   "execution_count": 102,
   "id": "63463ebf-56bb-4b0e-b864-bd8fca824ec6",
   "metadata": {},
   "outputs": [
    {
     "name": "stdout",
     "output_type": "stream",
     "text": [
      "18.5 X  1  =  18.5\n",
      "18.5 X  2  =  37.0\n",
      "18.5 X  3  =  55.5\n",
      "18.5 X  4  =  74.0\n",
      "18.5 X  5  =  92.5\n",
      "18.5 X  6  =  111.0\n",
      "18.5 X  7  =  129.5\n",
      "18.5 X  8  =  148.0\n",
      "18.5 X  9  =  166.5\n",
      "18.5 X  10  =  185.0\n"
     ]
    }
   ],
   "source": [
    "for i in range(1,11):\n",
    "    a = 18.5*i\n",
    "    print('18.5 X ',i,' = ',a)\n",
    "   "
   ]
  },
  {
   "cell_type": "code",
   "execution_count": 103,
   "id": "498845e6-ea94-420a-b12e-2d7417a84f46",
   "metadata": {},
   "outputs": [
    {
     "name": "stdout",
     "output_type": "stream",
     "text": [
      "*\n",
      "**\n",
      "***\n",
      "****\n",
      "*****\n"
     ]
    }
   ],
   "source": [
    "for i in range(1,6):\n",
    "    print('*'*i)"
   ]
  },
  {
   "cell_type": "code",
   "execution_count": 104,
   "id": "194b823f-f5ff-4411-a2af-891e85bd2f40",
   "metadata": {},
   "outputs": [
    {
     "name": "stdout",
     "output_type": "stream",
     "text": [
      "*****\n",
      "****\n",
      "***\n",
      "**\n",
      "*\n"
     ]
    }
   ],
   "source": [
    "for i in range(5,0,-1):\n",
    "    print('*'*i)\n"
   ]
  },
  {
   "cell_type": "code",
   "execution_count": 105,
   "id": "2be6e803-767b-4599-99f1-5ed20350a3db",
   "metadata": {},
   "outputs": [
    {
     "name": "stdin",
     "output_type": "stream",
     "text": [
      "Enter Something 4\n"
     ]
    },
    {
     "name": "stdout",
     "output_type": "stream",
     "text": [
      "Nice\n",
      "proceed\n",
      "Nice\n",
      "proceed\n",
      "Nice\n",
      "proceed\n",
      "Nice\n",
      "proceed\n",
      "All done\n",
      "Total iteration 4\n"
     ]
    }
   ],
   "source": [
    "p = eval(input('Enter Something'))\n",
    "n=0\n",
    "while p>0:\n",
    "    print('Nice')\n",
    "    p -=1.3\n",
    "    if p == 10:\n",
    "        continue\n",
    "    print('proceed')\n",
    "    n=n+1\n",
    "    if p == 3.3:\n",
    "        break\n",
    "print('All done')\n",
    "print('Total iteration',n)"
   ]
  },
  {
   "cell_type": "code",
   "execution_count": null,
   "id": "c9d72723-61f3-4c8f-b926-ce022f2dad15",
   "metadata": {},
   "outputs": [],
   "source": [
    "p"
   ]
  },
  {
   "cell_type": "markdown",
   "id": "2fc37ec8-78f1-4c61-bd5a-e6aa8dadcf3d",
   "metadata": {},
   "source": [
    "## Functions and Libraries"
   ]
  },
  {
   "cell_type": "code",
   "execution_count": null,
   "id": "c5dbf81c-1a14-48f4-a6a3-e44745f9908d",
   "metadata": {},
   "outputs": [],
   "source": [
    "# Ways to import libraries\n",
    "----------------------------------\n",
    "# import keyword\n",
    "# import keyword as kw\n",
    "# from keyword import kwlist, iskeyword\n",
    "# from keyword import kwlist as kwl, iskeyword as isk"
   ]
  },
  {
   "cell_type": "code",
   "execution_count": 106,
   "id": "471e44d4-f252-4f9e-ac5d-f1069e707ed2",
   "metadata": {},
   "outputs": [],
   "source": [
    "import keyword"
   ]
  },
  {
   "cell_type": "code",
   "execution_count": 107,
   "id": "94166c36-ab5b-4ba3-972c-b5cfbf85227f",
   "metadata": {
    "tags": []
   },
   "outputs": [
    {
     "data": {
      "text/plain": [
       "['False',\n",
       " 'None',\n",
       " 'True',\n",
       " '__peg_parser__',\n",
       " 'and',\n",
       " 'as',\n",
       " 'assert',\n",
       " 'async',\n",
       " 'await',\n",
       " 'break',\n",
       " 'class',\n",
       " 'continue',\n",
       " 'def',\n",
       " 'del',\n",
       " 'elif',\n",
       " 'else',\n",
       " 'except',\n",
       " 'finally',\n",
       " 'for',\n",
       " 'from',\n",
       " 'global',\n",
       " 'if',\n",
       " 'import',\n",
       " 'in',\n",
       " 'is',\n",
       " 'lambda',\n",
       " 'nonlocal',\n",
       " 'not',\n",
       " 'or',\n",
       " 'pass',\n",
       " 'raise',\n",
       " 'return',\n",
       " 'try',\n",
       " 'while',\n",
       " 'with',\n",
       " 'yield']"
      ]
     },
     "execution_count": 107,
     "metadata": {},
     "output_type": "execute_result"
    }
   ],
   "source": [
    "keyword.kwlist"
   ]
  },
  {
   "cell_type": "code",
   "execution_count": 108,
   "id": "f214f380-20d5-4fe9-a767-41665c14f72e",
   "metadata": {},
   "outputs": [
    {
     "data": {
      "text/plain": [
       "True"
      ]
     },
     "execution_count": 108,
     "metadata": {},
     "output_type": "execute_result"
    }
   ],
   "source": [
    "keyword.iskeyword('if')"
   ]
  },
  {
   "cell_type": "code",
   "execution_count": 109,
   "id": "c11f1037-84ae-4bb9-9896-7c515c871058",
   "metadata": {},
   "outputs": [],
   "source": [
    "import keyword as kw"
   ]
  },
  {
   "cell_type": "code",
   "execution_count": 110,
   "id": "43f5823f-8ca8-425a-a45a-a15770bfc3d5",
   "metadata": {
    "tags": []
   },
   "outputs": [
    {
     "data": {
      "text/plain": [
       "['False',\n",
       " 'None',\n",
       " 'True',\n",
       " '__peg_parser__',\n",
       " 'and',\n",
       " 'as',\n",
       " 'assert',\n",
       " 'async',\n",
       " 'await',\n",
       " 'break',\n",
       " 'class',\n",
       " 'continue',\n",
       " 'def',\n",
       " 'del',\n",
       " 'elif',\n",
       " 'else',\n",
       " 'except',\n",
       " 'finally',\n",
       " 'for',\n",
       " 'from',\n",
       " 'global',\n",
       " 'if',\n",
       " 'import',\n",
       " 'in',\n",
       " 'is',\n",
       " 'lambda',\n",
       " 'nonlocal',\n",
       " 'not',\n",
       " 'or',\n",
       " 'pass',\n",
       " 'raise',\n",
       " 'return',\n",
       " 'try',\n",
       " 'while',\n",
       " 'with',\n",
       " 'yield']"
      ]
     },
     "execution_count": 110,
     "metadata": {},
     "output_type": "execute_result"
    }
   ],
   "source": [
    "kw.kwlist"
   ]
  },
  {
   "cell_type": "code",
   "execution_count": 111,
   "id": "14d9b507-c6b6-4b5a-9e53-ccd846bf2388",
   "metadata": {},
   "outputs": [],
   "source": [
    "from keyword import kwlist, iskeyword"
   ]
  },
  {
   "cell_type": "code",
   "execution_count": 112,
   "id": "d4a61bcc-53bc-49a2-9a56-82423314c058",
   "metadata": {},
   "outputs": [
    {
     "data": {
      "text/plain": [
       "True"
      ]
     },
     "execution_count": 112,
     "metadata": {},
     "output_type": "execute_result"
    }
   ],
   "source": [
    "iskeyword('is')"
   ]
  },
  {
   "cell_type": "code",
   "execution_count": 113,
   "id": "162b6994-b2ea-4b42-8844-fada7a488d8f",
   "metadata": {},
   "outputs": [],
   "source": [
    "from keyword import kwlist as kwl, iskeyword as isk"
   ]
  },
  {
   "cell_type": "code",
   "execution_count": 114,
   "id": "f8aa27b8-f6ed-4822-80bb-d6279511d81a",
   "metadata": {},
   "outputs": [
    {
     "data": {
      "text/plain": [
       "True"
      ]
     },
     "execution_count": 114,
     "metadata": {},
     "output_type": "execute_result"
    }
   ],
   "source": [
    "isk('is')"
   ]
  },
  {
   "cell_type": "code",
   "execution_count": 115,
   "id": "afeb524a-9d25-450c-8a79-461da02d90c9",
   "metadata": {},
   "outputs": [],
   "source": [
    "import random"
   ]
  },
  {
   "cell_type": "code",
   "execution_count": 116,
   "id": "c0a4b709-12fb-45d3-8c16-3051b89a90fe",
   "metadata": {},
   "outputs": [
    {
     "data": {
      "text/plain": [
       "1"
      ]
     },
     "execution_count": 116,
     "metadata": {},
     "output_type": "execute_result"
    }
   ],
   "source": [
    "random.randint(1,9)"
   ]
  },
  {
   "cell_type": "code",
   "execution_count": 117,
   "id": "6975262b-6d22-4acc-beb3-3ca6b41c7be9",
   "metadata": {},
   "outputs": [
    {
     "data": {
      "text/plain": [
       "'e'"
      ]
     },
     "execution_count": 117,
     "metadata": {},
     "output_type": "execute_result"
    }
   ],
   "source": [
    "random.choice(['a','b','c','d','e'])"
   ]
  },
  {
   "cell_type": "code",
   "execution_count": 118,
   "id": "c0f45f3c-704c-4b6e-863d-28495f042f08",
   "metadata": {},
   "outputs": [
    {
     "name": "stdout",
     "output_type": "stream",
     "text": [
      "aditadi\n"
     ]
    },
    {
     "data": {
      "text/plain": [
       "str"
      ]
     },
     "execution_count": 118,
     "metadata": {},
     "output_type": "execute_result"
    }
   ],
   "source": [
    "# b=random.choice(['a','b','c','d','e'])\n",
    "a='adit' + 'adi'\n",
    "print(a)\n",
    "type(a)\n",
    "# print(b)\n",
    "# a='adit'\n",
    "# a=a+b"
   ]
  },
  {
   "cell_type": "code",
   "execution_count": 119,
   "id": "f7405029-5ac6-453a-bb07-b836328f7ec5",
   "metadata": {},
   "outputs": [
    {
     "name": "stdout",
     "output_type": "stream",
     "text": [
      "e5c9t0q8e8i4\n"
     ]
    },
    {
     "data": {
      "text/plain": [
       "str"
      ]
     },
     "execution_count": 119,
     "metadata": {},
     "output_type": "execute_result"
    }
   ],
   "source": [
    "a=''\n",
    "for i in range(1,7):\n",
    "    b=random.choice('abcdefghijklmnopqrstuvwxyz') + str(random.randint(0,9))\n",
    "    a = a + b\n",
    "print(a)\n",
    "type(a)"
   ]
  },
  {
   "cell_type": "code",
   "execution_count": 120,
   "id": "058b193d-4be7-446d-bf26-f016fe4495bb",
   "metadata": {},
   "outputs": [],
   "source": [
    "from string import ascii_lowercase as al\n",
    "from string import digits as nums"
   ]
  },
  {
   "cell_type": "code",
   "execution_count": 121,
   "id": "60a22f41-8bf7-47a2-bfe1-e3efe4ba4881",
   "metadata": {},
   "outputs": [
    {
     "data": {
      "text/plain": [
       "['1', 'p', 'o', 't', 'f', 'l', 'e', '5', 'n', 'z', 's', 'x']"
      ]
     },
     "execution_count": 121,
     "metadata": {},
     "output_type": "execute_result"
    }
   ],
   "source": [
    "(random.choices(al+nums, k=12))"
   ]
  },
  {
   "cell_type": "code",
   "execution_count": 122,
   "id": "8194e04c-e4ed-45e6-9870-b16ac1694dcf",
   "metadata": {},
   "outputs": [
    {
     "data": {
      "text/plain": [
       "'lyfxzvenaw9w'"
      ]
     },
     "execution_count": 122,
     "metadata": {},
     "output_type": "execute_result"
    }
   ],
   "source": [
    "pwd = ''.join(random.choices(al+nums, k=12))\n",
    "pwd"
   ]
  },
  {
   "cell_type": "code",
   "execution_count": 123,
   "id": "bc3df888-63fe-4ef0-b391-a6373e7d2d4e",
   "metadata": {},
   "outputs": [
    {
     "name": "stdout",
     "output_type": "stream",
     "text": [
      "lyfxzvenaw9w\n"
     ]
    }
   ],
   "source": [
    "print(pwd)\n",
    "f = open('secret.txt','w')\n",
    "f.write(pwd)\n",
    "f.close()"
   ]
  },
  {
   "cell_type": "markdown",
   "id": "4683301b-766f-4fef-beb7-9d3a8a0efe52",
   "metadata": {},
   "source": [
    "### Creating a function for our password"
   ]
  },
  {
   "cell_type": "code",
   "execution_count": 124,
   "id": "abcd7ea2-718c-42ef-abbe-b9c2bcccf780",
   "metadata": {},
   "outputs": [],
   "source": [
    "def generate_password():\n",
    "    pwd = ''.join(random.choices(al+nums, k=12))\n",
    "    print(pwd)\n",
    "    f = open('secret.txt','w')\n",
    "    f.write(pwd)\n",
    "    f.close()"
   ]
  },
  {
   "cell_type": "code",
   "execution_count": 125,
   "id": "f6d878b8-afb2-4d48-a763-34f4d19f7e39",
   "metadata": {},
   "outputs": [
    {
     "name": "stdout",
     "output_type": "stream",
     "text": [
      "l4t3wkezkx5f\n"
     ]
    }
   ],
   "source": [
    "generate_password()"
   ]
  },
  {
   "cell_type": "markdown",
   "id": "4de020a6-a427-4795-b5c6-5046aad5dd1f",
   "metadata": {},
   "source": [
    "### Creating Program for password"
   ]
  },
  {
   "cell_type": "code",
   "execution_count": 126,
   "id": "681745cb-67a2-4108-8dea-0f1a31f13f81",
   "metadata": {},
   "outputs": [],
   "source": [
    "import tkinter as ttk\n",
    "app = ttk.Tk()\n",
    "app.title('This is my first software')\n",
    "app.geometry('400x400')\n",
    "\n",
    "var = ttk.Variable(app)\n",
    "var.set('Ye ek label hai')\n",
    "ttk.Label(app,textvariable=var).pack()\n",
    "\n",
    "def kaam():\n",
    "    var.set('Jo apka man kare')\n",
    "ttk.Button(app, text='Click Me', command=kaam).pack()\n",
    "\n",
    "def ekorkaam():\n",
    "    var.set('Kuch bhi')\n",
    "ttk.Button(app, text='Mujhe Bhi', command=ekorkaam).pack()\n",
    "\n",
    "def generate_password():\n",
    "    pwd = ''.join(random.choices(al+nums, k=12))\n",
    "    var.set(pwd)\n",
    "ttk.Button(app, text='Generate-Password', command=generate_password).pack()\n",
    "\n",
    "app.mainloop()"
   ]
  },
  {
   "cell_type": "markdown",
   "id": "766bb9b2-b23c-4233-89b2-4da45b00f971",
   "metadata": {},
   "source": [
    "# Full software for password"
   ]
  },
  {
   "cell_type": "code",
   "execution_count": 127,
   "id": "ee4078fe-a6e4-4882-9cad-c00da48d44e4",
   "metadata": {},
   "outputs": [],
   "source": [
    "import tkinter as ttk\n",
    "app = ttk.Tk()\n",
    "app.title('This is my first software')\n",
    "app.geometry('400x400')\n",
    "\n",
    "var = ttk.Variable(app)\n",
    "ttk.Label(app,text='').pack()\n",
    "ttk.Label(app,textvariable=var).pack()\n",
    "ttk.Label(app,text='').pack()\n",
    "\n",
    "def generate_password():\n",
    "    pwd = ''.join(random.choices(al+nums, k=12))\n",
    "    var.set(pwd)\n",
    "    f = open('secret.txt','w')\n",
    "    f.write(pwd)\n",
    "    f.close()\n",
    "    var.set(pwd)\n",
    "ttk.Button(app, text='Generate-Password', command=generate_password,font = ('Arial',25)).pack()\n",
    "\n",
    "ttk.Label(app,text='').pack()\n",
    "# def kaam():\n",
    "#     var.set('Jo apka man kare')\n",
    "# ttk.Button(app, text='Click Me', command=kaam).pack()\n",
    "\n",
    "def ekorkaam():\n",
    "    var.set('')\n",
    "ttk.Button(app, text='Choo-Mantar', command=ekorkaam,font = ('Arial',25)).pack()\n",
    "\n",
    "\n",
    "\n",
    "app.mainloop()"
   ]
  }
 ],
 "metadata": {
  "kernelspec": {
   "display_name": "Python 3 (ipykernel)",
   "language": "python",
   "name": "python3"
  },
  "language_info": {
   "codemirror_mode": {
    "name": "ipython",
    "version": 3
   },
   "file_extension": ".py",
   "mimetype": "text/x-python",
   "name": "python",
   "nbconvert_exporter": "python",
   "pygments_lexer": "ipython3",
   "version": "3.9.13"
  }
 },
 "nbformat": 4,
 "nbformat_minor": 5
}
