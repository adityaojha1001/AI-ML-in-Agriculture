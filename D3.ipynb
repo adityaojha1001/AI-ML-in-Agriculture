{
 "cells": [
  {
   "cell_type": "markdown",
   "id": "2c7b4bf6-67c9-4d44-b727-9d8c8a60d3e4",
   "metadata": {},
   "source": [
    "# Libraries"
   ]
  },
  {
   "cell_type": "code",
   "execution_count": 1,
   "id": "f2496e7e-a2c9-4c03-80b9-712f1f98d087",
   "metadata": {},
   "outputs": [],
   "source": [
    "import numpy as np"
   ]
  },
  {
   "cell_type": "code",
   "execution_count": 2,
   "id": "413f1d2d-ab2a-4263-a1b0-0595d642d460",
   "metadata": {},
   "outputs": [
    {
     "data": {
      "text/plain": [
       "<module 'numpy' from 'C:\\\\ProgramData\\\\Anaconda3\\\\lib\\\\site-packages\\\\numpy\\\\__init__.py'>"
      ]
     },
     "execution_count": 2,
     "metadata": {},
     "output_type": "execute_result"
    }
   ],
   "source": [
    "np"
   ]
  },
  {
   "cell_type": "markdown",
   "id": "6c8f116e-ec15-4842-a118-fb601deb69af",
   "metadata": {},
   "source": [
    "## Numpy array"
   ]
  },
  {
   "cell_type": "code",
   "execution_count": 4,
   "id": "155e3d6a-8c8a-4f51-ada4-cfd50adcb6b4",
   "metadata": {},
   "outputs": [
    {
     "data": {
      "text/plain": [
       "array([ 3,  8,  1, 10])"
      ]
     },
     "execution_count": 4,
     "metadata": {},
     "output_type": "execute_result"
    }
   ],
   "source": [
    "a= np.array([3,8,1,10])\n",
    "a"
   ]
  },
  {
   "cell_type": "code",
   "execution_count": 5,
   "id": "d30aa4d8-1156-4339-83c2-e6857806dc4a",
   "metadata": {},
   "outputs": [
    {
     "data": {
      "text/plain": [
       "numpy.ndarray"
      ]
     },
     "execution_count": 5,
     "metadata": {},
     "output_type": "execute_result"
    }
   ],
   "source": [
    "type(a)"
   ]
  },
  {
   "cell_type": "code",
   "execution_count": 6,
   "id": "cbc2cc75-1d2d-426c-978d-46c5402a1636",
   "metadata": {},
   "outputs": [
    {
     "data": {
      "text/plain": [
       "4"
      ]
     },
     "execution_count": 6,
     "metadata": {},
     "output_type": "execute_result"
    }
   ],
   "source": [
    "len(a)"
   ]
  },
  {
   "cell_type": "code",
   "execution_count": 8,
   "id": "0b82fb89-b98d-405e-b79e-11a8840fa1ea",
   "metadata": {},
   "outputs": [
    {
     "data": {
      "text/plain": [
       "array([3, 8, 1])"
      ]
     },
     "execution_count": 8,
     "metadata": {},
     "output_type": "execute_result"
    }
   ],
   "source": [
    "a[:3]"
   ]
  },
  {
   "cell_type": "code",
   "execution_count": 9,
   "id": "987682d9-3ea5-4b61-988d-63274e13a71e",
   "metadata": {},
   "outputs": [
    {
     "data": {
      "text/plain": [
       "'hihihihi'"
      ]
     },
     "execution_count": 9,
     "metadata": {},
     "output_type": "execute_result"
    }
   ],
   "source": [
    "'hi'*4"
   ]
  },
  {
   "cell_type": "code",
   "execution_count": 10,
   "id": "deea84f0-a788-4d97-bfae-5104e2cbb44d",
   "metadata": {},
   "outputs": [
    {
     "data": {
      "text/plain": [
       "[2, 5, 'a', 2, 5, 'a', 2, 5, 'a']"
      ]
     },
     "execution_count": 10,
     "metadata": {},
     "output_type": "execute_result"
    }
   ],
   "source": [
    "[2,5,'a'] *3"
   ]
  },
  {
   "cell_type": "code",
   "execution_count": 11,
   "id": "7390a4da-2fb3-45c7-aff8-640eabe69beb",
   "metadata": {},
   "outputs": [
    {
     "data": {
      "text/plain": [
       "array([ 9, 24,  3, 30])"
      ]
     },
     "execution_count": 11,
     "metadata": {},
     "output_type": "execute_result"
    }
   ],
   "source": [
    "a*3"
   ]
  },
  {
   "cell_type": "code",
   "execution_count": 12,
   "id": "7f55ba14-114d-4094-859a-60ae8c5e924c",
   "metadata": {},
   "outputs": [
    {
     "data": {
      "text/plain": [
       "(4,)"
      ]
     },
     "execution_count": 12,
     "metadata": {},
     "output_type": "execute_result"
    }
   ],
   "source": [
    "a.shape"
   ]
  },
  {
   "cell_type": "code",
   "execution_count": 13,
   "id": "a0d3e66e-911b-4727-a08e-5cea32826cb4",
   "metadata": {},
   "outputs": [
    {
     "data": {
      "text/plain": [
       "1"
      ]
     },
     "execution_count": 13,
     "metadata": {},
     "output_type": "execute_result"
    }
   ],
   "source": [
    "a.ndim"
   ]
  },
  {
   "cell_type": "code",
   "execution_count": 14,
   "id": "c3b061e8-4c30-4935-87d3-2eb2043947e7",
   "metadata": {},
   "outputs": [
    {
     "data": {
      "text/plain": [
       "dtype('int32')"
      ]
     },
     "execution_count": 14,
     "metadata": {},
     "output_type": "execute_result"
    }
   ],
   "source": [
    "a.dtype"
   ]
  },
  {
   "cell_type": "code",
   "execution_count": 16,
   "id": "f21854a9-4660-4a72-9fb2-42e9eb3abf23",
   "metadata": {},
   "outputs": [
    {
     "data": {
      "text/plain": [
       "22"
      ]
     },
     "execution_count": 16,
     "metadata": {},
     "output_type": "execute_result"
    }
   ],
   "source": [
    "a.sum()"
   ]
  },
  {
   "cell_type": "code",
   "execution_count": 17,
   "id": "9ab9e551-0da6-4612-8d7d-e2760d5789e5",
   "metadata": {},
   "outputs": [
    {
     "data": {
      "text/plain": [
       "5.5"
      ]
     },
     "execution_count": 17,
     "metadata": {},
     "output_type": "execute_result"
    }
   ],
   "source": [
    "a.mean()"
   ]
  },
  {
   "cell_type": "code",
   "execution_count": 18,
   "id": "9f62801b-8600-46cc-81e6-8d37e2e165b5",
   "metadata": {},
   "outputs": [],
   "source": [
    "a[0]=13"
   ]
  },
  {
   "cell_type": "code",
   "execution_count": 19,
   "id": "7787687c-5270-4eac-9ae6-36ed7614d706",
   "metadata": {},
   "outputs": [
    {
     "data": {
      "text/plain": [
       "array([13,  8,  1, 10])"
      ]
     },
     "execution_count": 19,
     "metadata": {},
     "output_type": "execute_result"
    }
   ],
   "source": [
    "a"
   ]
  },
  {
   "cell_type": "code",
   "execution_count": 20,
   "id": "dcae4a9e-f077-4d14-818f-02070c111c48",
   "metadata": {
    "tags": []
   },
   "outputs": [
    {
     "ename": "ValueError",
     "evalue": "cannot delete array elements",
     "output_type": "error",
     "traceback": [
      "\u001b[1;31m---------------------------------------------------------------------------\u001b[0m",
      "\u001b[1;31mValueError\u001b[0m                                Traceback (most recent call last)",
      "\u001b[1;32m~\\AppData\\Local\\Temp\\ipykernel_6260\\3659789701.py\u001b[0m in \u001b[0;36m<module>\u001b[1;34m\u001b[0m\n\u001b[1;32m----> 1\u001b[1;33m \u001b[1;32mdel\u001b[0m \u001b[0ma\u001b[0m\u001b[1;33m[\u001b[0m\u001b[1;33m-\u001b[0m\u001b[1;36m1\u001b[0m\u001b[1;33m]\u001b[0m\u001b[1;33m\u001b[0m\u001b[1;33m\u001b[0m\u001b[0m\n\u001b[0m",
      "\u001b[1;31mValueError\u001b[0m: cannot delete array elements"
     ]
    }
   ],
   "source": [
    "del a[-1]"
   ]
  },
  {
   "cell_type": "code",
   "execution_count": 21,
   "id": "f667dba2-9ef4-4b34-8c02-8e9ffe87d7f8",
   "metadata": {},
   "outputs": [
    {
     "data": {
      "text/plain": [
       "array([ 3.4,  5. , 10. ])"
      ]
     },
     "execution_count": 21,
     "metadata": {},
     "output_type": "execute_result"
    }
   ],
   "source": [
    "b=np.array([3.4,5.0,10])\n",
    "b"
   ]
  },
  {
   "cell_type": "code",
   "execution_count": 22,
   "id": "f17ad7e1-f3c3-4852-bad1-6214b38fc003",
   "metadata": {},
   "outputs": [
    {
     "data": {
      "text/plain": [
       "array([[ 3,  8,  7, 12],\n",
       "       [ 4,  9,  3, 20],\n",
       "       [11,  6,  8,  1]])"
      ]
     },
     "execution_count": 22,
     "metadata": {},
     "output_type": "execute_result"
    }
   ],
   "source": [
    "c=np.array([[3,8,7,12],[4,9,3,20],[11,6,8,1]])\n",
    "c"
   ]
  },
  {
   "cell_type": "code",
   "execution_count": 23,
   "id": "6addae99-5292-432c-a78e-6f7f115a6dad",
   "metadata": {},
   "outputs": [
    {
     "data": {
      "text/plain": [
       "numpy.ndarray"
      ]
     },
     "execution_count": 23,
     "metadata": {},
     "output_type": "execute_result"
    }
   ],
   "source": [
    "type(c)"
   ]
  },
  {
   "cell_type": "code",
   "execution_count": 24,
   "id": "7f13629d-2cfd-4eaf-84cf-0d891333c9e7",
   "metadata": {},
   "outputs": [
    {
     "data": {
      "text/plain": [
       "(3, 4)"
      ]
     },
     "execution_count": 24,
     "metadata": {},
     "output_type": "execute_result"
    }
   ],
   "source": [
    "c.shape"
   ]
  },
  {
   "cell_type": "code",
   "execution_count": 26,
   "id": "cd730f24-9450-4915-b90b-7960e25386e6",
   "metadata": {},
   "outputs": [
    {
     "data": {
      "text/plain": [
       "92"
      ]
     },
     "execution_count": 26,
     "metadata": {},
     "output_type": "execute_result"
    }
   ],
   "source": [
    "c.sum()"
   ]
  },
  {
   "cell_type": "code",
   "execution_count": 27,
   "id": "e9c7a402-9d44-475b-ba7d-fcb80b225067",
   "metadata": {},
   "outputs": [
    {
     "data": {
      "text/plain": [
       "dtype('int32')"
      ]
     },
     "execution_count": 27,
     "metadata": {},
     "output_type": "execute_result"
    }
   ],
   "source": [
    "c.dtype"
   ]
  },
  {
   "cell_type": "code",
   "execution_count": 28,
   "id": "3329d746-e779-46db-a92c-ba08aedb9c33",
   "metadata": {},
   "outputs": [
    {
     "data": {
      "text/plain": [
       "7.666666666666667"
      ]
     },
     "execution_count": 28,
     "metadata": {},
     "output_type": "execute_result"
    }
   ],
   "source": [
    "c.mean()"
   ]
  },
  {
   "cell_type": "code",
   "execution_count": 29,
   "id": "62fd7091-d805-41ff-8a92-45b245cd414e",
   "metadata": {},
   "outputs": [
    {
     "data": {
      "text/plain": [
       "3"
      ]
     },
     "execution_count": 29,
     "metadata": {},
     "output_type": "execute_result"
    }
   ],
   "source": [
    "c[0][0]"
   ]
  },
  {
   "cell_type": "code",
   "execution_count": 35,
   "id": "d7a24f14-33d4-4455-b24b-332248accae9",
   "metadata": {},
   "outputs": [],
   "source": [
    "# Method-1"
   ]
  },
  {
   "cell_type": "code",
   "execution_count": 37,
   "id": "28548ef5-0b16-4ad3-a96a-4e36ae509dd6",
   "metadata": {},
   "outputs": [
    {
     "name": "stdout",
     "output_type": "stream",
     "text": [
      "8\n",
      "9\n"
     ]
    }
   ],
   "source": [
    "for i in range(0,2):\n",
    "    d=c[i][1]\n",
    "    print(d)\n",
    "\n",
    "        "
   ]
  },
  {
   "cell_type": "code",
   "execution_count": 39,
   "id": "8d982250-05bb-4447-a84d-49443e06c7c8",
   "metadata": {},
   "outputs": [],
   "source": [
    "# Method-2"
   ]
  },
  {
   "cell_type": "code",
   "execution_count": 38,
   "id": "a03d0ae3-1023-4152-bacf-d5108ee02ab7",
   "metadata": {},
   "outputs": [
    {
     "data": {
      "text/plain": [
       "array([8, 9])"
      ]
     },
     "execution_count": 38,
     "metadata": {},
     "output_type": "execute_result"
    }
   ],
   "source": [
    "c[:2, 1]"
   ]
  },
  {
   "cell_type": "code",
   "execution_count": 46,
   "id": "99fa004a-2d95-4839-998e-2ea271bf508c",
   "metadata": {},
   "outputs": [
    {
     "data": {
      "text/plain": [
       "array([[ 3, 20],\n",
       "       [ 8,  1]])"
      ]
     },
     "execution_count": 46,
     "metadata": {},
     "output_type": "execute_result"
    }
   ],
   "source": [
    "c[1:3,2:4]"
   ]
  },
  {
   "cell_type": "code",
   "execution_count": null,
   "id": "dcbcc10c-eef5-4358-936e-a176fa4da1aa",
   "metadata": {},
   "outputs": [],
   "source": [
    "# Method-1"
   ]
  },
  {
   "cell_type": "code",
   "execution_count": 48,
   "id": "63184b9d-5fff-469f-8b43-f89875e129cf",
   "metadata": {},
   "outputs": [
    {
     "data": {
      "text/plain": [
       "array([11,  6,  8,  1])"
      ]
     },
     "execution_count": 48,
     "metadata": {},
     "output_type": "execute_result"
    }
   ],
   "source": [
    "c[2,:4]"
   ]
  },
  {
   "cell_type": "code",
   "execution_count": null,
   "id": "ac953c45-0f84-47a8-9c91-39f0659a5960",
   "metadata": {},
   "outputs": [],
   "source": [
    "# Method-2"
   ]
  },
  {
   "cell_type": "code",
   "execution_count": 49,
   "id": "7bbe40bd-17ce-4fba-a705-82af2ca59d12",
   "metadata": {},
   "outputs": [
    {
     "data": {
      "text/plain": [
       "array([11,  6,  8,  1])"
      ]
     },
     "execution_count": 49,
     "metadata": {},
     "output_type": "execute_result"
    }
   ],
   "source": [
    "c[-1]"
   ]
  },
  {
   "cell_type": "code",
   "execution_count": 53,
   "id": "b80aecf4-c140-47ba-ae8a-7d654af877fe",
   "metadata": {},
   "outputs": [
    {
     "data": {
      "text/plain": [
       "array([ 3,  4, 11])"
      ]
     },
     "execution_count": 53,
     "metadata": {},
     "output_type": "execute_result"
    }
   ],
   "source": [
    "c[:,0]"
   ]
  },
  {
   "cell_type": "code",
   "execution_count": 55,
   "id": "60c4e367-6f8e-404f-a5b5-e20fba5ba2bc",
   "metadata": {},
   "outputs": [
    {
     "data": {
      "text/plain": [
       "array([[ 3],\n",
       "       [ 4],\n",
       "       [11]])"
      ]
     },
     "execution_count": 55,
     "metadata": {},
     "output_type": "execute_result"
    }
   ],
   "source": [
    "c[:,0:1]"
   ]
  },
  {
   "cell_type": "code",
   "execution_count": 56,
   "id": "04f4df24-1600-4fbc-89c0-8d04caa0c7fd",
   "metadata": {},
   "outputs": [
    {
     "data": {
      "text/plain": [
       "array([[ 3,  8,  7, 12],\n",
       "       [ 4,  9,  3, 20],\n",
       "       [11,  6,  8,  1]])"
      ]
     },
     "execution_count": 56,
     "metadata": {},
     "output_type": "execute_result"
    }
   ],
   "source": [
    "c"
   ]
  },
  {
   "cell_type": "code",
   "execution_count": 62,
   "id": "9f7747a9-3048-444e-ba25-1da340c93238",
   "metadata": {},
   "outputs": [
    {
     "data": {
      "text/plain": [
       "12"
      ]
     },
     "execution_count": 62,
     "metadata": {},
     "output_type": "execute_result"
    }
   ],
   "source": [
    "c.size"
   ]
  },
  {
   "cell_type": "code",
   "execution_count": 63,
   "id": "bbb14141-bc4a-4828-a729-fd8c56e29f8c",
   "metadata": {},
   "outputs": [
    {
     "data": {
      "text/plain": [
       "array([[ 3,  8,  7, 12],\n",
       "       [ 4,  9,  3, 20],\n",
       "       [11,  6,  8,  1]])"
      ]
     },
     "execution_count": 63,
     "metadata": {},
     "output_type": "execute_result"
    }
   ],
   "source": [
    "c"
   ]
  },
  {
   "cell_type": "code",
   "execution_count": 59,
   "id": "79d290e3-3648-4df5-be43-4b039e3d32ea",
   "metadata": {},
   "outputs": [],
   "source": [
    "d = c.reshape(6,2)"
   ]
  },
  {
   "cell_type": "code",
   "execution_count": 60,
   "id": "6d81afee-0e6b-4c27-890c-336a2f47b601",
   "metadata": {},
   "outputs": [
    {
     "data": {
      "text/plain": [
       "array([[ 3,  8],\n",
       "       [ 7, 12],\n",
       "       [ 4,  9],\n",
       "       [ 3, 20],\n",
       "       [11,  6],\n",
       "       [ 8,  1]])"
      ]
     },
     "execution_count": 60,
     "metadata": {},
     "output_type": "execute_result"
    }
   ],
   "source": [
    "d"
   ]
  },
  {
   "cell_type": "code",
   "execution_count": 64,
   "id": "0b4f9d59-844d-4500-834e-c5dbfd36811b",
   "metadata": {},
   "outputs": [
    {
     "data": {
      "text/plain": [
       "92"
      ]
     },
     "execution_count": 64,
     "metadata": {},
     "output_type": "execute_result"
    }
   ],
   "source": [
    "d.sum()"
   ]
  },
  {
   "cell_type": "code",
   "execution_count": 66,
   "id": "2d0e5e94-0d3c-44d1-a4d9-61f21cac91a8",
   "metadata": {},
   "outputs": [
    {
     "data": {
      "text/plain": [
       "array([11, 19, 13, 23, 17,  9])"
      ]
     },
     "execution_count": 66,
     "metadata": {},
     "output_type": "execute_result"
    }
   ],
   "source": [
    "d.sum(axis=1) # sum for each row"
   ]
  },
  {
   "cell_type": "code",
   "execution_count": 67,
   "id": "4f2de2f1-f74b-4401-b34a-66b1912b3a7d",
   "metadata": {},
   "outputs": [
    {
     "data": {
      "text/plain": [
       "array([36, 56])"
      ]
     },
     "execution_count": 67,
     "metadata": {},
     "output_type": "execute_result"
    }
   ],
   "source": [
    "d.sum(axis=0) # sum for each row"
   ]
  },
  {
   "cell_type": "code",
   "execution_count": 69,
   "id": "2479388c-2bf6-4ad0-909e-eb13251cb3c8",
   "metadata": {},
   "outputs": [],
   "source": [
    "# d.mean()\n",
    "# d.max()\n",
    "# d.min()\n",
    "# d.std()\n",
    "# d.var()"
   ]
  },
  {
   "cell_type": "code",
   "execution_count": 70,
   "id": "35140fa1-8bb4-44a7-9756-c1b549f38602",
   "metadata": {},
   "outputs": [
    {
     "data": {
      "text/plain": [
       "7.666666666666667"
      ]
     },
     "execution_count": 70,
     "metadata": {},
     "output_type": "execute_result"
    }
   ],
   "source": [
    "d.mean()"
   ]
  },
  {
   "cell_type": "code",
   "execution_count": 71,
   "id": "ba9f06c0-ac4a-4386-bc46-089fccf8a369",
   "metadata": {},
   "outputs": [
    {
     "data": {
      "text/plain": [
       "20"
      ]
     },
     "execution_count": 71,
     "metadata": {},
     "output_type": "execute_result"
    }
   ],
   "source": [
    "d.max()"
   ]
  },
  {
   "cell_type": "code",
   "execution_count": 72,
   "id": "82150132-e774-43e4-8836-6e57f7fce13d",
   "metadata": {},
   "outputs": [
    {
     "data": {
      "text/plain": [
       "1"
      ]
     },
     "execution_count": 72,
     "metadata": {},
     "output_type": "execute_result"
    }
   ],
   "source": [
    "d.min()"
   ]
  },
  {
   "cell_type": "code",
   "execution_count": 73,
   "id": "40d601b7-9443-4dd4-b513-74ba1b1d860a",
   "metadata": {},
   "outputs": [
    {
     "data": {
      "text/plain": [
       "4.904646323187387"
      ]
     },
     "execution_count": 73,
     "metadata": {},
     "output_type": "execute_result"
    }
   ],
   "source": [
    "d.std()"
   ]
  },
  {
   "cell_type": "code",
   "execution_count": 74,
   "id": "deda31f4-66ff-45ef-a551-851e2c849e9c",
   "metadata": {},
   "outputs": [
    {
     "data": {
      "text/plain": [
       "24.055555555555554"
      ]
     },
     "execution_count": 74,
     "metadata": {},
     "output_type": "execute_result"
    }
   ],
   "source": [
    "d.var()"
   ]
  },
  {
   "cell_type": "code",
   "execution_count": 77,
   "id": "04bd0f4a-17db-4457-ac89-f20724368453",
   "metadata": {},
   "outputs": [
    {
     "data": {
      "text/plain": [
       "20"
      ]
     },
     "execution_count": 77,
     "metadata": {},
     "output_type": "execute_result"
    }
   ],
   "source": [
    "d.flatten()[7]"
   ]
  },
  {
   "cell_type": "code",
   "execution_count": 78,
   "id": "528c5a15-c28a-4a04-a147-a0232be68f5b",
   "metadata": {},
   "outputs": [
    {
     "data": {
      "text/plain": [
       "array([4, 3], dtype=int64)"
      ]
     },
     "execution_count": 78,
     "metadata": {},
     "output_type": "execute_result"
    }
   ],
   "source": [
    "d.argmax(axis=0)"
   ]
  },
  {
   "cell_type": "code",
   "execution_count": 81,
   "id": "2ebdb2dd-4649-4a41-8e89-9736dbe52562",
   "metadata": {},
   "outputs": [
    {
     "data": {
      "text/plain": [
       "array([13,  8,  1, 10])"
      ]
     },
     "execution_count": 81,
     "metadata": {},
     "output_type": "execute_result"
    }
   ],
   "source": [
    "a"
   ]
  },
  {
   "cell_type": "code",
   "execution_count": 83,
   "id": "e3faf362-3ced-4c21-a5a7-7fee1926ddbe",
   "metadata": {},
   "outputs": [
    {
     "data": {
      "text/plain": [
       "(4,)"
      ]
     },
     "execution_count": 83,
     "metadata": {},
     "output_type": "execute_result"
    }
   ],
   "source": [
    "a.shape"
   ]
  },
  {
   "cell_type": "code",
   "execution_count": 84,
   "id": "266602e7-ce62-4cf2-8573-4fbeaa310c64",
   "metadata": {},
   "outputs": [
    {
     "data": {
      "text/plain": [
       "array([[13],\n",
       "       [ 8],\n",
       "       [ 1],\n",
       "       [10]])"
      ]
     },
     "execution_count": 84,
     "metadata": {},
     "output_type": "execute_result"
    }
   ],
   "source": [
    "a.reshape(4,1)"
   ]
  },
  {
   "cell_type": "code",
   "execution_count": 85,
   "id": "9a33e7d3-abd2-434d-9138-fc79bbecce12",
   "metadata": {},
   "outputs": [
    {
     "data": {
      "text/plain": [
       "array([[13,  8,  1, 10]])"
      ]
     },
     "execution_count": 85,
     "metadata": {},
     "output_type": "execute_result"
    }
   ],
   "source": [
    "a.reshape(1,4)"
   ]
  },
  {
   "cell_type": "code",
   "execution_count": null,
   "id": "9e1887ee-eea7-43eb-a024-f59f77d36910",
   "metadata": {},
   "outputs": [],
   "source": [
    "a.reshape"
   ]
  },
  {
   "cell_type": "code",
   "execution_count": 86,
   "id": "d11586ea-fb0e-4ab9-b28f-691c6045b99c",
   "metadata": {},
   "outputs": [
    {
     "data": {
      "text/plain": [
       "array([ 1,  3,  5,  7,  9, 11, 13, 15, 17, 19])"
      ]
     },
     "execution_count": 86,
     "metadata": {},
     "output_type": "execute_result"
    }
   ],
   "source": [
    "# Array creation\n",
    "np.array([1,2,3])\n",
    "np.arange(1,20,2)"
   ]
  },
  {
   "cell_type": "code",
   "execution_count": 88,
   "id": "6e664a76-9382-4089-9550-018e070c0f48",
   "metadata": {},
   "outputs": [
    {
     "data": {
      "text/plain": [
       "array([ 18.5,  37. ,  55.5,  74. ,  92.5, 111. , 129.5, 148. , 166.5,\n",
       "       185. ])"
      ]
     },
     "execution_count": 88,
     "metadata": {},
     "output_type": "execute_result"
    }
   ],
   "source": [
    "np.arange(18.5,185.1,18.5)"
   ]
  },
  {
   "cell_type": "code",
   "execution_count": 95,
   "id": "a6aa2695-d948-421b-aece-cc451b2edb58",
   "metadata": {},
   "outputs": [
    {
     "data": {
      "text/plain": [
       "array([10,  9,  8,  7,  6,  5,  4,  3,  2,  1])"
      ]
     },
     "execution_count": 95,
     "metadata": {},
     "output_type": "execute_result"
    }
   ],
   "source": [
    "np.arange(10,0,-1)"
   ]
  },
  {
   "cell_type": "code",
   "execution_count": 97,
   "id": "53689bfe-b50a-4154-a5f6-92a0a122a1d1",
   "metadata": {
    "collapsed": true,
    "jupyter": {
     "outputs_hidden": true
    },
    "tags": []
   },
   "outputs": [
    {
     "data": {
      "text/plain": [
       "array([10.        ,  9.81632653,  9.63265306,  9.44897959,  9.26530612,\n",
       "        9.08163265,  8.89795918,  8.71428571,  8.53061224,  8.34693878,\n",
       "        8.16326531,  7.97959184,  7.79591837,  7.6122449 ,  7.42857143,\n",
       "        7.24489796,  7.06122449,  6.87755102,  6.69387755,  6.51020408,\n",
       "        6.32653061,  6.14285714,  5.95918367,  5.7755102 ,  5.59183673,\n",
       "        5.40816327,  5.2244898 ,  5.04081633,  4.85714286,  4.67346939,\n",
       "        4.48979592,  4.30612245,  4.12244898,  3.93877551,  3.75510204,\n",
       "        3.57142857,  3.3877551 ,  3.20408163,  3.02040816,  2.83673469,\n",
       "        2.65306122,  2.46938776,  2.28571429,  2.10204082,  1.91836735,\n",
       "        1.73469388,  1.55102041,  1.36734694,  1.18367347,  1.        ])"
      ]
     },
     "execution_count": 97,
     "metadata": {},
     "output_type": "execute_result"
    }
   ],
   "source": [
    "np.linspace(10,1,50)"
   ]
  },
  {
   "cell_type": "code",
   "execution_count": 100,
   "id": "cb6eed71-8c87-4ca6-93a0-5c3f622e7eb5",
   "metadata": {},
   "outputs": [
    {
     "data": {
      "text/plain": [
       "array([[33, 44, 55, 62],\n",
       "       [98, 69,  1, 73],\n",
       "       [53, 46,  8, 74],\n",
       "       [28,  2, 69, 46]])"
      ]
     },
     "execution_count": 100,
     "metadata": {},
     "output_type": "execute_result"
    }
   ],
   "source": [
    "np.random.randint(1,100,(4,4))"
   ]
  },
  {
   "cell_type": "code",
   "execution_count": 107,
   "id": "e67efa98-003f-4299-a52a-de09e1d1d5c2",
   "metadata": {},
   "outputs": [
    {
     "data": {
      "text/plain": [
       "array([[[94, 49],\n",
       "        [15, 61],\n",
       "        [68, 32],\n",
       "        [91, 37]],\n",
       "\n",
       "       [[94, 91],\n",
       "        [52, 36],\n",
       "        [36, 38],\n",
       "        [66, 91]],\n",
       "\n",
       "       [[59, 62],\n",
       "        [19, 58],\n",
       "        [46, 80],\n",
       "        [92, 22]]])"
      ]
     },
     "execution_count": 107,
     "metadata": {},
     "output_type": "execute_result"
    }
   ],
   "source": [
    "array_3d = np.random.randint(1,100,(3,4,2))\n",
    "array_3d"
   ]
  },
  {
   "cell_type": "code",
   "execution_count": 113,
   "id": "5caaa318-c9a4-48cc-ac38-6a24654622e7",
   "metadata": {},
   "outputs": [
    {
     "data": {
      "text/plain": [
       "array([[[66, 91]],\n",
       "\n",
       "       [[92, 22]]])"
      ]
     },
     "execution_count": 113,
     "metadata": {},
     "output_type": "execute_result"
    }
   ],
   "source": [
    "array_3d[1:3,3:4,:]"
   ]
  },
  {
   "cell_type": "code",
   "execution_count": 116,
   "id": "80ae6b3c-81d4-4d3d-9d23-eb09890286e6",
   "metadata": {},
   "outputs": [
    {
     "data": {
      "text/plain": [
       "array([[[32],\n",
       "        [37]]])"
      ]
     },
     "execution_count": 116,
     "metadata": {},
     "output_type": "execute_result"
    }
   ],
   "source": [
    "array_3d[0:1,-2:,-1:]"
   ]
  },
  {
   "cell_type": "code",
   "execution_count": 119,
   "id": "2a5a1651-2356-4834-9179-7431f059f53f",
   "metadata": {},
   "outputs": [
    {
     "data": {
      "text/plain": [
       "array([[10.77704287, 32.89949225, 57.70312517, 58.74774   ],\n",
       "       [ 1.47820853, 42.55246285, 50.78177946, 93.53778075],\n",
       "       [22.24510086, 85.64413407, 34.56931295, 19.37731643]])"
      ]
     },
     "execution_count": 119,
     "metadata": {},
     "output_type": "execute_result"
    }
   ],
   "source": [
    "np.random.random((3,4)) *100"
   ]
  },
  {
   "cell_type": "code",
   "execution_count": 117,
   "id": "5564cfec-5a0d-4eea-ad33-d2d141ccc40b",
   "metadata": {},
   "outputs": [
    {
     "data": {
      "text/plain": [
       "array([[1., 0., 0.],\n",
       "       [0., 1., 0.],\n",
       "       [0., 0., 1.]])"
      ]
     },
     "execution_count": 117,
     "metadata": {},
     "output_type": "execute_result"
    }
   ],
   "source": [
    "np.eye(3)"
   ]
  },
  {
   "cell_type": "code",
   "execution_count": 118,
   "id": "265b8d7d-0290-4cf0-a1c0-525015705290",
   "metadata": {},
   "outputs": [
    {
     "data": {
      "text/plain": [
       "array([[0., 0., 0., 0.],\n",
       "       [0., 0., 0., 0.],\n",
       "       [0., 0., 0., 0.]])"
      ]
     },
     "execution_count": 118,
     "metadata": {},
     "output_type": "execute_result"
    }
   ],
   "source": [
    "np.zeros((3,4))"
   ]
  },
  {
   "cell_type": "code",
   "execution_count": 120,
   "id": "acc92f6b-9c09-45bf-af56-8ad7f99c598f",
   "metadata": {},
   "outputs": [
    {
     "data": {
      "text/plain": [
       "array([[1., 1., 1., 1.],\n",
       "       [1., 1., 1., 1.],\n",
       "       [1., 1., 1., 1.]])"
      ]
     },
     "execution_count": 120,
     "metadata": {},
     "output_type": "execute_result"
    }
   ],
   "source": [
    "np.ones((3,4))"
   ]
  },
  {
   "cell_type": "markdown",
   "id": "d6cb0d88-ab24-4105-9e13-f2003cda7b81",
   "metadata": {},
   "source": [
    "## Study case"
   ]
  },
  {
   "cell_type": "code",
   "execution_count": 122,
   "id": "ae8d749a-80ed-42a1-a526-d1ad7871e4d6",
   "metadata": {},
   "outputs": [],
   "source": [
    "import matplotlib.pyplot as plt"
   ]
  },
  {
   "cell_type": "code",
   "execution_count": 123,
   "id": "ad71150b-54dd-4772-8558-acd4ecba5f2c",
   "metadata": {},
   "outputs": [],
   "source": [
    "im=plt.imread('pic.jpg')"
   ]
  },
  {
   "cell_type": "code",
   "execution_count": 124,
   "id": "349f622d-7e66-463d-aa6b-f24d2a06d06b",
   "metadata": {},
   "outputs": [
    {
     "data": {
      "text/plain": [
       "numpy.ndarray"
      ]
     },
     "execution_count": 151,
     "metadata": {},
     "output_type": "execute_result"
    }
   ],
   "source": [
    "type(im)"
   ]
  },
  {
   "cell_type": "code",
   "execution_count": 126,
   "id": "e27cd703-b464-4aca-b7fe-7be193c91124",
   "metadata": {},
   "outputs": [
    {
     "data": {
      "text/plain": [
       "(350, 624, 3)"
      ]
     },
     "execution_count": 152,
     "metadata": {},
     "output_type": "execute_result"
    }
   ],
   "source": [
    "im.shape"
   ]
  },
  {
   "cell_type": "code",
   "execution_count": 127,
   "id": "c587cd4c-b032-40c7-b501-5604be37207e",
   "metadata": {
    "collapsed": true,
    "jupyter": {
     "outputs_hidden": true
    },
    "tags": []
   },
   "outputs": [
    {
     "data": {
      "text/plain": [
       "array([[[ 39,  39,  39],\n",
       "        [ 38,  38,  38],\n",
       "        [ 38,  38,  38],\n",
       "        ...,\n",
       "        [183, 142,  37],\n",
       "        [183, 142,  36],\n",
       "        [184, 143,  37]],\n",
       "\n",
       "       [[ 38,  38,  38],\n",
       "        [ 38,  38,  38],\n",
       "        [ 38,  38,  38],\n",
       "        ...,\n",
       "        [184, 143,  38],\n",
       "        [184, 143,  37],\n",
       "        [185, 144,  38]],\n",
       "\n",
       "       [[ 38,  38,  38],\n",
       "        [ 38,  38,  38],\n",
       "        [ 37,  37,  37],\n",
       "        ...,\n",
       "        [185, 144,  39],\n",
       "        [186, 145,  40],\n",
       "        [186, 145,  40]],\n",
       "\n",
       "       ...,\n",
       "\n",
       "       [[ 40,  32,  30],\n",
       "        [ 40,  32,  30],\n",
       "        [ 40,  32,  30],\n",
       "        ...,\n",
       "        [ 22,  22,  22],\n",
       "        [ 22,  22,  22],\n",
       "        [ 22,  22,  22]],\n",
       "\n",
       "       [[ 40,  32,  30],\n",
       "        [ 40,  32,  30],\n",
       "        [ 40,  32,  30],\n",
       "        ...,\n",
       "        [ 23,  23,  23],\n",
       "        [ 23,  23,  23],\n",
       "        [ 23,  23,  23]],\n",
       "\n",
       "       [[ 40,  32,  30],\n",
       "        [ 40,  32,  30],\n",
       "        [ 40,  32,  30],\n",
       "        ...,\n",
       "        [ 23,  23,  23],\n",
       "        [ 23,  23,  23],\n",
       "        [ 23,  23,  23]]], dtype=uint8)"
      ]
     },
     "execution_count": 153,
     "metadata": {},
     "output_type": "execute_result"
    }
   ],
   "source": [
    "im"
   ]
  },
  {
   "cell_type": "code",
   "execution_count": 129,
   "id": "8ae35ab8-6eb9-4474-a5a1-8931ad2a5670",
   "metadata": {},
   "outputs": [
    {
     "data": {
      "text/plain": [
       "<matplotlib.image.AxesImage at 0x1edd030d760>"
      ]
     },
     "execution_count": 154,
     "metadata": {},
     "output_type": "execute_result"
    },
    {
     "data": {
      "image/png": "[encoded data removed]",
      "text/plain": [
       "<Figure size 640x480 with 1 Axes>"
      ]
     },
     "metadata": {},
     "output_type": "display_data"
    }
   ],
   "source": [
    "plt.imshow(im)"
   ]
  },
  {
   "cell_type": "code",
   "execution_count": 166,
   "id": "e3a90d74-0d34-45b5-95da-0441269f2414",
   "metadata": {},
   "outputs": [],
   "source": [
    "im_cropped = im[110:225, 275:355, :]"
   ]
  },
  {
   "cell_type": "code",
   "execution_count": 167,
   "id": "acb6f5d0-1973-4a87-affe-e402cb039b02",
   "metadata": {},
   "outputs": [
    {
     "data": {
      "text/plain": [
       "<matplotlib.image.AxesImage at 0x1edd0543ac0>"
      ]
     },
     "execution_count": 167,
     "metadata": {},
     "output_type": "execute_result"
    },
    {
     "data": {
      "image/png": "[encoded data removed]",
      "text/plain": [
       "<Figure size 640x480 with 1 Axes>"
      ]
     },
     "metadata": {},
     "output_type": "display_data"
    }
   ],
   "source": [
    "plt.imshow(im_cropped)"
   ]
  },
  {
   "cell_type": "code",
   "execution_count": 1,
   "id": "ee1d7008-5f9a-464f-b9c6-9a9df8fc6ec7",
   "metadata": {},
   "outputs": [],
   "source": [
    "import pandas as pd"
   ]
  },
  {
   "cell_type": "markdown",
   "id": "f5978716-a068-40e5-b391-8562a1f61c1f",
   "metadata": {},
   "source": [
    "## Pandas data types"
   ]
  },
  {
   "cell_type": "code",
   "execution_count": 2,
   "id": "c36c542f-86a1-41e4-9d22-258edd2ec9b6",
   "metadata": {},
   "outputs": [],
   "source": [
    "# 1. Series - 1 Dimensional/Single column data\n",
    "# 2. Data Frame - 2 Dimensional/ Multicolumn/ Tabular\n",
    "# 3. Panel - 3D / MultiTable"
   ]
  },
  {
   "cell_type": "markdown",
   "id": "b0e6c7aa-992c-4736-a2a9-425cdf269de6",
   "metadata": {},
   "source": [
    "### Series"
   ]
  },
  {
   "cell_type": "code",
   "execution_count": 5,
   "id": "dad87df5-6411-4249-93c0-f10b76d7ac32",
   "metadata": {},
   "outputs": [
    {
     "data": {
      "text/plain": [
       "0    2\n",
       "1    7\n",
       "2    4\n",
       "3    9\n",
       "dtype: int64"
      ]
     },
     "execution_count": 5,
     "metadata": {},
     "output_type": "execute_result"
    }
   ],
   "source": [
    "s = pd.Series([2,7,4,9])\n",
    "s"
   ]
  },
  {
   "cell_type": "code",
   "execution_count": 6,
   "id": "af156afb-39be-4a60-9884-714bbfb6d3ef",
   "metadata": {},
   "outputs": [
    {
     "data": {
      "text/plain": [
       "a    10\n",
       "b    20\n",
       "c    34\n",
       "d    20\n",
       "dtype: int64"
      ]
     },
     "execution_count": 6,
     "metadata": {},
     "output_type": "execute_result"
    }
   ],
   "source": [
    "s1 = pd.Series({'a':10,'b':20,'c':34,'d':20})\n",
    "s1"
   ]
  },
  {
   "cell_type": "code",
   "execution_count": 7,
   "id": "a675d4cd-fbc4-43a9-8474-6a2e3457cda3",
   "metadata": {},
   "outputs": [
    {
     "data": {
      "text/plain": [
       "20"
      ]
     },
     "execution_count": 7,
     "metadata": {},
     "output_type": "execute_result"
    }
   ],
   "source": [
    "s1['b']"
   ]
  },
  {
   "cell_type": "code",
   "execution_count": 8,
   "id": "6d19cbf7-5f1d-426e-80b0-b1913e1181b1",
   "metadata": {},
   "outputs": [
    {
     "data": {
      "text/plain": [
       "20"
      ]
     },
     "execution_count": 8,
     "metadata": {},
     "output_type": "execute_result"
    }
   ],
   "source": [
    "s1[1]"
   ]
  },
  {
   "cell_type": "code",
   "execution_count": 9,
   "id": "f01598f2-6a65-4df0-936a-6daf5e2b116c",
   "metadata": {},
   "outputs": [
    {
     "data": {
      "text/plain": [
       "['a', 'b', 'c', 'd', 'e', 'f', 'g', 'h', 'i']"
      ]
     },
     "execution_count": 9,
     "metadata": {},
     "output_type": "execute_result"
    }
   ],
   "source": [
    "list('abcdefghi')"
   ]
  },
  {
   "cell_type": "code",
   "execution_count": 22,
   "id": "6141f01e-91a8-4453-a6d1-5effe362a57f",
   "metadata": {},
   "outputs": [
    {
     "data": {
      "text/plain": [
       "a    10\n",
       "b    20\n",
       "c    30\n",
       "d    40\n",
       "e    30\n",
       "f    20\n",
       "g    10\n",
       "h    20\n",
       "i    25\n",
       "Name: My first series, dtype: int64"
      ]
     },
     "execution_count": 22,
     "metadata": {},
     "output_type": "execute_result"
    }
   ],
   "source": [
    "s2 = pd.Series([10,20,30,40,30,20,10,20,25],index=list('abcdefghi'),name='My first series')\n",
    "s2"
   ]
  },
  {
   "cell_type": "code",
   "execution_count": 23,
   "id": "6531ee57-d296-4bae-9331-11e0e4e86a24",
   "metadata": {},
   "outputs": [
    {
     "data": {
      "text/plain": [
       "dtype('int64')"
      ]
     },
     "execution_count": 23,
     "metadata": {},
     "output_type": "execute_result"
    }
   ],
   "source": [
    "s2.dtype"
   ]
  },
  {
   "cell_type": "code",
   "execution_count": 24,
   "id": "689ff058-d495-4b2f-a65a-3d211604dbd5",
   "metadata": {},
   "outputs": [
    {
     "data": {
      "text/plain": [
       "(9,)"
      ]
     },
     "execution_count": 24,
     "metadata": {},
     "output_type": "execute_result"
    }
   ],
   "source": [
    "s2.shape"
   ]
  },
  {
   "cell_type": "code",
   "execution_count": 25,
   "id": "05feb645-1871-4385-8484-9629d4f027dd",
   "metadata": {},
   "outputs": [
    {
     "data": {
      "text/plain": [
       "9"
      ]
     },
     "execution_count": 25,
     "metadata": {},
     "output_type": "execute_result"
    }
   ],
   "source": [
    "s2.size"
   ]
  },
  {
   "cell_type": "code",
   "execution_count": 26,
   "id": "ec3920b7-ad09-47ce-9376-62371e5c6110",
   "metadata": {},
   "outputs": [
    {
     "data": {
      "text/plain": [
       "205"
      ]
     },
     "execution_count": 26,
     "metadata": {},
     "output_type": "execute_result"
    }
   ],
   "source": [
    "s2.sum()"
   ]
  },
  {
   "cell_type": "code",
   "execution_count": 27,
   "id": "94a02687-daf1-45f2-a2b5-e19cdbb47c53",
   "metadata": {},
   "outputs": [
    {
     "data": {
      "text/plain": [
       "22.77777777777778"
      ]
     },
     "execution_count": 27,
     "metadata": {},
     "output_type": "execute_result"
    }
   ],
   "source": [
    "s2.mean()"
   ]
  },
  {
   "cell_type": "code",
   "execution_count": 28,
   "id": "fae1c46d-6475-471e-a869-c5819ebef012",
   "metadata": {},
   "outputs": [
    {
     "data": {
      "text/plain": [
       "40"
      ]
     },
     "execution_count": 28,
     "metadata": {},
     "output_type": "execute_result"
    }
   ],
   "source": [
    "s2.max()"
   ]
  },
  {
   "cell_type": "code",
   "execution_count": 29,
   "id": "5df9bd63-0236-42e0-a741-85ecae3e480a",
   "metadata": {},
   "outputs": [
    {
     "data": {
      "text/plain": [
       "'d'"
      ]
     },
     "execution_count": 29,
     "metadata": {},
     "output_type": "execute_result"
    }
   ],
   "source": [
    "s2.idxmax()"
   ]
  },
  {
   "cell_type": "code",
   "execution_count": 30,
   "id": "166641c5-342d-405b-bc03-7fa886a4a75b",
   "metadata": {},
   "outputs": [
    {
     "data": {
      "text/plain": [
       "20    3\n",
       "10    2\n",
       "30    2\n",
       "40    1\n",
       "25    1\n",
       "Name: My first series, dtype: int64"
      ]
     },
     "execution_count": 30,
     "metadata": {},
     "output_type": "execute_result"
    }
   ],
   "source": [
    "s2.value_counts()"
   ]
  },
  {
   "cell_type": "code",
   "execution_count": 31,
   "id": "deb44b21-262f-4a66-afc6-e78709393142",
   "metadata": {},
   "outputs": [
    {
     "data": {
      "text/plain": [
       "Index(['a', 'b', 'c', 'd', 'e', 'f', 'g', 'h', 'i'], dtype='object')"
      ]
     },
     "execution_count": 31,
     "metadata": {},
     "output_type": "execute_result"
    }
   ],
   "source": [
    "s2.index"
   ]
  },
  {
   "cell_type": "code",
   "execution_count": 32,
   "id": "0a6c07b6-4865-430d-baa6-511f33630653",
   "metadata": {},
   "outputs": [
    {
     "data": {
      "text/plain": [
       "array([10, 20, 30, 40, 25], dtype=int64)"
      ]
     },
     "execution_count": 32,
     "metadata": {},
     "output_type": "execute_result"
    }
   ],
   "source": [
    "s2.unique()"
   ]
  },
  {
   "cell_type": "code",
   "execution_count": 34,
   "id": "b471e637-749b-4070-847a-55e3c32b60f1",
   "metadata": {},
   "outputs": [
    {
     "data": {
      "text/plain": [
       "5"
      ]
     },
     "execution_count": 34,
     "metadata": {},
     "output_type": "execute_result"
    }
   ],
   "source": [
    "s2.nunique()"
   ]
  },
  {
   "cell_type": "code",
   "execution_count": 35,
   "id": "2c2999fe-1494-46ac-91e9-d44c83bf1e03",
   "metadata": {},
   "outputs": [
    {
     "data": {
      "text/plain": [
       "9"
      ]
     },
     "execution_count": 35,
     "metadata": {},
     "output_type": "execute_result"
    }
   ],
   "source": [
    "s2.size"
   ]
  },
  {
   "cell_type": "code",
   "execution_count": 38,
   "id": "add7933b-a994-4617-b152-1de37f68992f",
   "metadata": {},
   "outputs": [
    {
     "data": {
      "text/plain": [
       "a    10\n",
       "b    20\n",
       "c    30\n",
       "d    40\n",
       "e    30\n",
       "Name: My first series, dtype: int64"
      ]
     },
     "execution_count": 38,
     "metadata": {},
     "output_type": "execute_result"
    }
   ],
   "source": [
    "s2.head(5)"
   ]
  },
  {
   "cell_type": "code",
   "execution_count": 40,
   "id": "11d51a0f-f771-4d27-a74c-2d1136cb3c2a",
   "metadata": {},
   "outputs": [
    {
     "data": {
      "text/plain": [
       "h    20\n",
       "i    25\n",
       "Name: My first series, dtype: int64"
      ]
     },
     "execution_count": 40,
     "metadata": {},
     "output_type": "execute_result"
    }
   ],
   "source": [
    "s2.tail(2)"
   ]
  },
  {
   "cell_type": "code",
   "execution_count": 46,
   "id": "e962ea47-79d5-445e-8993-505826c509e7",
   "metadata": {},
   "outputs": [
    {
     "data": {
      "text/plain": [
       "c    30\n",
       "Name: My first series, dtype: int64"
      ]
     },
     "execution_count": 46,
     "metadata": {},
     "output_type": "execute_result"
    }
   ],
   "source": [
    "s2.sample()"
   ]
  },
  {
   "cell_type": "code",
   "execution_count": 47,
   "id": "5358e032-0509-4b52-9409-594700ee2201",
   "metadata": {},
   "outputs": [
    {
     "data": {
      "text/plain": [
       "count     9.000000\n",
       "mean     22.777778\n",
       "std       9.718253\n",
       "min      10.000000\n",
       "25%      20.000000\n",
       "50%      20.000000\n",
       "75%      30.000000\n",
       "max      40.000000\n",
       "Name: My first series, dtype: float64"
      ]
     },
     "execution_count": 47,
     "metadata": {},
     "output_type": "execute_result"
    }
   ],
   "source": [
    "s2.describe()"
   ]
  },
  {
   "cell_type": "code",
   "execution_count": 48,
   "id": "703c7d2d-7e5a-49e7-8506-46ed9877bd93",
   "metadata": {},
   "outputs": [
    {
     "name": "stdout",
     "output_type": "stream",
     "text": [
      "<class 'pandas.core.series.Series'>\n",
      "Index: 9 entries, a to i\n",
      "Series name: My first series\n",
      "Non-Null Count  Dtype\n",
      "--------------  -----\n",
      "9 non-null      int64\n",
      "dtypes: int64(1)\n",
      "memory usage: 444.0+ bytes\n"
     ]
    }
   ],
   "source": [
    "s2.info()"
   ]
  },
  {
   "cell_type": "code",
   "execution_count": 49,
   "id": "ac2194b3-cf3d-447a-b482-7b03d8cec927",
   "metadata": {},
   "outputs": [
    {
     "data": {
      "text/plain": [
       "pandas.core.series.Series"
      ]
     },
     "execution_count": 49,
     "metadata": {},
     "output_type": "execute_result"
    }
   ],
   "source": [
    "type(s2)"
   ]
  },
  {
   "cell_type": "code",
   "execution_count": 51,
   "id": "99569f1d-76b3-4f66-812e-4f5548c3469b",
   "metadata": {},
   "outputs": [],
   "source": [
    "# -------------------Series NO - 2-----------------------------------------"
   ]
  },
  {
   "cell_type": "code",
   "execution_count": 61,
   "id": "4e98276c-0de8-4b8b-a353-bac1ca4008c6",
   "metadata": {},
   "outputs": [],
   "source": [
    "s3 = pd.Series(['Kamlesh', 'Nivedita','khushbu','Naina','Aditya','Mahi','Kanhaiya','Saurav','Vijay'])"
   ]
  },
  {
   "cell_type": "code",
   "execution_count": 54,
   "id": "f7dc2b71-7bb5-42df-9a0d-bb35628eee7e",
   "metadata": {},
   "outputs": [
    {
     "name": "stdout",
     "output_type": "stream",
     "text": [
      "<class 'pandas.core.series.Series'>\n",
      "RangeIndex: 9 entries, 0 to 8\n",
      "Series name: None\n",
      "Non-Null Count  Dtype \n",
      "--------------  ----- \n",
      "9 non-null      object\n",
      "dtypes: object(1)\n",
      "memory usage: 200.0+ bytes\n"
     ]
    }
   ],
   "source": [
    "s3.info()"
   ]
  },
  {
   "cell_type": "code",
   "execution_count": 55,
   "id": "d0d7dae3-b114-4b57-b723-87d68e0b57b1",
   "metadata": {
    "collapsed": true,
    "jupyter": {
     "outputs_hidden": true
    },
    "tags": []
   },
   "outputs": [
    {
     "data": {
      "text/plain": [
       "count           9\n",
       "unique          9\n",
       "top       Kamlesh\n",
       "freq            1\n",
       "dtype: object"
      ]
     },
     "execution_count": 55,
     "metadata": {},
     "output_type": "execute_result"
    }
   ],
   "source": [
    "s3.describe()"
   ]
  },
  {
   "cell_type": "code",
   "execution_count": 56,
   "id": "4784a15f-5ac4-447b-82d3-87792cd1eea0",
   "metadata": {},
   "outputs": [],
   "source": [
    "s3 = pd.Series(['Vijay', 'Nivedita','khushbu','Naina','Aditya','Mahi','Kanhaiya','Saurav','Vijay'])"
   ]
  },
  {
   "cell_type": "code",
   "execution_count": 57,
   "id": "02ea5252-e241-4170-88cd-7ce851efed0e",
   "metadata": {
    "collapsed": true,
    "jupyter": {
     "outputs_hidden": true
    },
    "tags": []
   },
   "outputs": [
    {
     "data": {
      "text/plain": [
       "count         9\n",
       "unique        8\n",
       "top       Vijay\n",
       "freq          2\n",
       "dtype: object"
      ]
     },
     "execution_count": 57,
     "metadata": {},
     "output_type": "execute_result"
    }
   ],
   "source": [
    "s3.describe()"
   ]
  },
  {
   "cell_type": "code",
   "execution_count": 58,
   "id": "a0be35b3-2078-40cc-9bf5-186d80888493",
   "metadata": {
    "collapsed": true,
    "jupyter": {
     "outputs_hidden": true
    },
    "tags": []
   },
   "outputs": [
    {
     "data": {
      "text/plain": [
       "a    100\n",
       "b    200\n",
       "c    300\n",
       "d    400\n",
       "e    300\n",
       "f    200\n",
       "g    100\n",
       "h    200\n",
       "i    250\n",
       "Name: My first series, dtype: int64"
      ]
     },
     "execution_count": 58,
     "metadata": {},
     "output_type": "execute_result"
    }
   ],
   "source": [
    "s2*10"
   ]
  },
  {
   "cell_type": "code",
   "execution_count": 59,
   "id": "10663963-e4d7-4537-9f91-23e9c439711c",
   "metadata": {
    "collapsed": true,
    "jupyter": {
     "outputs_hidden": true
    },
    "tags": []
   },
   "outputs": [
    {
     "data": {
      "text/plain": [
       "0          VijayVijay\n",
       "1    NiveditaNivedita\n",
       "2      khushbukhushbu\n",
       "3          NainaNaina\n",
       "4        AdityaAditya\n",
       "5            MahiMahi\n",
       "6    KanhaiyaKanhaiya\n",
       "7        SauravSaurav\n",
       "8          VijayVijay\n",
       "dtype: object"
      ]
     },
     "execution_count": 59,
     "metadata": {},
     "output_type": "execute_result"
    }
   ],
   "source": [
    "s3*2"
   ]
  },
  {
   "cell_type": "code",
   "execution_count": 65,
   "id": "477dbad1-bc8a-46e8-94d9-54f1e01bfa28",
   "metadata": {
    "collapsed": true,
    "jupyter": {
     "outputs_hidden": true
    },
    "tags": []
   },
   "outputs": [
    {
     "data": {
      "text/plain": [
       "0     KAMLESH\n",
       "1    NIVEDITA\n",
       "2     KHUSHBU\n",
       "3       NAINA\n",
       "4      ADITYA\n",
       "5        MAHI\n",
       "6    KANHAIYA\n",
       "7      SAURAV\n",
       "8       VIJAY\n",
       "dtype: object"
      ]
     },
     "execution_count": 65,
     "metadata": {},
     "output_type": "execute_result"
    }
   ],
   "source": [
    "s3.str.upper()"
   ]
  },
  {
   "cell_type": "code",
   "execution_count": 66,
   "id": "f53d8275-a369-4a14-8eb9-6200cc2bc1b9",
   "metadata": {
    "collapsed": true,
    "jupyter": {
     "outputs_hidden": true
    },
    "tags": []
   },
   "outputs": [
    {
     "data": {
      "text/plain": [
       "0    7\n",
       "1    8\n",
       "2    7\n",
       "3    5\n",
       "4    6\n",
       "5    4\n",
       "6    8\n",
       "7    6\n",
       "8    5\n",
       "dtype: int64"
      ]
     },
     "execution_count": 66,
     "metadata": {},
     "output_type": "execute_result"
    }
   ],
   "source": [
    "s3.str.len()"
   ]
  },
  {
   "cell_type": "code",
   "execution_count": 68,
   "id": "8d5dbf96-8e7e-4b19-ade1-c16ab240836b",
   "metadata": {
    "collapsed": true,
    "jupyter": {
     "outputs_hidden": true
    },
    "tags": []
   },
   "outputs": [
    {
     "data": {
      "text/plain": [
       "0    0\n",
       "1    2\n",
       "2    0\n",
       "3    1\n",
       "4    1\n",
       "5    1\n",
       "6    1\n",
       "7    0\n",
       "8    1\n",
       "dtype: int64"
      ]
     },
     "execution_count": 68,
     "metadata": {},
     "output_type": "execute_result"
    }
   ],
   "source": [
    "s3.str.count('i')"
   ]
  },
  {
   "cell_type": "code",
   "execution_count": 69,
   "id": "0f4d9597-33f3-4160-b45a-c8ad796b1d72",
   "metadata": {
    "collapsed": true,
    "jupyter": {
     "outputs_hidden": true
    },
    "tags": []
   },
   "outputs": [
    {
     "data": {
      "text/plain": [
       "0       [Kamlesh]\n",
       "1    [N, ved, ta]\n",
       "2       [khushbu]\n",
       "3        [Na, na]\n",
       "4       [Ad, tya]\n",
       "5         [Mah, ]\n",
       "6     [Kanha, ya]\n",
       "7        [Saurav]\n",
       "8        [V, jay]\n",
       "dtype: object"
      ]
     },
     "execution_count": 69,
     "metadata": {},
     "output_type": "execute_result"
    }
   ],
   "source": [
    "s3.str.split('i')"
   ]
  },
  {
   "cell_type": "code",
   "execution_count": 72,
   "id": "23d7354c-75ab-48f7-b2ed-e19034b118d1",
   "metadata": {
    "collapsed": true,
    "jupyter": {
     "outputs_hidden": true
    },
    "tags": []
   },
   "outputs": [
    {
     "data": {
      "text/plain": [
       "0    Kamlesh\n",
       "1          N\n",
       "2    khushbu\n",
       "3         Na\n",
       "4         Ad\n",
       "5        Mah\n",
       "6      Kanha\n",
       "7     Saurav\n",
       "8          V\n",
       "dtype: object"
      ]
     },
     "execution_count": 72,
     "metadata": {},
     "output_type": "execute_result"
    }
   ],
   "source": [
    "s3.str.split('i').str.get(0)"
   ]
  },
  {
   "cell_type": "code",
   "execution_count": 83,
   "id": "f5ffbc55-4fd8-469c-b62d-740b5d2eda9b",
   "metadata": {
    "collapsed": true,
    "jupyter": {
     "outputs_hidden": true
    },
    "tags": []
   },
   "outputs": [
    {
     "data": {
      "text/plain": [
       "4      Aditya\n",
       "0     Kamlesh\n",
       "6    Kanhaiya\n",
       "5        Mahi\n",
       "3       Naina\n",
       "1    Nivedita\n",
       "7      Saurav\n",
       "8       Vijay\n",
       "2     khushbu\n",
       "dtype: object"
      ]
     },
     "execution_count": 83,
     "metadata": {},
     "output_type": "execute_result"
    }
   ],
   "source": [
    "s3.sort_values()"
   ]
  },
  {
   "cell_type": "code",
   "execution_count": 88,
   "id": "aa6eed23-d43e-44a4-8b58-a2f6849ba25d",
   "metadata": {
    "tags": []
   },
   "outputs": [
    {
     "data": {
      "text/plain": [
       "array(['Kamlesh', 'Nivedita', 'khushbu', 'Naina', 'Aditya', 'Mahi',\n",
       "       'Kanhaiya', 'Saurav', 'Vijay'], dtype=object)"
      ]
     },
     "execution_count": 88,
     "metadata": {},
     "output_type": "execute_result"
    }
   ],
   "source": [
    "s3.values  # To convert to array"
   ]
  },
  {
   "cell_type": "code",
   "execution_count": 89,
   "id": "b07d6845-1850-4da7-a96b-227846a4cbc5",
   "metadata": {
    "collapsed": true,
    "jupyter": {
     "outputs_hidden": true
    },
    "tags": []
   },
   "outputs": [
    {
     "data": {
      "text/plain": [
       "['Kamlesh',\n",
       " 'Nivedita',\n",
       " 'khushbu',\n",
       " 'Naina',\n",
       " 'Aditya',\n",
       " 'Mahi',\n",
       " 'Kanhaiya',\n",
       " 'Saurav',\n",
       " 'Vijay']"
      ]
     },
     "execution_count": 89,
     "metadata": {},
     "output_type": "execute_result"
    }
   ],
   "source": [
    "s3.to_list() # To convert to list"
   ]
  },
  {
   "cell_type": "code",
   "execution_count": 90,
   "id": "80f13ae1-b02a-4794-8df4-9a0a7497b541",
   "metadata": {
    "collapsed": true,
    "jupyter": {
     "outputs_hidden": true
    },
    "tags": []
   },
   "outputs": [
    {
     "name": "stdout",
     "output_type": "stream",
     "text": [
      "0     Kamlesh\n",
      "1    Nivedita\n",
      "2     khushbu\n",
      "3       Naina\n",
      "4      Aditya\n",
      "5        Mahi\n",
      "6    Kanhaiya\n",
      "7      Saurav\n",
      "8       Vijay\n",
      "dtype: object\n",
      "0     Kamlesh\n",
      "1    Nivedita\n",
      "2     khushbu\n",
      "3       Naina\n",
      "4      Aditya\n",
      "5        Mahi\n",
      "6    Kanhaiya\n",
      "7      Saurav\n",
      "8       Vijay\n",
      "dtype: object\n",
      "0     Kamlesh\n",
      "1    Nivedita\n",
      "2     khushbu\n",
      "3       Naina\n",
      "4      Aditya\n",
      "5        Mahi\n",
      "6    Kanhaiya\n",
      "7      Saurav\n",
      "8       Vijay\n",
      "dtype: object\n",
      "0     Kamlesh\n",
      "1    Nivedita\n",
      "2     khushbu\n",
      "3       Naina\n",
      "4      Aditya\n",
      "5        Mahi\n",
      "6    Kanhaiya\n",
      "7      Saurav\n",
      "8       Vijay\n",
      "dtype: object\n",
      "0     Kamlesh\n",
      "1    Nivedita\n",
      "2     khushbu\n",
      "3       Naina\n",
      "4      Aditya\n",
      "5        Mahi\n",
      "6    Kanhaiya\n",
      "7      Saurav\n",
      "8       Vijay\n",
      "dtype: object\n",
      "0     Kamlesh\n",
      "1    Nivedita\n",
      "2     khushbu\n",
      "3       Naina\n",
      "4      Aditya\n",
      "5        Mahi\n",
      "6    Kanhaiya\n",
      "7      Saurav\n",
      "8       Vijay\n",
      "dtype: object\n",
      "0     Kamlesh\n",
      "1    Nivedita\n",
      "2     khushbu\n",
      "3       Naina\n",
      "4      Aditya\n",
      "5        Mahi\n",
      "6    Kanhaiya\n",
      "7      Saurav\n",
      "8       Vijay\n",
      "dtype: object\n",
      "0     Kamlesh\n",
      "1    Nivedita\n",
      "2     khushbu\n",
      "3       Naina\n",
      "4      Aditya\n",
      "5        Mahi\n",
      "6    Kanhaiya\n",
      "7      Saurav\n",
      "8       Vijay\n",
      "dtype: object\n",
      "0     Kamlesh\n",
      "1    Nivedita\n",
      "2     khushbu\n",
      "3       Naina\n",
      "4      Aditya\n",
      "5        Mahi\n",
      "6    Kanhaiya\n",
      "7      Saurav\n",
      "8       Vijay\n",
      "dtype: object\n"
     ]
    }
   ],
   "source": [
    "for val in s3:\n",
    "    print(s3)"
   ]
  },
  {
   "cell_type": "markdown",
   "id": "4bc3eb97-6bb1-420c-91e6-71cb23e29c53",
   "metadata": {},
   "source": [
    "## Data frame"
   ]
  },
  {
   "cell_type": "code",
   "execution_count": 91,
   "id": "2c6d383d-9dea-4fe1-a6f9-2d96833e4eb0",
   "metadata": {},
   "outputs": [
    {
     "data": {
      "text/html": [
       "<div>\n",
       "<style scoped>\n",
       "    .dataframe tbody tr th:only-of-type {\n",
       "        vertical-align: middle;\n",
       "    }\n",
       "\n",
       "    .dataframe tbody tr th {\n",
       "        vertical-align: top;\n",
       "    }\n",
       "\n",
       "    .dataframe thead th {\n",
       "        text-align: right;\n",
       "    }\n",
       "</style>\n",
       "<table border=\"1\" class=\"dataframe\">\n",
       "  <thead>\n",
       "    <tr style=\"text-align: right;\">\n",
       "      <th></th>\n",
       "      <th>0</th>\n",
       "    </tr>\n",
       "  </thead>\n",
       "  <tbody>\n",
       "    <tr>\n",
       "      <th>0</th>\n",
       "      <td>3</td>\n",
       "    </tr>\n",
       "    <tr>\n",
       "      <th>1</th>\n",
       "      <td>7</td>\n",
       "    </tr>\n",
       "    <tr>\n",
       "      <th>2</th>\n",
       "      <td>5</td>\n",
       "    </tr>\n",
       "    <tr>\n",
       "      <th>3</th>\n",
       "      <td>9</td>\n",
       "    </tr>\n",
       "  </tbody>\n",
       "</table>\n",
       "</div>"
      ],
      "text/plain": [
       "   0\n",
       "0  3\n",
       "1  7\n",
       "2  5\n",
       "3  9"
      ]
     },
     "execution_count": 91,
     "metadata": {},
     "output_type": "execute_result"
    }
   ],
   "source": [
    "df = pd.DataFrame([3,7,5,9])\n",
    "df"
   ]
  },
  {
   "cell_type": "code",
   "execution_count": 94,
   "id": "639a0cac-9e36-4adb-8f30-046be6f66641",
   "metadata": {},
   "outputs": [
    {
     "data": {
      "text/html": [
       "<div>\n",
       "<style scoped>\n",
       "    .dataframe tbody tr th:only-of-type {\n",
       "        vertical-align: middle;\n",
       "    }\n",
       "\n",
       "    .dataframe tbody tr th {\n",
       "        vertical-align: top;\n",
       "    }\n",
       "\n",
       "    .dataframe thead th {\n",
       "        text-align: right;\n",
       "    }\n",
       "</style>\n",
       "<table border=\"1\" class=\"dataframe\">\n",
       "  <thead>\n",
       "    <tr style=\"text-align: right;\">\n",
       "      <th></th>\n",
       "      <th>EkColumn</th>\n",
       "    </tr>\n",
       "  </thead>\n",
       "  <tbody>\n",
       "    <tr>\n",
       "      <th>one</th>\n",
       "      <td>3</td>\n",
       "    </tr>\n",
       "    <tr>\n",
       "      <th>two</th>\n",
       "      <td>7</td>\n",
       "    </tr>\n",
       "    <tr>\n",
       "      <th>three</th>\n",
       "      <td>5</td>\n",
       "    </tr>\n",
       "    <tr>\n",
       "      <th>four</th>\n",
       "      <td>9</td>\n",
       "    </tr>\n",
       "  </tbody>\n",
       "</table>\n",
       "</div>"
      ],
      "text/plain": [
       "       EkColumn\n",
       "one           3\n",
       "two           7\n",
       "three         5\n",
       "four          9"
      ]
     },
     "execution_count": 107,
     "metadata": {},
     "output_type": "execute_result"
    }
   ],
   "source": [
    "df = pd.DataFrame([3,7,5,9], index = ['one','two','three','four'],columns=['EkColumn'])\n",
    "df"
   ]
  },
  {
   "cell_type": "code",
   "execution_count": 96,
   "id": "77f12df5-20d1-4014-8dd0-32a56e12a7dd",
   "metadata": {},
   "outputs": [
    {
     "data": {
      "text/plain": [
       "one      3\n",
       "two      7\n",
       "three    5\n",
       "four     9\n",
       "Name: EkColumn, dtype: int64"
      ]
     },
     "execution_count": 96,
     "metadata": {},
     "output_type": "execute_result"
    }
   ],
   "source": [
    "df['EkColumn']"
   ]
  },
  {
   "cell_type": "code",
   "execution_count": 97,
   "id": "17b3322b-3af2-4c8d-b0ac-228caf66260c",
   "metadata": {},
   "outputs": [
    {
     "data": {
      "text/plain": [
       "7"
      ]
     },
     "execution_count": 97,
     "metadata": {},
     "output_type": "execute_result"
    }
   ],
   "source": [
    "df['EkColumn']['two']"
   ]
  },
  {
   "cell_type": "code",
   "execution_count": 100,
   "id": "e0e64d7d-b8a4-4ab2-97ae-5182624db6ba",
   "metadata": {},
   "outputs": [
    {
     "data": {
      "text/plain": [
       "EkColumn    7\n",
       "Name: two, dtype: int64"
      ]
     },
     "execution_count": 100,
     "metadata": {},
     "output_type": "execute_result"
    }
   ],
   "source": [
    "df.loc['two']"
   ]
  },
  {
   "cell_type": "code",
   "execution_count": 101,
   "id": "607f6726-ff00-41ac-99f8-7501471d6305",
   "metadata": {},
   "outputs": [
    {
     "data": {
      "text/plain": [
       "pandas.core.series.Series"
      ]
     },
     "execution_count": 101,
     "metadata": {},
     "output_type": "execute_result"
    }
   ],
   "source": [
    "type(df.loc['two'])"
   ]
  },
  {
   "cell_type": "code",
   "execution_count": 102,
   "id": "2330f1f9-4748-42a1-8466-f84e9d541ecb",
   "metadata": {},
   "outputs": [
    {
     "data": {
      "text/html": [
       "<div>\n",
       "<style scoped>\n",
       "    .dataframe tbody tr th:only-of-type {\n",
       "        vertical-align: middle;\n",
       "    }\n",
       "\n",
       "    .dataframe tbody tr th {\n",
       "        vertical-align: top;\n",
       "    }\n",
       "\n",
       "    .dataframe thead th {\n",
       "        text-align: right;\n",
       "    }\n",
       "</style>\n",
       "<table border=\"1\" class=\"dataframe\">\n",
       "  <thead>\n",
       "    <tr style=\"text-align: right;\">\n",
       "      <th></th>\n",
       "      <th>EkColumn</th>\n",
       "    </tr>\n",
       "  </thead>\n",
       "  <tbody>\n",
       "    <tr>\n",
       "      <th>count</th>\n",
       "      <td>4.000000</td>\n",
       "    </tr>\n",
       "    <tr>\n",
       "      <th>mean</th>\n",
       "      <td>6.000000</td>\n",
       "    </tr>\n",
       "    <tr>\n",
       "      <th>std</th>\n",
       "      <td>2.581989</td>\n",
       "    </tr>\n",
       "    <tr>\n",
       "      <th>min</th>\n",
       "      <td>3.000000</td>\n",
       "    </tr>\n",
       "    <tr>\n",
       "      <th>25%</th>\n",
       "      <td>4.500000</td>\n",
       "    </tr>\n",
       "    <tr>\n",
       "      <th>50%</th>\n",
       "      <td>6.000000</td>\n",
       "    </tr>\n",
       "    <tr>\n",
       "      <th>75%</th>\n",
       "      <td>7.500000</td>\n",
       "    </tr>\n",
       "    <tr>\n",
       "      <th>max</th>\n",
       "      <td>9.000000</td>\n",
       "    </tr>\n",
       "  </tbody>\n",
       "</table>\n",
       "</div>"
      ],
      "text/plain": [
       "       EkColumn\n",
       "count  4.000000\n",
       "mean   6.000000\n",
       "std    2.581989\n",
       "min    3.000000\n",
       "25%    4.500000\n",
       "50%    6.000000\n",
       "75%    7.500000\n",
       "max    9.000000"
      ]
     },
     "execution_count": 102,
     "metadata": {},
     "output_type": "execute_result"
    }
   ],
   "source": [
    "df.describe()"
   ]
  },
  {
   "cell_type": "code",
   "execution_count": 103,
   "id": "5346e21f-6225-4fdb-8d57-447b16b02e63",
   "metadata": {},
   "outputs": [
    {
     "data": {
      "text/html": [
       "<div>\n",
       "<style scoped>\n",
       "    .dataframe tbody tr th:only-of-type {\n",
       "        vertical-align: middle;\n",
       "    }\n",
       "\n",
       "    .dataframe tbody tr th {\n",
       "        vertical-align: top;\n",
       "    }\n",
       "\n",
       "    .dataframe thead th {\n",
       "        text-align: right;\n",
       "    }\n",
       "</style>\n",
       "<table border=\"1\" class=\"dataframe\">\n",
       "  <thead>\n",
       "    <tr style=\"text-align: right;\">\n",
       "      <th></th>\n",
       "      <th>EkColumn</th>\n",
       "    </tr>\n",
       "  </thead>\n",
       "  <tbody>\n",
       "    <tr>\n",
       "      <th>one</th>\n",
       "      <td>30</td>\n",
       "    </tr>\n",
       "    <tr>\n",
       "      <th>two</th>\n",
       "      <td>70</td>\n",
       "    </tr>\n",
       "    <tr>\n",
       "      <th>three</th>\n",
       "      <td>50</td>\n",
       "    </tr>\n",
       "    <tr>\n",
       "      <th>four</th>\n",
       "      <td>90</td>\n",
       "    </tr>\n",
       "  </tbody>\n",
       "</table>\n",
       "</div>"
      ],
      "text/plain": [
       "       EkColumn\n",
       "one          30\n",
       "two          70\n",
       "three        50\n",
       "four         90"
      ]
     },
     "execution_count": 103,
     "metadata": {},
     "output_type": "execute_result"
    }
   ],
   "source": [
    "df*10"
   ]
  },
  {
   "cell_type": "code",
   "execution_count": 122,
   "id": "589edd0f-13d4-4209-9190-c9f098baf090",
   "metadata": {},
   "outputs": [
    {
     "data": {
      "text/html": [
       "<div>\n",
       "<style scoped>\n",
       "    .dataframe tbody tr th:only-of-type {\n",
       "        vertical-align: middle;\n",
       "    }\n",
       "\n",
       "    .dataframe tbody tr th {\n",
       "        vertical-align: top;\n",
       "    }\n",
       "\n",
       "    .dataframe thead th {\n",
       "        text-align: right;\n",
       "    }\n",
       "</style>\n",
       "<table border=\"1\" class=\"dataframe\">\n",
       "  <thead>\n",
       "    <tr style=\"text-align: right;\">\n",
       "      <th></th>\n",
       "      <th>EkColumn</th>\n",
       "    </tr>\n",
       "  </thead>\n",
       "  <tbody>\n",
       "    <tr>\n",
       "      <th>four</th>\n",
       "      <td>9</td>\n",
       "    </tr>\n",
       "    <tr>\n",
       "      <th>two</th>\n",
       "      <td>7</td>\n",
       "    </tr>\n",
       "    <tr>\n",
       "      <th>three</th>\n",
       "      <td>5</td>\n",
       "    </tr>\n",
       "    <tr>\n",
       "      <th>one</th>\n",
       "      <td>3</td>\n",
       "    </tr>\n",
       "  </tbody>\n",
       "</table>\n",
       "</div>"
      ],
      "text/plain": [
       "       EkColumn\n",
       "four          9\n",
       "two           7\n",
       "three         5\n",
       "one           3"
      ]
     },
     "execution_count": 122,
     "metadata": {},
     "output_type": "execute_result"
    }
   ],
   "source": [
    "df.sort_values(by = 'EkColumn', ascending = False)"
   ]
  },
  {
   "cell_type": "code",
   "execution_count": 123,
   "id": "a2a67dc4-c3bb-4133-8fa4-71c85cfd737c",
   "metadata": {},
   "outputs": [
    {
     "data": {
      "text/plain": [
       "EkColumn    4\n",
       "dtype: int64"
      ]
     },
     "execution_count": 123,
     "metadata": {},
     "output_type": "execute_result"
    }
   ],
   "source": [
    "df.nunique()"
   ]
  },
  {
   "cell_type": "code",
   "execution_count": 124,
   "id": "06c9a514-79d7-4d65-bc4c-ceda1cab9c17",
   "metadata": {},
   "outputs": [
    {
     "data": {
      "text/html": [
       "<div>\n",
       "<style scoped>\n",
       "    .dataframe tbody tr th:only-of-type {\n",
       "        vertical-align: middle;\n",
       "    }\n",
       "\n",
       "    .dataframe tbody tr th {\n",
       "        vertical-align: top;\n",
       "    }\n",
       "\n",
       "    .dataframe thead th {\n",
       "        text-align: right;\n",
       "    }\n",
       "</style>\n",
       "<table border=\"1\" class=\"dataframe\">\n",
       "  <thead>\n",
       "    <tr style=\"text-align: right;\">\n",
       "      <th></th>\n",
       "      <th>EkColumn</th>\n",
       "    </tr>\n",
       "  </thead>\n",
       "  <tbody>\n",
       "    <tr>\n",
       "      <th>four</th>\n",
       "      <td>9</td>\n",
       "    </tr>\n",
       "    <tr>\n",
       "      <th>one</th>\n",
       "      <td>3</td>\n",
       "    </tr>\n",
       "    <tr>\n",
       "      <th>three</th>\n",
       "      <td>5</td>\n",
       "    </tr>\n",
       "    <tr>\n",
       "      <th>two</th>\n",
       "      <td>7</td>\n",
       "    </tr>\n",
       "  </tbody>\n",
       "</table>\n",
       "</div>"
      ],
      "text/plain": [
       "       EkColumn\n",
       "four          9\n",
       "one           3\n",
       "three         5\n",
       "two           7"
      ]
     },
     "execution_count": 124,
     "metadata": {},
     "output_type": "execute_result"
    }
   ],
   "source": [
    "df.sort_index()"
   ]
  },
  {
   "cell_type": "code",
   "execution_count": 143,
   "id": "a4fbc919-8239-4a25-af55-07e9320dc4a7",
   "metadata": {},
   "outputs": [
    {
     "data": {
      "text/html": [
       "<div>\n",
       "<style scoped>\n",
       "    .dataframe tbody tr th:only-of-type {\n",
       "        vertical-align: middle;\n",
       "    }\n",
       "\n",
       "    .dataframe tbody tr th {\n",
       "        vertical-align: top;\n",
       "    }\n",
       "\n",
       "    .dataframe thead th {\n",
       "        text-align: right;\n",
       "    }\n",
       "</style>\n",
       "<table border=\"1\" class=\"dataframe\">\n",
       "  <thead>\n",
       "    <tr style=\"text-align: right;\">\n",
       "      <th></th>\n",
       "      <th>name</th>\n",
       "      <th>age</th>\n",
       "      <th>salary</th>\n",
       "      <th>designation</th>\n",
       "    </tr>\n",
       "  </thead>\n",
       "  <tbody>\n",
       "    <tr>\n",
       "      <th>0</th>\n",
       "      <td>Vinesh</td>\n",
       "      <td>30</td>\n",
       "      <td>40000</td>\n",
       "      <td>SDE</td>\n",
       "    </tr>\n",
       "    <tr>\n",
       "      <th>1</th>\n",
       "      <td>Suresh</td>\n",
       "      <td>31</td>\n",
       "      <td>32100</td>\n",
       "      <td>AT</td>\n",
       "    </tr>\n",
       "    <tr>\n",
       "      <th>2</th>\n",
       "      <td>Mahesh</td>\n",
       "      <td>29</td>\n",
       "      <td>190000</td>\n",
       "      <td>SSE</td>\n",
       "    </tr>\n",
       "  </tbody>\n",
       "</table>\n",
       "</div>"
      ],
      "text/plain": [
       "     name  age  salary designation\n",
       "0  Vinesh   30   40000         SDE\n",
       "1  Suresh   31   32100          AT\n",
       "2  Mahesh   29  190000         SSE"
      ]
     },
     "execution_count": 143,
     "metadata": {},
     "output_type": "execute_result"
    }
   ],
   "source": [
    "df1 = pd.DataFrame(\n",
    "    {\n",
    "        'name':['Vinesh','Suresh','Mahesh'],\n",
    "        'age':[30,31,29],\n",
    "        'salary':[40000,32100,190000],\n",
    "        'designation':['SDE','ZATEI','SSE']\n",
    "    }\n",
    ")\n",
    "df1"
   ]
  },
  {
   "cell_type": "code",
   "execution_count": null,
   "id": "8447e517-33e8-4328-9d0e-b3ef880d21f6",
   "metadata": {},
   "outputs": [],
   "source": []
  },
  {
   "cell_type": "code",
   "execution_count": 130,
   "id": "0a90a2f1-faca-4a98-99fc-68ddcd206df4",
   "metadata": {},
   "outputs": [
    {
     "data": {
      "text/plain": [
       "0    Vinesh\n",
       "1    Suresh\n",
       "2    Mahesh\n",
       "Name: name, dtype: object"
      ]
     },
     "execution_count": 130,
     "metadata": {},
     "output_type": "execute_result"
    }
   ],
   "source": [
    "df1['name']"
   ]
  },
  {
   "cell_type": "code",
   "execution_count": 131,
   "id": "540a0625-9bd2-4f36-8e88-ce72b5915a63",
   "metadata": {},
   "outputs": [
    {
     "data": {
      "text/html": [
       "<div>\n",
       "<style scoped>\n",
       "    .dataframe tbody tr th:only-of-type {\n",
       "        vertical-align: middle;\n",
       "    }\n",
       "\n",
       "    .dataframe tbody tr th {\n",
       "        vertical-align: top;\n",
       "    }\n",
       "\n",
       "    .dataframe thead th {\n",
       "        text-align: right;\n",
       "    }\n",
       "</style>\n",
       "<table border=\"1\" class=\"dataframe\">\n",
       "  <thead>\n",
       "    <tr style=\"text-align: right;\">\n",
       "      <th></th>\n",
       "      <th>name</th>\n",
       "      <th>salary</th>\n",
       "    </tr>\n",
       "  </thead>\n",
       "  <tbody>\n",
       "    <tr>\n",
       "      <th>0</th>\n",
       "      <td>Vinesh</td>\n",
       "      <td>40000</td>\n",
       "    </tr>\n",
       "    <tr>\n",
       "      <th>1</th>\n",
       "      <td>Suresh</td>\n",
       "      <td>32100</td>\n",
       "    </tr>\n",
       "    <tr>\n",
       "      <th>2</th>\n",
       "      <td>Mahesh</td>\n",
       "      <td>190000</td>\n",
       "    </tr>\n",
       "  </tbody>\n",
       "</table>\n",
       "</div>"
      ],
      "text/plain": [
       "     name  salary\n",
       "0  Vinesh   40000\n",
       "1  Suresh   32100\n",
       "2  Mahesh  190000"
      ]
     },
     "execution_count": 131,
     "metadata": {},
     "output_type": "execute_result"
    }
   ],
   "source": [
    "df1[['name','salary']]"
   ]
  },
  {
   "cell_type": "code",
   "execution_count": 146,
   "id": "0760c3a1-234a-4e60-8285-5925b4f9d53a",
   "metadata": {},
   "outputs": [
    {
     "data": {
      "text/plain": [
       "'Mahesh'"
      ]
     },
     "execution_count": 146,
     "metadata": {},
     "output_type": "execute_result"
    }
   ],
   "source": [
    "df1['name'][df1['salary'].idxmax()]"
   ]
  },
  {
   "cell_type": "code",
   "execution_count": 155,
   "id": "622900c4-bdf9-4cb2-86e2-a7d7c36b2bf9",
   "metadata": {},
   "outputs": [
    {
     "data": {
      "text/plain": [
       "designation        AT\n",
       "name           Suresh\n",
       "Name: 1, dtype: object"
      ]
     },
     "execution_count": 155,
     "metadata": {},
     "output_type": "execute_result"
    }
   ],
   "source": [
    "df1[['designation','name']].loc[df1['salary'].idxmin()]"
   ]
  },
  {
   "cell_type": "code",
   "execution_count": 164,
   "id": "6430e93c-9575-48a3-a1ca-7dd38e095bcb",
   "metadata": {},
   "outputs": [
    {
     "data": {
      "text/plain": [
       "115000.0"
      ]
     },
     "execution_count": 164,
     "metadata": {},
     "output_type": "execute_result"
    }
   ],
   "source": [
    "df1[df1['age']<=30]['salary'].mean()"
   ]
  },
  {
   "cell_type": "code",
   "execution_count": 173,
   "id": "9afbf0d4-47ea-4f15-928c-6a134c7962e2",
   "metadata": {},
   "outputs": [
    {
     "data": {
      "text/plain": [
       "0     40000\n",
       "1     32100\n",
       "2    190000\n",
       "Name: salary, dtype: int64"
      ]
     },
     "execution_count": 173,
     "metadata": {},
     "output_type": "execute_result"
    }
   ],
   "source": [
    "df1['salary']"
   ]
  },
  {
   "cell_type": "code",
   "execution_count": 184,
   "id": "27284649-303f-4bee-b0db-8e5a7580e338",
   "metadata": {},
   "outputs": [
    {
     "data": {
      "text/plain": [
       "115000.0"
      ]
     },
     "execution_count": 184,
     "metadata": {},
     "output_type": "execute_result"
    }
   ],
   "source": [
    "df1['salary'][df1['age']<=30].mean()"
   ]
  },
  {
   "cell_type": "code",
   "execution_count": 178,
   "id": "6b3a6f77-ec0a-4cf4-a343-18d497a2b93a",
   "metadata": {},
   "outputs": [
    {
     "data": {
      "text/html": [
       "<div>\n",
       "<style scoped>\n",
       "    .dataframe tbody tr th:only-of-type {\n",
       "        vertical-align: middle;\n",
       "    }\n",
       "\n",
       "    .dataframe tbody tr th {\n",
       "        vertical-align: top;\n",
       "    }\n",
       "\n",
       "    .dataframe thead th {\n",
       "        text-align: right;\n",
       "    }\n",
       "</style>\n",
       "<table border=\"1\" class=\"dataframe\">\n",
       "  <thead>\n",
       "    <tr style=\"text-align: right;\">\n",
       "      <th></th>\n",
       "      <th>name</th>\n",
       "      <th>designation</th>\n",
       "    </tr>\n",
       "  </thead>\n",
       "  <tbody>\n",
       "    <tr>\n",
       "      <th>0</th>\n",
       "      <td>Vinesh</td>\n",
       "      <td>SDE</td>\n",
       "    </tr>\n",
       "    <tr>\n",
       "      <th>1</th>\n",
       "      <td>Suresh</td>\n",
       "      <td>AT</td>\n",
       "    </tr>\n",
       "    <tr>\n",
       "      <th>2</th>\n",
       "      <td>Mahesh</td>\n",
       "      <td>SSE</td>\n",
       "    </tr>\n",
       "  </tbody>\n",
       "</table>\n",
       "</div>"
      ],
      "text/plain": [
       "     name designation\n",
       "0  Vinesh         SDE\n",
       "1  Suresh          AT\n",
       "2  Mahesh         SSE"
      ]
     },
     "execution_count": 183,
     "metadata": {},
     "output_type": "execute_result"
    }
   ],
   "source": [
    "df1[['name','designation']]"
   ]
  },
  {
   "cell_type": "markdown",
   "id": "7afdebef-034f-4b4f-96bf-3dba242c387e",
   "metadata": {},
   "source": [
    "## Working on Food Database"
   ]
  },
  {
   "cell_type": "code",
   "execution_count": 186,
   "id": "20da69c6-3e09-4d98-b395-98167f02a171",
   "metadata": {},
   "outputs": [
    {
     "data": {
      "text/html": [
       "<div>\n",
       "<style scoped>\n",
       "    .dataframe tbody tr th:only-of-type {\n",
       "        vertical-align: middle;\n",
       "    }\n",
       "\n",
       "    .dataframe tbody tr th {\n",
       "        vertical-align: top;\n",
       "    }\n",
       "\n",
       "    .dataframe thead th {\n",
       "        text-align: right;\n",
       "    }\n",
       "</style>\n",
       "<table border=\"1\" class=\"dataframe\">\n",
       "  <thead>\n",
       "    <tr style=\"text-align: right;\">\n",
       "      <th></th>\n",
       "      <th>name</th>\n",
       "      <th>category</th>\n",
       "      <th>color</th>\n",
       "      <th>famous in</th>\n",
       "      <th>price</th>\n",
       "      <th>quantity</th>\n",
       "      <th>unit</th>\n",
       "      <th>cuisine</th>\n",
       "    </tr>\n",
       "  </thead>\n",
       "  <tbody>\n",
       "    <tr>\n",
       "      <th>0</th>\n",
       "      <td>kachori</td>\n",
       "      <td>fast food</td>\n",
       "      <td>brown</td>\n",
       "      <td>kota</td>\n",
       "      <td>20</td>\n",
       "      <td>10</td>\n",
       "      <td>n</td>\n",
       "      <td>Indian</td>\n",
       "    </tr>\n",
       "    <tr>\n",
       "      <th>1</th>\n",
       "      <td>momos</td>\n",
       "      <td>fast food</td>\n",
       "      <td>white</td>\n",
       "      <td>north east</td>\n",
       "      <td>60</td>\n",
       "      <td>4</td>\n",
       "      <td>n</td>\n",
       "      <td>chinese</td>\n",
       "    </tr>\n",
       "    <tr>\n",
       "      <th>2</th>\n",
       "      <td>pasta</td>\n",
       "      <td>fast food</td>\n",
       "      <td>yellow</td>\n",
       "      <td>italy</td>\n",
       "      <td>120</td>\n",
       "      <td>300</td>\n",
       "      <td>gram</td>\n",
       "      <td>italian</td>\n",
       "    </tr>\n",
       "    <tr>\n",
       "      <th>3</th>\n",
       "      <td>pizza</td>\n",
       "      <td>fast food</td>\n",
       "      <td>multi-color</td>\n",
       "      <td>italy</td>\n",
       "      <td>400</td>\n",
       "      <td>2</td>\n",
       "      <td>n</td>\n",
       "      <td>italian</td>\n",
       "    </tr>\n",
       "    <tr>\n",
       "      <th>4</th>\n",
       "      <td>idli</td>\n",
       "      <td>breakfast</td>\n",
       "      <td>white</td>\n",
       "      <td>south india</td>\n",
       "      <td>20</td>\n",
       "      <td>6</td>\n",
       "      <td>n</td>\n",
       "      <td>south indian</td>\n",
       "    </tr>\n",
       "  </tbody>\n",
       "</table>\n",
       "</div>"
      ],
      "text/plain": [
       "      name   category        color    famous in  price  quantity  unit  \\\n",
       "0  kachori  fast food        brown         kota     20        10     n   \n",
       "1    momos  fast food        white   north east     60         4     n   \n",
       "2    pasta  fast food       yellow        italy    120       300  gram   \n",
       "3    pizza  fast food  multi-color        italy    400         2     n   \n",
       "4     idli  breakfast        white  south india     20         6     n   \n",
       "\n",
       "        cuisine  \n",
       "0        Indian  \n",
       "1       chinese  \n",
       "2       italian  \n",
       "3       italian  \n",
       "4  south indian  "
      ]
     },
     "execution_count": 186,
     "metadata": {},
     "output_type": "execute_result"
    }
   ],
   "source": [
    "data = pd.read_csv('food-data.csv')\n",
    "data.head()"
   ]
  },
  {
   "cell_type": "code",
   "execution_count": null,
   "id": "213f5325-7645-4b20-a34d-ed1747d19272",
   "metadata": {},
   "outputs": [],
   "source": []
  }
 ],
 "metadata": {
  "kernelspec": {
   "display_name": "Python 3 (ipykernel)",
   "language": "python",
   "name": "python3"
  },
  "language_info": {
   "codemirror_mode": {
    "name": "ipython",
    "version": 3
   },
   "file_extension": ".py",
   "mimetype": "text/x-python",
   "name": "python",
   "nbconvert_exporter": "python",
   "pygments_lexer": "ipython3",
   "version": "3.9.13"
  }
 },
 "nbformat": 4,
 "nbformat_minor": 5
}
